{
 "cells": [
  {
   "cell_type": "code",
   "execution_count": 1,
   "metadata": {
    "collapsed": false,
    "input_collapsed": false
   },
   "outputs": [],
   "source": [
    "import os, sys\n",
    "from datetime import datetime\n",
    "import numpy as np, pandas as pd\n",
    "from sklearn import cross_validation\n",
    "from sklearn.metrics import auc, roc_auc_score\n",
    "\n",
    "import xgboost as xgb\n",
    "\n",
    "sys.path.append('C:\\\\Users\\\\Pawel\\\\PycharmProjects\\\\Springleaf Marketing Response\\\\src')\n",
    "sys.path.append('C:\\\\Users\\\\Pawel\\\\PycharmProjects\\\\Springleaf Marketing Response\\\\src\\\\model_evaluation')\n",
    "from xgboost_tester import XGBoostTester\n",
    "import utilities"
   ]
  },
  {
   "cell_type": "code",
   "execution_count": 2,
   "metadata": {
    "collapsed": true,
    "input_collapsed": false
   },
   "outputs": [],
   "source": [
    "DATA_DIR = \"F:\\\\Pawel\\\\Kaggle\\\\Springleaf Marketing Response\\\\Data\"\n",
    "STANDARD_DATA_DIR = \"F:\\\\Pawel\\\\Kaggle\\\\Springleaf Marketing Response\\\\Data\\\\Train_Standard\"\n",
    "RESULTS_DIR = \"F:\\\\Pawel\\\\Kaggle\\\\Springleaf Marketing Response\\\\Data\\\\Model Results\""
   ]
  },
  {
   "cell_type": "code",
   "execution_count": 3,
   "metadata": {
    "collapsed": false
   },
   "outputs": [
    {
     "name": "stdout",
     "output_type": "stream",
     "text": [
      "<class 'pandas.core.frame.DataFrame'>\n",
      "Int64Index: 116184 entries, 175265 to 131238\n",
      "Columns: 1934 entries, VAR_0001 to MOD_0075\n",
      "dtypes: float64(482), int64(1452)\n",
      "memory usage: 1.7 GB\n"
     ]
    }
   ],
   "source": [
    "X_train = pd.read_hdf(os.path.join(STANDARD_DATA_DIR, 'train_train_features.hf5'), 'data')\n",
    "X_validation = pd.read_hdf(os.path.join(STANDARD_DATA_DIR, 'train_validation_features.hf5'), 'data')\n",
    "Y_train = pd.read_hdf(os.path.join(DATA_DIR, 'train_train_y.hf5'), 'data')\n",
    "Y_validation = pd.read_hdf(os.path.join(DATA_DIR, 'train_validation_y.hf5'), 'data')"
   ]
  },
  {
   "cell_type": "code",
   "execution_count": 4,
   "metadata": {
    "collapsed": false,
    "scrolled": false
   },
   "outputs": [
    {
     "name": "stderr",
     "output_type": "stream",
     "text": [
      "Will train until train error hasn't decreased in 10 rounds.\n",
      "Stopping. Best iteration:\n",
      "[18]\teval-auc:0.707263\ttrain-auc:0.709186\n",
      "\n",
      "Will train until train error hasn't decreased in 10 rounds.\n",
      "Stopping. Best iteration:\n",
      "[21]\teval-auc:0.709659\ttrain-auc:0.711453\n",
      "\n"
     ]
    },
    {
     "name": "stdout",
     "output_type": "stream",
     "text": [
      "{'model_id': 'XGBoost_20150920_224918', 'score': '0.706892', 'params': {'bst:max_depth': 2, 'subsample': 0.25, 'colsample_bytree': 0.05, 'silent': 1, 'eval_metric': 'auc', 'objective': 'binary:logistic', 'nthread': 2, 'bst:eta': 0.005}, 'nb_rounds': 29, 'features_model': 'standard', 'model_type': 'XGBoost', 'timestamp': datetime.datetime(2015, 9, 20, 22, 49, 18, 930000), 'nb_rounds_max': 1000}\n",
      "{'model_id': 'XGBoost_20150920_224928', 'score': '0.708120', 'params': {'bst:max_depth': 2, 'subsample': 0.5, 'colsample_bytree': 0.05, 'silent': 1, 'eval_metric': 'auc', 'objective': 'binary:logistic', 'nthread': 2, 'bst:eta': 0.005}, 'nb_rounds': 32, 'features_model': 'standard', 'model_type': 'XGBoost', 'timestamp': datetime.datetime(2015, 9, 20, 22, 49, 28, 811000), 'nb_rounds_max': 1000}"
     ]
    },
    {
     "name": "stderr",
     "output_type": "stream",
     "text": [
      "Will train until train error hasn't decreased in 10 rounds.\n",
      "Stopping. Best iteration:\n",
      "[14]\teval-auc:0.708197\ttrain-auc:0.710622\n",
      "\n"
     ]
    },
    {
     "name": "stdout",
     "output_type": "stream",
     "text": [
      "\n",
      "{'model_id': 'XGBoost_20150920_224936', 'score': '0.708059', 'params': {'bst:max_depth': 2, 'subsample': 0.75, 'colsample_bytree': 0.05, 'silent': 1, 'eval_metric': 'auc', 'objective': 'binary:logistic', 'nthread': 2, 'bst:eta': 0.005}, 'nb_rounds': 25, 'features_model': 'standard', 'model_type': 'XGBoost', 'timestamp': datetime.datetime(2015, 9, 20, 22, 49, 36, 700000), 'nb_rounds_max': 1000}"
     ]
    },
    {
     "name": "stderr",
     "output_type": "stream",
     "text": [
      "Will train until train error hasn't decreased in 10 rounds.\n",
      "Stopping. Best iteration:\n",
      "[31]\teval-auc:0.704392\ttrain-auc:0.705998\n",
      "\n"
     ]
    },
    {
     "name": "stdout",
     "output_type": "stream",
     "text": [
      "\n",
      "{'model_id': 'XGBoost_20150920_224949', 'score': '0.703850', 'params': {'bst:max_depth': 2, 'subsample': 1, 'colsample_bytree': 0.05, 'silent': 1, 'eval_metric': 'auc', 'objective': 'binary:logistic', 'nthread': 2, 'bst:eta': 0.005}, 'nb_rounds': 42, 'features_model': 'standard', 'model_type': 'XGBoost', 'timestamp': datetime.datetime(2015, 9, 20, 22, 49, 49, 872000), 'nb_rounds_max': 1000}"
     ]
    },
    {
     "name": "stderr",
     "output_type": "stream",
     "text": [
      "Will train until train error hasn't decreased in 10 rounds.\n",
      "Stopping. Best iteration:\n",
      "[45]\teval-auc:0.708089\ttrain-auc:0.710111\n",
      "\n"
     ]
    },
    {
     "name": "stdout",
     "output_type": "stream",
     "text": [
      "\n",
      "{'model_id': 'XGBoost_20150920_225009', 'score': '0.707965', 'params': {'bst:max_depth': 2, 'subsample': 0.25, 'colsample_bytree': 0.1, 'silent': 1, 'eval_metric': 'auc', 'objective': 'binary:logistic', 'nthread': 2, 'bst:eta': 0.005}, 'nb_rounds': 56, 'features_model': 'standard', 'model_type': 'XGBoost', 'timestamp': datetime.datetime(2015, 9, 20, 22, 50, 9, 686000), 'nb_rounds_max': 1000}"
     ]
    },
    {
     "name": "stderr",
     "output_type": "stream",
     "text": [
      "Will train until train error hasn't decreased in 10 rounds.\n",
      "Stopping. Best iteration:\n",
      "[29]\teval-auc:0.707791\ttrain-auc:0.709925\n",
      "\n"
     ]
    },
    {
     "name": "stdout",
     "output_type": "stream",
     "text": [
      "\n",
      "{'model_id': 'XGBoost_20150920_225026', 'score': '0.706835', 'params': {'bst:max_depth': 2, 'subsample': 0.5, 'colsample_bytree': 0.1, 'silent': 1, 'eval_metric': 'auc', 'objective': 'binary:logistic', 'nthread': 2, 'bst:eta': 0.005}, 'nb_rounds': 40, 'features_model': 'standard', 'model_type': 'XGBoost', 'timestamp': datetime.datetime(2015, 9, 20, 22, 50, 26, 123000), 'nb_rounds_max': 1000}"
     ]
    },
    {
     "name": "stderr",
     "output_type": "stream",
     "text": [
      "Will train until train error hasn't decreased in 10 rounds.\n",
      "Stopping. Best iteration:\n",
      "[29]\teval-auc:0.707888\ttrain-auc:0.709992\n",
      "\n"
     ]
    },
    {
     "name": "stdout",
     "output_type": "stream",
     "text": [
      "\n",
      "{'model_id': 'XGBoost_20150920_225043', 'score': '0.706999', 'params': {'bst:max_depth': 2, 'subsample': 0.75, 'colsample_bytree': 0.1, 'silent': 1, 'eval_metric': 'auc', 'objective': 'binary:logistic', 'nthread': 2, 'bst:eta': 0.005}, 'nb_rounds': 40, 'features_model': 'standard', 'model_type': 'XGBoost', 'timestamp': datetime.datetime(2015, 9, 20, 22, 50, 43, 19000), 'nb_rounds_max': 1000}"
     ]
    },
    {
     "name": "stderr",
     "output_type": "stream",
     "text": [
      "Will train until train error hasn't decreased in 10 rounds.\n",
      "Stopping. Best iteration:\n",
      "[8]\teval-auc:0.703230\ttrain-auc:0.705509\n",
      "\n"
     ]
    },
    {
     "name": "stdout",
     "output_type": "stream",
     "text": [
      "\n",
      "{'model_id': 'XGBoost_20150920_225050', 'score': '0.702052', 'params': {'bst:max_depth': 2, 'subsample': 1, 'colsample_bytree': 0.1, 'silent': 1, 'eval_metric': 'auc', 'objective': 'binary:logistic', 'nthread': 2, 'bst:eta': 0.005}, 'nb_rounds': 19, 'features_model': 'standard', 'model_type': 'XGBoost', 'timestamp': datetime.datetime(2015, 9, 20, 22, 50, 50, 765000), 'nb_rounds_max': 1000}"
     ]
    },
    {
     "name": "stderr",
     "output_type": "stream",
     "text": [
      "Will train until train error hasn't decreased in 10 rounds.\n",
      "Stopping. Best iteration:\n",
      "[46]\teval-auc:0.706095\ttrain-auc:0.708518\n",
      "\n"
     ]
    },
    {
     "name": "stdout",
     "output_type": "stream",
     "text": [
      "\n",
      "{'model_id': 'XGBoost_20150920_225123', 'score': '0.705798', 'params': {'bst:max_depth': 2, 'subsample': 0.25, 'colsample_bytree': 0.25, 'silent': 1, 'eval_metric': 'auc', 'objective': 'binary:logistic', 'nthread': 2, 'bst:eta': 0.005}, 'nb_rounds': 57, 'features_model': 'standard', 'model_type': 'XGBoost', 'timestamp': datetime.datetime(2015, 9, 20, 22, 51, 23, 235000), 'nb_rounds_max': 1000}"
     ]
    },
    {
     "name": "stderr",
     "output_type": "stream",
     "text": [
      "Will train until train error hasn't decreased in 10 rounds.\n",
      "Stopping. Best iteration:\n",
      "[46]\teval-auc:0.705195\ttrain-auc:0.707387\n",
      "\n"
     ]
    },
    {
     "name": "stdout",
     "output_type": "stream",
     "text": [
      "\n",
      "{'model_id': 'XGBoost_20150920_225204', 'score': '0.704857', 'params': {'bst:max_depth': 2, 'subsample': 0.5, 'colsample_bytree': 0.25, 'silent': 1, 'eval_metric': 'auc', 'objective': 'binary:logistic', 'nthread': 2, 'bst:eta': 0.005}, 'nb_rounds': 57, 'features_model': 'standard', 'model_type': 'XGBoost', 'timestamp': datetime.datetime(2015, 9, 20, 22, 52, 4, 103000), 'nb_rounds_max': 1000}\n",
      "{'model_id': 'XGBoost_20150920_230414', 'score': '0.753410', 'params': {'bst:max_depth': 2, 'subsample': 0.75, 'colsample_bytree': 0.25, 'silent': 1, 'eval_metric': 'auc', 'objective': 'binary:logistic', 'nthread': 2, 'bst:eta': 0.005}, 'nb_rounds': 1000, 'features_model': 'standard', 'model_type': 'XGBoost', 'timestamp': datetime.datetime(2015, 9, 20, 23, 4, 14, 996000), 'nb_rounds_max': 1000}"
     ]
    },
    {
     "name": "stderr",
     "output_type": "stream",
     "text": [
      "Will train until train error hasn't decreased in 10 rounds.\n",
      "Will train until train error hasn't decreased in 10 rounds.\n"
     ]
    },
    {
     "name": "stdout",
     "output_type": "stream",
     "text": [
      "\n",
      "{'model_id': 'XGBoost_20150920_230429', 'score': '0.700718', 'params': {'bst:max_depth': 2, 'subsample': 1, 'colsample_bytree': 0.25, 'silent': 1, 'eval_metric': 'auc', 'objective': 'binary:logistic', 'nthread': 2, 'bst:eta': 0.005}, 'nb_rounds': 21, 'features_model': 'standard', 'model_type': 'XGBoost', 'timestamp': datetime.datetime(2015, 9, 20, 23, 4, 29, 949000), 'nb_rounds_max': 1000}"
     ]
    },
    {
     "name": "stderr",
     "output_type": "stream",
     "text": [
      "Stopping. Best iteration:\n",
      "[10]\teval-auc:0.701774\ttrain-auc:0.703794\n",
      "\n",
      "Will train until train error hasn't decreased in 10 rounds.\n",
      "Stopping. Best iteration:\n",
      "[32]\teval-auc:0.705269\ttrain-auc:0.706761\n",
      "\n"
     ]
    },
    {
     "name": "stdout",
     "output_type": "stream",
     "text": [
      "\n",
      "{'model_id': 'XGBoost_20150920_230525', 'score': '0.704724', 'params': {'bst:max_depth': 2, 'subsample': 0.25, 'colsample_bytree': 0.75, 'silent': 1, 'eval_metric': 'auc', 'objective': 'binary:logistic', 'nthread': 2, 'bst:eta': 0.005}, 'nb_rounds': 43, 'features_model': 'standard', 'model_type': 'XGBoost', 'timestamp': datetime.datetime(2015, 9, 20, 23, 5, 25, 800000), 'nb_rounds_max': 1000}"
     ]
    },
    {
     "name": "stderr",
     "output_type": "stream",
     "text": [
      "Will train until train error hasn't decreased in 10 rounds.\n",
      "Stopping. Best iteration:\n",
      "[31]\teval-auc:0.700796\ttrain-auc:0.702312\n",
      "\n"
     ]
    },
    {
     "name": "stdout",
     "output_type": "stream",
     "text": [
      "\n",
      "{'model_id': 'XGBoost_20150920_230640', 'score': '0.700766', 'params': {'bst:max_depth': 2, 'subsample': 0.5, 'colsample_bytree': 0.75, 'silent': 1, 'eval_metric': 'auc', 'objective': 'binary:logistic', 'nthread': 2, 'bst:eta': 0.005}, 'nb_rounds': 42, 'features_model': 'standard', 'model_type': 'XGBoost', 'timestamp': datetime.datetime(2015, 9, 20, 23, 6, 40, 232000), 'nb_rounds_max': 1000}\n",
      "{'model_id': 'XGBoost_20150920_233629', 'score': '0.754235', 'params': {'bst:max_depth': 2, 'subsample': 0.75, 'colsample_bytree': 0.75, 'silent': 1, 'eval_metric': 'auc', 'objective': 'binary:logistic', 'nthread': 2, 'bst:eta': 0.005}, 'nb_rounds': 1000, 'features_model': 'standard', 'model_type': 'XGBoost', 'timestamp': datetime.datetime(2015, 9, 20, 23, 36, 29, 145000), 'nb_rounds_max': 1000}"
     ]
    },
    {
     "name": "stderr",
     "output_type": "stream",
     "text": [
      "Will train until train error hasn't decreased in 10 rounds.\n",
      "Will train until train error hasn't decreased in 10 rounds.\n"
     ]
    },
    {
     "name": "stdout",
     "output_type": "stream",
     "text": [
      "\n",
      "{'model_id': 'XGBoost_20150920_233724', 'score': '0.695666', 'params': {'bst:max_depth': 2, 'subsample': 1, 'colsample_bytree': 0.75, 'silent': 1, 'eval_metric': 'auc', 'objective': 'binary:logistic', 'nthread': 2, 'bst:eta': 0.005}, 'nb_rounds': 31, 'features_model': 'standard', 'model_type': 'XGBoost', 'timestamp': datetime.datetime(2015, 9, 20, 23, 37, 24, 241000), 'nb_rounds_max': 1000}\n",
      "{'model_id': 'XGBoost_20150921_000546', 'score': '0.756133', 'params': {'bst:max_depth': 2, 'subsample': 0.25, 'colsample_bytree': 1, 'silent': 1, 'eval_metric': 'auc', 'objective': 'binary:logistic', 'nthread': 2, 'bst:eta': 0.005}, 'nb_rounds': 1000, 'features_model': 'standard', 'model_type': 'XGBoost', 'timestamp': datetime.datetime(2015, 9, 21, 0, 5, 46, 311000), 'nb_rounds_max': 1000}"
     ]
    },
    {
     "name": "stderr",
     "output_type": "stream",
     "text": [
      "Stopping. Best iteration:\n",
      "[20]\teval-auc:0.696008\ttrain-auc:0.697795\n",
      "\n",
      "Will train until train error hasn't decreased in 10 rounds.\n",
      "Will train until train error hasn't decreased in 10 rounds.\n"
     ]
    },
    {
     "name": "stdout",
     "output_type": "stream",
     "text": [
      "\n",
      "{'model_id': 'XGBoost_20150921_004345', 'score': '0.754890', 'params': {'bst:max_depth': 2, 'subsample': 0.5, 'colsample_bytree': 1, 'silent': 1, 'eval_metric': 'auc', 'objective': 'binary:logistic', 'nthread': 2, 'bst:eta': 0.005}, 'nb_rounds': 1000, 'features_model': 'standard', 'model_type': 'XGBoost', 'timestamp': datetime.datetime(2015, 9, 21, 0, 43, 45, 492000), 'nb_rounds_max': 1000}\n",
      "{'model_id': 'XGBoost_20150921_012257', 'score': '0.754412', 'params': {'bst:max_depth': 2, 'subsample': 0.75, 'colsample_bytree': 1, 'silent': 1, 'eval_metric': 'auc', 'objective': 'binary:logistic', 'nthread': 2, 'bst:eta': 0.005}, 'nb_rounds': 1000, 'features_model': 'standard', 'model_type': 'XGBoost', 'timestamp': datetime.datetime(2015, 9, 21, 1, 22, 57, 732000), 'nb_rounds_max': 1000}"
     ]
    },
    {
     "name": "stderr",
     "output_type": "stream",
     "text": [
      "Will train until train error hasn't decreased in 10 rounds.\n",
      "Will train until train error hasn't decreased in 10 rounds.\n"
     ]
    },
    {
     "name": "stdout",
     "output_type": "stream",
     "text": [
      "\n",
      "{'model_id': 'XGBoost_20150921_012324', 'score': '0.668296', 'params': {'bst:max_depth': 2, 'subsample': 1, 'colsample_bytree': 1, 'silent': 1, 'eval_metric': 'auc', 'objective': 'binary:logistic', 'nthread': 2, 'bst:eta': 0.005}, 'nb_rounds': 12, 'features_model': 'standard', 'model_type': 'XGBoost', 'timestamp': datetime.datetime(2015, 9, 21, 1, 23, 24, 789000), 'nb_rounds_max': 1000}"
     ]
    },
    {
     "name": "stderr",
     "output_type": "stream",
     "text": [
      "Stopping. Best iteration:\n",
      "[1]\teval-auc:0.668296\ttrain-auc:0.668580\n",
      "\n",
      "Will train until train error hasn't decreased in 10 rounds.\n",
      "Stopping. Best iteration:\n",
      "[18]\teval-auc:0.708287\ttrain-auc:0.710080\n",
      "\n"
     ]
    },
    {
     "name": "stdout",
     "output_type": "stream",
     "text": [
      "\n",
      "{'model_id': 'XGBoost_20150921_012332', 'score': '0.708113', 'params': {'bst:max_depth': 2, 'subsample': 0.25, 'colsample_bytree': 0.05, 'silent': 1, 'eval_metric': 'auc', 'objective': 'binary:logistic', 'nthread': 2, 'bst:eta': 0.01}, 'nb_rounds': 29, 'features_model': 'standard', 'model_type': 'XGBoost', 'timestamp': datetime.datetime(2015, 9, 21, 1, 23, 32, 879000), 'nb_rounds_max': 1000}"
     ]
    },
    {
     "name": "stderr",
     "output_type": "stream",
     "text": [
      "Will train until train error hasn't decreased in 10 rounds.\n",
      "Stopping. Best iteration:\n",
      "[21]\teval-auc:0.709864\ttrain-auc:0.711686\n",
      "\n"
     ]
    },
    {
     "name": "stdout",
     "output_type": "stream",
     "text": [
      "\n",
      "{'model_id': 'XGBoost_20150921_012342', 'score': '0.708562', 'params': {'bst:max_depth': 2, 'subsample': 0.5, 'colsample_bytree': 0.05, 'silent': 1, 'eval_metric': 'auc', 'objective': 'binary:logistic', 'nthread': 2, 'bst:eta': 0.01}, 'nb_rounds': 32, 'features_model': 'standard', 'model_type': 'XGBoost', 'timestamp': datetime.datetime(2015, 9, 21, 1, 23, 42, 738000), 'nb_rounds_max': 1000}"
     ]
    },
    {
     "name": "stderr",
     "output_type": "stream",
     "text": [
      "Will train until train error hasn't decreased in 10 rounds.\n",
      "Stopping. Best iteration:\n",
      "[18]\teval-auc:0.708697\ttrain-auc:0.710775\n",
      "\n"
     ]
    },
    {
     "name": "stdout",
     "output_type": "stream",
     "text": [
      "\n",
      "{'model_id': 'XGBoost_20150921_012351', 'score': '0.707958', 'params': {'bst:max_depth': 2, 'subsample': 0.75, 'colsample_bytree': 0.05, 'silent': 1, 'eval_metric': 'auc', 'objective': 'binary:logistic', 'nthread': 2, 'bst:eta': 0.01}, 'nb_rounds': 29, 'features_model': 'standard', 'model_type': 'XGBoost', 'timestamp': datetime.datetime(2015, 9, 21, 1, 23, 51, 663000), 'nb_rounds_max': 1000}"
     ]
    },
    {
     "name": "stderr",
     "output_type": "stream",
     "text": [
      "Will train until train error hasn't decreased in 10 rounds.\n",
      "Stopping. Best iteration:\n",
      "[21]\teval-auc:0.705641\ttrain-auc:0.707338\n",
      "\n"
     ]
    },
    {
     "name": "stdout",
     "output_type": "stream",
     "text": [
      "\n",
      "{'model_id': 'XGBoost_20150921_012401', 'score': '0.705255', 'params': {'bst:max_depth': 2, 'subsample': 1, 'colsample_bytree': 0.05, 'silent': 1, 'eval_metric': 'auc', 'objective': 'binary:logistic', 'nthread': 2, 'bst:eta': 0.01}, 'nb_rounds': 32, 'features_model': 'standard', 'model_type': 'XGBoost', 'timestamp': datetime.datetime(2015, 9, 21, 1, 24, 1, 329000), 'nb_rounds_max': 1000}"
     ]
    },
    {
     "name": "stderr",
     "output_type": "stream",
     "text": [
      "Will train until train error hasn't decreased in 10 rounds.\n",
      "Stopping. Best iteration:\n",
      "[58]\teval-auc:0.710518\ttrain-auc:0.712671\n",
      "\n"
     ]
    },
    {
     "name": "stdout",
     "output_type": "stream",
     "text": [
      "\n",
      "{'model_id': 'XGBoost_20150921_012425', 'score': '0.710027', 'params': {'bst:max_depth': 2, 'subsample': 0.25, 'colsample_bytree': 0.1, 'silent': 1, 'eval_metric': 'auc', 'objective': 'binary:logistic', 'nthread': 2, 'bst:eta': 0.01}, 'nb_rounds': 69, 'features_model': 'standard', 'model_type': 'XGBoost', 'timestamp': datetime.datetime(2015, 9, 21, 1, 24, 25, 561000), 'nb_rounds_max': 1000}"
     ]
    },
    {
     "name": "stderr",
     "output_type": "stream",
     "text": [
      "Will train until train error hasn't decreased in 10 rounds.\n",
      "Stopping. Best iteration:\n",
      "[61]\teval-auc:0.710066\ttrain-auc:0.712944\n",
      "\n"
     ]
    },
    {
     "name": "stdout",
     "output_type": "stream",
     "text": [
      "\n",
      "{'model_id': 'XGBoost_20150921_012455', 'score': '0.709920', 'params': {'bst:max_depth': 2, 'subsample': 0.5, 'colsample_bytree': 0.1, 'silent': 1, 'eval_metric': 'auc', 'objective': 'binary:logistic', 'nthread': 2, 'bst:eta': 0.01}, 'nb_rounds': 72, 'features_model': 'standard', 'model_type': 'XGBoost', 'timestamp': datetime.datetime(2015, 9, 21, 1, 24, 55, 558000), 'nb_rounds_max': 1000}"
     ]
    },
    {
     "name": "stderr",
     "output_type": "stream",
     "text": [
      "Will train until train error hasn't decreased in 10 rounds.\n",
      "Stopping. Best iteration:\n",
      "[29]\teval-auc:0.707886\ttrain-auc:0.710251\n",
      "\n"
     ]
    },
    {
     "name": "stdout",
     "output_type": "stream",
     "text": [
      "\n",
      "{'model_id': 'XGBoost_20150921_012512', 'score': '0.707673', 'params': {'bst:max_depth': 2, 'subsample': 0.75, 'colsample_bytree': 0.1, 'silent': 1, 'eval_metric': 'auc', 'objective': 'binary:logistic', 'nthread': 2, 'bst:eta': 0.01}, 'nb_rounds': 40, 'features_model': 'standard', 'model_type': 'XGBoost', 'timestamp': datetime.datetime(2015, 9, 21, 1, 25, 12, 89000), 'nb_rounds_max': 1000}"
     ]
    },
    {
     "name": "stderr",
     "output_type": "stream",
     "text": [
      "Will train until train error hasn't decreased in 10 rounds.\n",
      "Stopping. Best iteration:\n",
      "[8]\teval-auc:0.703765\ttrain-auc:0.705904\n",
      "\n"
     ]
    },
    {
     "name": "stdout",
     "output_type": "stream",
     "text": [
      "\n",
      "{'model_id': 'XGBoost_20150921_012519', 'score': '0.701462', 'params': {'bst:max_depth': 2, 'subsample': 1, 'colsample_bytree': 0.1, 'silent': 1, 'eval_metric': 'auc', 'objective': 'binary:logistic', 'nthread': 2, 'bst:eta': 0.01}, 'nb_rounds': 19, 'features_model': 'standard', 'model_type': 'XGBoost', 'timestamp': datetime.datetime(2015, 9, 21, 1, 25, 19, 810000), 'nb_rounds_max': 1000}\n",
      "{'model_id': 'XGBoost_20150921_013515', 'score': '0.766975', 'params': {'bst:max_depth': 2, 'subsample': 0.25, 'colsample_bytree': 0.25, 'silent': 1, 'eval_metric': 'auc', 'objective': 'binary:logistic', 'nthread': 2, 'bst:eta': 0.01}, 'nb_rounds': 1000, 'features_model': 'standard', 'model_type': 'XGBoost', 'timestamp': datetime.datetime(2015, 9, 21, 1, 35, 15, 452000), 'nb_rounds_max': 1000}"
     ]
    },
    {
     "name": "stderr",
     "output_type": "stream",
     "text": [
      "Will train until train error hasn't decreased in 10 rounds.\n",
      "Will train until train error hasn't decreased in 10 rounds.\n"
     ]
    },
    {
     "name": "stdout",
     "output_type": "stream",
     "text": [
      "\n",
      "{'model_id': 'XGBoost_20150921_014747', 'score': '0.766134', 'params': {'bst:max_depth': 2, 'subsample': 0.5, 'colsample_bytree': 0.25, 'silent': 1, 'eval_metric': 'auc', 'objective': 'binary:logistic', 'nthread': 2, 'bst:eta': 0.01}, 'nb_rounds': 1000, 'features_model': 'standard', 'model_type': 'XGBoost', 'timestamp': datetime.datetime(2015, 9, 21, 1, 47, 47, 804000), 'nb_rounds_max': 1000}"
     ]
    },
    {
     "name": "stderr",
     "output_type": "stream",
     "text": [
      "Will train until train error hasn't decreased in 10 rounds.\n",
      "Stopping. Best iteration:\n",
      "[37]\teval-auc:0.704149\ttrain-auc:0.706724\n",
      "\n"
     ]
    },
    {
     "name": "stdout",
     "output_type": "stream",
     "text": [
      "\n",
      "{'model_id': 'XGBoost_20150921_014822', 'score': '0.704150', 'params': {'bst:max_depth': 2, 'subsample': 0.75, 'colsample_bytree': 0.25, 'silent': 1, 'eval_metric': 'auc', 'objective': 'binary:logistic', 'nthread': 2, 'bst:eta': 0.01}, 'nb_rounds': 48, 'features_model': 'standard', 'model_type': 'XGBoost', 'timestamp': datetime.datetime(2015, 9, 21, 1, 48, 22, 563000), 'nb_rounds_max': 1000}"
     ]
    },
    {
     "name": "stderr",
     "output_type": "stream",
     "text": [
      "Will train until train error hasn't decreased in 10 rounds.\n",
      "Stopping. Best iteration:\n",
      "[13]\teval-auc:0.702885\ttrain-auc:0.704940\n",
      "\n"
     ]
    },
    {
     "name": "stdout",
     "output_type": "stream",
     "text": [
      "\n",
      "{'model_id': 'XGBoost_20150921_014840', 'score': '0.702206', 'params': {'bst:max_depth': 2, 'subsample': 1, 'colsample_bytree': 0.25, 'silent': 1, 'eval_metric': 'auc', 'objective': 'binary:logistic', 'nthread': 2, 'bst:eta': 0.01}, 'nb_rounds': 24, 'features_model': 'standard', 'model_type': 'XGBoost', 'timestamp': datetime.datetime(2015, 9, 21, 1, 48, 40, 399000), 'nb_rounds_max': 1000}\n",
      "{'model_id': 'XGBoost_20150921_021104', 'score': '0.768072', 'params': {'bst:max_depth': 2, 'subsample': 0.25, 'colsample_bytree': 0.75, 'silent': 1, 'eval_metric': 'auc', 'objective': 'binary:logistic', 'nthread': 2, 'bst:eta': 0.01}, 'nb_rounds': 1000, 'features_model': 'standard', 'model_type': 'XGBoost', 'timestamp': datetime.datetime(2015, 9, 21, 2, 11, 4, 537000), 'nb_rounds_max': 1000}"
     ]
    },
    {
     "name": "stderr",
     "output_type": "stream",
     "text": [
      "Will train until train error hasn't decreased in 10 rounds.\n",
      "Will train until train error hasn't decreased in 10 rounds.\n"
     ]
    },
    {
     "name": "stdout",
     "output_type": "stream",
     "text": [
      "\n",
      "{'model_id': 'XGBoost_20150921_024005', 'score': '0.767150', 'params': {'bst:max_depth': 2, 'subsample': 0.5, 'colsample_bytree': 0.75, 'silent': 1, 'eval_metric': 'auc', 'objective': 'binary:logistic', 'nthread': 2, 'bst:eta': 0.01}, 'nb_rounds': 1000, 'features_model': 'standard', 'model_type': 'XGBoost', 'timestamp': datetime.datetime(2015, 9, 21, 2, 40, 5, 694000), 'nb_rounds_max': 1000}\n",
      "{'model_id': 'XGBoost_20150921_030923', 'score': '0.766758', 'params': {'bst:max_depth': 2, 'subsample': 0.75, 'colsample_bytree': 0.75, 'silent': 1, 'eval_metric': 'auc', 'objective': 'binary:logistic', 'nthread': 2, 'bst:eta': 0.01}, 'nb_rounds': 1000, 'features_model': 'standard', 'model_type': 'XGBoost', 'timestamp': datetime.datetime(2015, 9, 21, 3, 9, 23, 487000), 'nb_rounds_max': 1000}"
     ]
    },
    {
     "name": "stderr",
     "output_type": "stream",
     "text": [
      "Will train until train error hasn't decreased in 10 rounds.\n",
      "Will train until train error hasn't decreased in 10 rounds.\n"
     ]
    },
    {
     "name": "stdout",
     "output_type": "stream",
     "text": [
      "\n",
      "{'model_id': 'XGBoost_20150921_033823', 'score': '0.766199', 'params': {'bst:max_depth': 2, 'subsample': 1, 'colsample_bytree': 0.75, 'silent': 1, 'eval_metric': 'auc', 'objective': 'binary:logistic', 'nthread': 2, 'bst:eta': 0.01}, 'nb_rounds': 1000, 'features_model': 'standard', 'model_type': 'XGBoost', 'timestamp': datetime.datetime(2015, 9, 21, 3, 38, 23, 78000), 'nb_rounds_max': 1000}\n",
      "{'model_id': 'XGBoost_20150921_040612', 'score': '0.768183', 'params': {'bst:max_depth': 2, 'subsample': 0.25, 'colsample_bytree': 1, 'silent': 1, 'eval_metric': 'auc', 'objective': 'binary:logistic', 'nthread': 2, 'bst:eta': 0.01}, 'nb_rounds': 1000, 'features_model': 'standard', 'model_type': 'XGBoost', 'timestamp': datetime.datetime(2015, 9, 21, 4, 6, 12, 859000), 'nb_rounds_max': 1000}"
     ]
    },
    {
     "name": "stderr",
     "output_type": "stream",
     "text": [
      "Will train until train error hasn't decreased in 10 rounds.\n",
      "Will train until train error hasn't decreased in 10 rounds.\n"
     ]
    },
    {
     "name": "stdout",
     "output_type": "stream",
     "text": [
      "\n",
      "{'model_id': 'XGBoost_20150921_044343', 'score': '0.767434', 'params': {'bst:max_depth': 2, 'subsample': 0.5, 'colsample_bytree': 1, 'silent': 1, 'eval_metric': 'auc', 'objective': 'binary:logistic', 'nthread': 2, 'bst:eta': 0.01}, 'nb_rounds': 1000, 'features_model': 'standard', 'model_type': 'XGBoost', 'timestamp': datetime.datetime(2015, 9, 21, 4, 43, 43, 549000), 'nb_rounds_max': 1000}\n",
      "{'model_id': 'XGBoost_20150921_052128', 'score': '0.766923', 'params': {'bst:max_depth': 2, 'subsample': 0.75, 'colsample_bytree': 1, 'silent': 1, 'eval_metric': 'auc', 'objective': 'binary:logistic', 'nthread': 2, 'bst:eta': 0.01}, 'nb_rounds': 1000, 'features_model': 'standard', 'model_type': 'XGBoost', 'timestamp': datetime.datetime(2015, 9, 21, 5, 21, 28, 645000), 'nb_rounds_max': 1000}"
     ]
    },
    {
     "name": "stderr",
     "output_type": "stream",
     "text": [
      "Will train until train error hasn't decreased in 10 rounds.\n",
      "Will train until train error hasn't decreased in 10 rounds.\n"
     ]
    },
    {
     "name": "stdout",
     "output_type": "stream",
     "text": [
      "\n",
      "{'model_id': 'XGBoost_20150921_055855', 'score': '0.766386', 'params': {'bst:max_depth': 2, 'subsample': 1, 'colsample_bytree': 1, 'silent': 1, 'eval_metric': 'auc', 'objective': 'binary:logistic', 'nthread': 2, 'bst:eta': 0.01}, 'nb_rounds': 1000, 'features_model': 'standard', 'model_type': 'XGBoost', 'timestamp': datetime.datetime(2015, 9, 21, 5, 58, 55, 313000), 'nb_rounds_max': 1000}\n",
      "{'model_id': 'XGBoost_20150921_060336', 'score': '0.778609', 'params': {'bst:max_depth': 2, 'subsample': 0.25, 'colsample_bytree': 0.05, 'silent': 1, 'eval_metric': 'auc', 'objective': 'binary:logistic', 'nthread': 2, 'bst:eta': 0.05}, 'nb_rounds': 1000, 'features_model': 'standard', 'model_type': 'XGBoost', 'timestamp': datetime.datetime(2015, 9, 21, 6, 3, 36, 550000), 'nb_rounds_max': 1000}"
     ]
    },
    {
     "name": "stderr",
     "output_type": "stream",
     "text": [
      "Will train until train error hasn't decreased in 10 rounds.\n",
      "Will train until train error hasn't decreased in 10 rounds.\n"
     ]
    },
    {
     "name": "stdout",
     "output_type": "stream",
     "text": [
      "\n",
      "{'model_id': 'XGBoost_20150921_060848', 'score': '0.778535', 'params': {'bst:max_depth': 2, 'subsample': 0.5, 'colsample_bytree': 0.05, 'silent': 1, 'eval_metric': 'auc', 'objective': 'binary:logistic', 'nthread': 2, 'bst:eta': 0.05}, 'nb_rounds': 1000, 'features_model': 'standard', 'model_type': 'XGBoost', 'timestamp': datetime.datetime(2015, 9, 21, 6, 8, 48, 394000), 'nb_rounds_max': 1000}\n",
      "{'model_id': 'XGBoost_20150921_061402', 'score': '0.778779', 'params': {'bst:max_depth': 2, 'subsample': 0.75, 'colsample_bytree': 0.05, 'silent': 1, 'eval_metric': 'auc', 'objective': 'binary:logistic', 'nthread': 2, 'bst:eta': 0.05}, 'nb_rounds': 1000, 'features_model': 'standard', 'model_type': 'XGBoost', 'timestamp': datetime.datetime(2015, 9, 21, 6, 14, 2, 901000), 'nb_rounds_max': 1000}"
     ]
    },
    {
     "name": "stderr",
     "output_type": "stream",
     "text": [
      "Will train until train error hasn't decreased in 10 rounds.\n",
      "Will train until train error hasn't decreased in 10 rounds.\n"
     ]
    },
    {
     "name": "stdout",
     "output_type": "stream",
     "text": [
      "\n",
      "{'model_id': 'XGBoost_20150921_061909', 'score': '0.778210', 'params': {'bst:max_depth': 2, 'subsample': 1, 'colsample_bytree': 0.05, 'silent': 1, 'eval_metric': 'auc', 'objective': 'binary:logistic', 'nthread': 2, 'bst:eta': 0.05}, 'nb_rounds': 1000, 'features_model': 'standard', 'model_type': 'XGBoost', 'timestamp': datetime.datetime(2015, 9, 21, 6, 19, 9, 964000), 'nb_rounds_max': 1000}\n",
      "{'model_id': 'XGBoost_20150921_062511', 'score': '0.778410', 'params': {'bst:max_depth': 2, 'subsample': 0.25, 'colsample_bytree': 0.1, 'silent': 1, 'eval_metric': 'auc', 'objective': 'binary:logistic', 'nthread': 2, 'bst:eta': 0.05}, 'nb_rounds': 1000, 'features_model': 'standard', 'model_type': 'XGBoost', 'timestamp': datetime.datetime(2015, 9, 21, 6, 25, 11, 979000), 'nb_rounds_max': 1000}"
     ]
    },
    {
     "name": "stderr",
     "output_type": "stream",
     "text": [
      "Will train until train error hasn't decreased in 10 rounds.\n",
      "Will train until train error hasn't decreased in 10 rounds.\n"
     ]
    },
    {
     "name": "stdout",
     "output_type": "stream",
     "text": [
      "\n",
      "{'model_id': 'XGBoost_20150921_063205', 'score': '0.779706', 'params': {'bst:max_depth': 2, 'subsample': 0.5, 'colsample_bytree': 0.1, 'silent': 1, 'eval_metric': 'auc', 'objective': 'binary:logistic', 'nthread': 2, 'bst:eta': 0.05}, 'nb_rounds': 1000, 'features_model': 'standard', 'model_type': 'XGBoost', 'timestamp': datetime.datetime(2015, 9, 21, 6, 32, 5, 837000), 'nb_rounds_max': 1000}\n",
      "{'model_id': 'XGBoost_20150921_063900', 'score': '0.779373', 'params': {'bst:max_depth': 2, 'subsample': 0.75, 'colsample_bytree': 0.1, 'silent': 1, 'eval_metric': 'auc', 'objective': 'binary:logistic', 'nthread': 2, 'bst:eta': 0.05}, 'nb_rounds': 1000, 'features_model': 'standard', 'model_type': 'XGBoost', 'timestamp': datetime.datetime(2015, 9, 21, 6, 39, 0, 748000), 'nb_rounds_max': 1000}"
     ]
    },
    {
     "name": "stderr",
     "output_type": "stream",
     "text": [
      "Will train until train error hasn't decreased in 10 rounds.\n",
      "Will train until train error hasn't decreased in 10 rounds.\n"
     ]
    },
    {
     "name": "stdout",
     "output_type": "stream",
     "text": [
      "\n",
      "{'model_id': 'XGBoost_20150921_064549', 'score': '0.779188', 'params': {'bst:max_depth': 2, 'subsample': 1, 'colsample_bytree': 0.1, 'silent': 1, 'eval_metric': 'auc', 'objective': 'binary:logistic', 'nthread': 2, 'bst:eta': 0.05}, 'nb_rounds': 1000, 'features_model': 'standard', 'model_type': 'XGBoost', 'timestamp': datetime.datetime(2015, 9, 21, 6, 45, 49, 719000), 'nb_rounds_max': 1000}\n",
      "{'model_id': 'XGBoost_20150921_065522', 'score': '0.780205', 'params': {'bst:max_depth': 2, 'subsample': 0.25, 'colsample_bytree': 0.25, 'silent': 1, 'eval_metric': 'auc', 'objective': 'binary:logistic', 'nthread': 2, 'bst:eta': 0.05}, 'nb_rounds': 1000, 'features_model': 'standard', 'model_type': 'XGBoost', 'timestamp': datetime.datetime(2015, 9, 21, 6, 55, 22, 766000), 'nb_rounds_max': 1000}"
     ]
    },
    {
     "name": "stderr",
     "output_type": "stream",
     "text": [
      "Will train until train error hasn't decreased in 10 rounds.\n",
      "Will train until train error hasn't decreased in 10 rounds.\n"
     ]
    },
    {
     "name": "stdout",
     "output_type": "stream",
     "text": [
      "\n",
      "{'model_id': 'XGBoost_20150921_070723', 'score': '0.780201', 'params': {'bst:max_depth': 2, 'subsample': 0.5, 'colsample_bytree': 0.25, 'silent': 1, 'eval_metric': 'auc', 'objective': 'binary:logistic', 'nthread': 2, 'bst:eta': 0.05}, 'nb_rounds': 1000, 'features_model': 'standard', 'model_type': 'XGBoost', 'timestamp': datetime.datetime(2015, 9, 21, 7, 7, 23, 368000), 'nb_rounds_max': 1000}\n",
      "{'model_id': 'XGBoost_20150921_071927', 'score': '0.779853', 'params': {'bst:max_depth': 2, 'subsample': 0.75, 'colsample_bytree': 0.25, 'silent': 1, 'eval_metric': 'auc', 'objective': 'binary:logistic', 'nthread': 2, 'bst:eta': 0.05}, 'nb_rounds': 1000, 'features_model': 'standard', 'model_type': 'XGBoost', 'timestamp': datetime.datetime(2015, 9, 21, 7, 19, 27, 649000), 'nb_rounds_max': 1000}"
     ]
    },
    {
     "name": "stderr",
     "output_type": "stream",
     "text": [
      "Will train until train error hasn't decreased in 10 rounds.\n",
      "Will train until train error hasn't decreased in 10 rounds.\n"
     ]
    },
    {
     "name": "stdout",
     "output_type": "stream",
     "text": [
      "\n",
      "{'model_id': 'XGBoost_20150921_073124', 'score': '0.779597', 'params': {'bst:max_depth': 2, 'subsample': 1, 'colsample_bytree': 0.25, 'silent': 1, 'eval_metric': 'auc', 'objective': 'binary:logistic', 'nthread': 2, 'bst:eta': 0.05}, 'nb_rounds': 1000, 'features_model': 'standard', 'model_type': 'XGBoost', 'timestamp': datetime.datetime(2015, 9, 21, 7, 31, 24, 136000), 'nb_rounds_max': 1000}\n",
      "{'model_id': 'XGBoost_20150921_075315', 'score': '0.779883', 'params': {'bst:max_depth': 2, 'subsample': 0.25, 'colsample_bytree': 0.75, 'silent': 1, 'eval_metric': 'auc', 'objective': 'binary:logistic', 'nthread': 2, 'bst:eta': 0.05}, 'nb_rounds': 1000, 'features_model': 'standard', 'model_type': 'XGBoost', 'timestamp': datetime.datetime(2015, 9, 21, 7, 53, 15, 433000), 'nb_rounds_max': 1000}"
     ]
    },
    {
     "name": "stderr",
     "output_type": "stream",
     "text": [
      "Will train until train error hasn't decreased in 10 rounds.\n",
      "Will train until train error hasn't decreased in 10 rounds.\n"
     ]
    },
    {
     "name": "stdout",
     "output_type": "stream",
     "text": [
      "\n",
      "{'model_id': 'XGBoost_20150921_082223', 'score': '0.780657', 'params': {'bst:max_depth': 2, 'subsample': 0.5, 'colsample_bytree': 0.75, 'silent': 1, 'eval_metric': 'auc', 'objective': 'binary:logistic', 'nthread': 2, 'bst:eta': 0.05}, 'nb_rounds': 1000, 'features_model': 'standard', 'model_type': 'XGBoost', 'timestamp': datetime.datetime(2015, 9, 21, 8, 22, 23, 160000), 'nb_rounds_max': 1000}\n",
      "{'model_id': 'XGBoost_20150921_085235', 'score': '0.780453', 'params': {'bst:max_depth': 2, 'subsample': 0.75, 'colsample_bytree': 0.75, 'silent': 1, 'eval_metric': 'auc', 'objective': 'binary:logistic', 'nthread': 2, 'bst:eta': 0.05}, 'nb_rounds': 1000, 'features_model': 'standard', 'model_type': 'XGBoost', 'timestamp': datetime.datetime(2015, 9, 21, 8, 52, 35, 20000), 'nb_rounds_max': 1000}"
     ]
    },
    {
     "name": "stderr",
     "output_type": "stream",
     "text": [
      "Will train until train error hasn't decreased in 10 rounds.\n",
      "Will train until train error hasn't decreased in 10 rounds.\n"
     ]
    },
    {
     "name": "stdout",
     "output_type": "stream",
     "text": [
      "\n",
      "{'model_id': 'XGBoost_20150921_092129', 'score': '0.779789', 'params': {'bst:max_depth': 2, 'subsample': 1, 'colsample_bytree': 0.75, 'silent': 1, 'eval_metric': 'auc', 'objective': 'binary:logistic', 'nthread': 2, 'bst:eta': 0.05}, 'nb_rounds': 1000, 'features_model': 'standard', 'model_type': 'XGBoost', 'timestamp': datetime.datetime(2015, 9, 21, 9, 21, 29, 258000), 'nb_rounds_max': 1000}\n",
      "{'model_id': 'XGBoost_20150921_094909', 'score': '0.779980', 'params': {'bst:max_depth': 2, 'subsample': 0.25, 'colsample_bytree': 1, 'silent': 1, 'eval_metric': 'auc', 'objective': 'binary:logistic', 'nthread': 2, 'bst:eta': 0.05}, 'nb_rounds': 1000, 'features_model': 'standard', 'model_type': 'XGBoost', 'timestamp': datetime.datetime(2015, 9, 21, 9, 49, 9, 769000), 'nb_rounds_max': 1000}"
     ]
    },
    {
     "name": "stderr",
     "output_type": "stream",
     "text": [
      "Will train until train error hasn't decreased in 10 rounds.\n",
      "Will train until train error hasn't decreased in 10 rounds.\n"
     ]
    },
    {
     "name": "stdout",
     "output_type": "stream",
     "text": [
      "\n",
      "{'model_id': 'XGBoost_20150921_102634', 'score': '0.780638', 'params': {'bst:max_depth': 2, 'subsample': 0.5, 'colsample_bytree': 1, 'silent': 1, 'eval_metric': 'auc', 'objective': 'binary:logistic', 'nthread': 2, 'bst:eta': 0.05}, 'nb_rounds': 1000, 'features_model': 'standard', 'model_type': 'XGBoost', 'timestamp': datetime.datetime(2015, 9, 21, 10, 26, 34, 749000), 'nb_rounds_max': 1000}\n",
      "{'model_id': 'XGBoost_20150921_110418', 'score': '0.780587', 'params': {'bst:max_depth': 2, 'subsample': 0.75, 'colsample_bytree': 1, 'silent': 1, 'eval_metric': 'auc', 'objective': 'binary:logistic', 'nthread': 2, 'bst:eta': 0.05}, 'nb_rounds': 1000, 'features_model': 'standard', 'model_type': 'XGBoost', 'timestamp': datetime.datetime(2015, 9, 21, 11, 4, 18, 548000), 'nb_rounds_max': 1000}"
     ]
    },
    {
     "name": "stderr",
     "output_type": "stream",
     "text": [
      "Will train until train error hasn't decreased in 10 rounds.\n",
      "Will train until train error hasn't decreased in 10 rounds.\n"
     ]
    },
    {
     "name": "stdout",
     "output_type": "stream",
     "text": [
      "\n",
      "{'model_id': 'XGBoost_20150921_114144', 'score': '0.779568', 'params': {'bst:max_depth': 2, 'subsample': 1, 'colsample_bytree': 1, 'silent': 1, 'eval_metric': 'auc', 'objective': 'binary:logistic', 'nthread': 2, 'bst:eta': 0.05}, 'nb_rounds': 1000, 'features_model': 'standard', 'model_type': 'XGBoost', 'timestamp': datetime.datetime(2015, 9, 21, 11, 41, 44, 349000), 'nb_rounds_max': 1000}\n",
      "{'model_id': 'XGBoost_20150921_114625', 'score': '0.779351', 'params': {'bst:max_depth': 2, 'subsample': 0.25, 'colsample_bytree': 0.05, 'silent': 1, 'eval_metric': 'auc', 'objective': 'binary:logistic', 'nthread': 2, 'bst:eta': 0.1}, 'nb_rounds': 1000, 'features_model': 'standard', 'model_type': 'XGBoost', 'timestamp': datetime.datetime(2015, 9, 21, 11, 46, 25, 587000), 'nb_rounds_max': 1000}"
     ]
    },
    {
     "name": "stderr",
     "output_type": "stream",
     "text": [
      "Will train until train error hasn't decreased in 10 rounds.\n",
      "Will train until train error hasn't decreased in 10 rounds.\n"
     ]
    },
    {
     "name": "stdout",
     "output_type": "stream",
     "text": [
      "\n",
      "{'model_id': 'XGBoost_20150921_115136', 'score': '0.780204', 'params': {'bst:max_depth': 2, 'subsample': 0.5, 'colsample_bytree': 0.05, 'silent': 1, 'eval_metric': 'auc', 'objective': 'binary:logistic', 'nthread': 2, 'bst:eta': 0.1}, 'nb_rounds': 1000, 'features_model': 'standard', 'model_type': 'XGBoost', 'timestamp': datetime.datetime(2015, 9, 21, 11, 51, 36, 512000), 'nb_rounds_max': 1000}\n",
      "{'model_id': 'XGBoost_20150921_115647', 'score': '0.781622', 'params': {'bst:max_depth': 2, 'subsample': 0.75, 'colsample_bytree': 0.05, 'silent': 1, 'eval_metric': 'auc', 'objective': 'binary:logistic', 'nthread': 2, 'bst:eta': 0.1}, 'nb_rounds': 1000, 'features_model': 'standard', 'model_type': 'XGBoost', 'timestamp': datetime.datetime(2015, 9, 21, 11, 56, 47, 479000), 'nb_rounds_max': 1000}"
     ]
    },
    {
     "name": "stderr",
     "output_type": "stream",
     "text": [
      "Will train until train error hasn't decreased in 10 rounds.\n",
      "Will train until train error hasn't decreased in 10 rounds.\n"
     ]
    },
    {
     "name": "stdout",
     "output_type": "stream",
     "text": [
      "\n",
      "{'model_id': 'XGBoost_20150921_120154', 'score': '0.781421', 'params': {'bst:max_depth': 2, 'subsample': 1, 'colsample_bytree': 0.05, 'silent': 1, 'eval_metric': 'auc', 'objective': 'binary:logistic', 'nthread': 2, 'bst:eta': 0.1}, 'nb_rounds': 1000, 'features_model': 'standard', 'model_type': 'XGBoost', 'timestamp': datetime.datetime(2015, 9, 21, 12, 1, 54, 992000), 'nb_rounds_max': 1000}\n",
      "{'model_id': 'XGBoost_20150921_120750', 'score': '0.777856', 'params': {'bst:max_depth': 2, 'subsample': 0.25, 'colsample_bytree': 0.1, 'silent': 1, 'eval_metric': 'auc', 'objective': 'binary:logistic', 'nthread': 2, 'bst:eta': 0.1}, 'nb_rounds': 1000, 'features_model': 'standard', 'model_type': 'XGBoost', 'timestamp': datetime.datetime(2015, 9, 21, 12, 7, 50, 511000), 'nb_rounds_max': 1000}"
     ]
    },
    {
     "name": "stderr",
     "output_type": "stream",
     "text": [
      "Will train until train error hasn't decreased in 10 rounds.\n",
      "Will train until train error hasn't decreased in 10 rounds.\n"
     ]
    },
    {
     "name": "stdout",
     "output_type": "stream",
     "text": [
      "\n",
      "{'model_id': 'XGBoost_20150921_121447', 'score': '0.780771', 'params': {'bst:max_depth': 2, 'subsample': 0.5, 'colsample_bytree': 0.1, 'silent': 1, 'eval_metric': 'auc', 'objective': 'binary:logistic', 'nthread': 2, 'bst:eta': 0.1}, 'nb_rounds': 1000, 'features_model': 'standard', 'model_type': 'XGBoost', 'timestamp': datetime.datetime(2015, 9, 21, 12, 14, 47, 35000), 'nb_rounds_max': 1000}\n",
      "{'model_id': 'XGBoost_20150921_122145', 'score': '0.781367', 'params': {'bst:max_depth': 2, 'subsample': 0.75, 'colsample_bytree': 0.1, 'silent': 1, 'eval_metric': 'auc', 'objective': 'binary:logistic', 'nthread': 2, 'bst:eta': 0.1}, 'nb_rounds': 1000, 'features_model': 'standard', 'model_type': 'XGBoost', 'timestamp': datetime.datetime(2015, 9, 21, 12, 21, 45, 304000), 'nb_rounds_max': 1000}"
     ]
    },
    {
     "name": "stderr",
     "output_type": "stream",
     "text": [
      "Will train until train error hasn't decreased in 10 rounds.\n",
      "Will train until train error hasn't decreased in 10 rounds.\n"
     ]
    },
    {
     "name": "stdout",
     "output_type": "stream",
     "text": [
      "\n",
      "{'model_id': 'XGBoost_20150921_122848', 'score': '0.781664', 'params': {'bst:max_depth': 2, 'subsample': 1, 'colsample_bytree': 0.1, 'silent': 1, 'eval_metric': 'auc', 'objective': 'binary:logistic', 'nthread': 2, 'bst:eta': 0.1}, 'nb_rounds': 1000, 'features_model': 'standard', 'model_type': 'XGBoost', 'timestamp': datetime.datetime(2015, 9, 21, 12, 28, 48, 344000), 'nb_rounds_max': 1000}\n",
      "{'model_id': 'XGBoost_20150921_123836', 'score': '0.779359', 'params': {'bst:max_depth': 2, 'subsample': 0.25, 'colsample_bytree': 0.25, 'silent': 1, 'eval_metric': 'auc', 'objective': 'binary:logistic', 'nthread': 2, 'bst:eta': 0.1}, 'nb_rounds': 1000, 'features_model': 'standard', 'model_type': 'XGBoost', 'timestamp': datetime.datetime(2015, 9, 21, 12, 38, 36, 848000), 'nb_rounds_max': 1000}"
     ]
    },
    {
     "name": "stderr",
     "output_type": "stream",
     "text": [
      "Will train until train error hasn't decreased in 10 rounds.\n",
      "Will train until train error hasn't decreased in 10 rounds.\n"
     ]
    },
    {
     "name": "stdout",
     "output_type": "stream",
     "text": [
      "\n",
      "{'model_id': 'XGBoost_20150921_125109', 'score': '0.780732', 'params': {'bst:max_depth': 2, 'subsample': 0.5, 'colsample_bytree': 0.25, 'silent': 1, 'eval_metric': 'auc', 'objective': 'binary:logistic', 'nthread': 2, 'bst:eta': 0.1}, 'nb_rounds': 1000, 'features_model': 'standard', 'model_type': 'XGBoost', 'timestamp': datetime.datetime(2015, 9, 21, 12, 51, 9, 578000), 'nb_rounds_max': 1000}\n",
      "{'model_id': 'XGBoost_20150921_130425', 'score': '0.782198', 'params': {'bst:max_depth': 2, 'subsample': 0.75, 'colsample_bytree': 0.25, 'silent': 1, 'eval_metric': 'auc', 'objective': 'binary:logistic', 'nthread': 2, 'bst:eta': 0.1}, 'nb_rounds': 1000, 'features_model': 'standard', 'model_type': 'XGBoost', 'timestamp': datetime.datetime(2015, 9, 21, 13, 4, 25, 194000), 'nb_rounds_max': 1000}"
     ]
    },
    {
     "name": "stderr",
     "output_type": "stream",
     "text": [
      "Will train until train error hasn't decreased in 10 rounds.\n",
      "Will train until train error hasn't decreased in 10 rounds.\n"
     ]
    },
    {
     "name": "stdout",
     "output_type": "stream",
     "text": [
      "\n",
      "{'model_id': 'XGBoost_20150921_131633', 'score': '0.781371', 'params': {'bst:max_depth': 2, 'subsample': 1, 'colsample_bytree': 0.25, 'silent': 1, 'eval_metric': 'auc', 'objective': 'binary:logistic', 'nthread': 2, 'bst:eta': 0.1}, 'nb_rounds': 1000, 'features_model': 'standard', 'model_type': 'XGBoost', 'timestamp': datetime.datetime(2015, 9, 21, 13, 16, 33, 354000), 'nb_rounds_max': 1000}\n",
      "{'model_id': 'XGBoost_20150921_133924', 'score': '0.778465', 'params': {'bst:max_depth': 2, 'subsample': 0.25, 'colsample_bytree': 0.75, 'silent': 1, 'eval_metric': 'auc', 'objective': 'binary:logistic', 'nthread': 2, 'bst:eta': 0.1}, 'nb_rounds': 1000, 'features_model': 'standard', 'model_type': 'XGBoost', 'timestamp': datetime.datetime(2015, 9, 21, 13, 39, 24, 766000), 'nb_rounds_max': 1000}"
     ]
    },
    {
     "name": "stderr",
     "output_type": "stream",
     "text": [
      "Will train until train error hasn't decreased in 10 rounds.\n",
      "Will train until train error hasn't decreased in 10 rounds.\n"
     ]
    },
    {
     "name": "stdout",
     "output_type": "stream",
     "text": [
      "\n",
      "{'model_id': 'XGBoost_20150921_141003', 'score': '0.782179', 'params': {'bst:max_depth': 2, 'subsample': 0.5, 'colsample_bytree': 0.75, 'silent': 1, 'eval_metric': 'auc', 'objective': 'binary:logistic', 'nthread': 2, 'bst:eta': 0.1}, 'nb_rounds': 1000, 'features_model': 'standard', 'model_type': 'XGBoost', 'timestamp': datetime.datetime(2015, 9, 21, 14, 10, 3, 366000), 'nb_rounds_max': 1000}\n",
      "{'model_id': 'XGBoost_20150921_144143', 'score': '0.782988', 'params': {'bst:max_depth': 2, 'subsample': 0.75, 'colsample_bytree': 0.75, 'silent': 1, 'eval_metric': 'auc', 'objective': 'binary:logistic', 'nthread': 2, 'bst:eta': 0.1}, 'nb_rounds': 1000, 'features_model': 'standard', 'model_type': 'XGBoost', 'timestamp': datetime.datetime(2015, 9, 21, 14, 41, 43, 168000), 'nb_rounds_max': 1000}"
     ]
    },
    {
     "name": "stderr",
     "output_type": "stream",
     "text": [
      "Will train until train error hasn't decreased in 10 rounds.\n",
      "Will train until train error hasn't decreased in 10 rounds.\n"
     ]
    },
    {
     "name": "stdout",
     "output_type": "stream",
     "text": [
      "\n",
      "{'model_id': 'XGBoost_20150921_151256', 'score': '0.782283', 'params': {'bst:max_depth': 2, 'subsample': 1, 'colsample_bytree': 0.75, 'silent': 1, 'eval_metric': 'auc', 'objective': 'binary:logistic', 'nthread': 2, 'bst:eta': 0.1}, 'nb_rounds': 1000, 'features_model': 'standard', 'model_type': 'XGBoost', 'timestamp': datetime.datetime(2015, 9, 21, 15, 12, 56, 851000), 'nb_rounds_max': 1000}\n",
      "{'model_id': 'XGBoost_20150921_154102', 'score': '0.778338', 'params': {'bst:max_depth': 2, 'subsample': 0.25, 'colsample_bytree': 1, 'silent': 1, 'eval_metric': 'auc', 'objective': 'binary:logistic', 'nthread': 2, 'bst:eta': 0.1}, 'nb_rounds': 1000, 'features_model': 'standard', 'model_type': 'XGBoost', 'timestamp': datetime.datetime(2015, 9, 21, 15, 41, 2, 377000), 'nb_rounds_max': 1000}"
     ]
    },
    {
     "name": "stderr",
     "output_type": "stream",
     "text": [
      "Will train until train error hasn't decreased in 10 rounds.\n",
      "Will train until train error hasn't decreased in 10 rounds.\n"
     ]
    },
    {
     "name": "stdout",
     "output_type": "stream",
     "text": [
      "\n",
      "{'model_id': 'XGBoost_20150921_161835', 'score': '0.781351', 'params': {'bst:max_depth': 2, 'subsample': 0.5, 'colsample_bytree': 1, 'silent': 1, 'eval_metric': 'auc', 'objective': 'binary:logistic', 'nthread': 2, 'bst:eta': 0.1}, 'nb_rounds': 1000, 'features_model': 'standard', 'model_type': 'XGBoost', 'timestamp': datetime.datetime(2015, 9, 21, 16, 18, 35, 327000), 'nb_rounds_max': 1000}\n",
      "{'model_id': 'XGBoost_20150921_165617', 'score': '0.781772', 'params': {'bst:max_depth': 2, 'subsample': 0.75, 'colsample_bytree': 1, 'silent': 1, 'eval_metric': 'auc', 'objective': 'binary:logistic', 'nthread': 2, 'bst:eta': 0.1}, 'nb_rounds': 1000, 'features_model': 'standard', 'model_type': 'XGBoost', 'timestamp': datetime.datetime(2015, 9, 21, 16, 56, 17, 579000), 'nb_rounds_max': 1000}"
     ]
    },
    {
     "name": "stderr",
     "output_type": "stream",
     "text": [
      "Will train until train error hasn't decreased in 10 rounds.\n",
      "Will train until train error hasn't decreased in 10 rounds.\n"
     ]
    },
    {
     "name": "stdout",
     "output_type": "stream",
     "text": [
      "\n",
      "{'model_id': 'XGBoost_20150921_173343', 'score': '0.781422', 'params': {'bst:max_depth': 2, 'subsample': 1, 'colsample_bytree': 1, 'silent': 1, 'eval_metric': 'auc', 'objective': 'binary:logistic', 'nthread': 2, 'bst:eta': 0.1}, 'nb_rounds': 1000, 'features_model': 'standard', 'model_type': 'XGBoost', 'timestamp': datetime.datetime(2015, 9, 21, 17, 33, 43, 703000), 'nb_rounds_max': 1000}\n",
      "{'model_id': 'XGBoost_20150921_174134', 'score': '0.772563', 'params': {'bst:max_depth': 6, 'subsample': 0.25, 'colsample_bytree': 0.05, 'silent': 1, 'eval_metric': 'auc', 'objective': 'binary:logistic', 'nthread': 2, 'bst:eta': 0.005}, 'nb_rounds': 1000, 'features_model': 'standard', 'model_type': 'XGBoost', 'timestamp': datetime.datetime(2015, 9, 21, 17, 41, 34, 241000), 'nb_rounds_max': 1000}"
     ]
    },
    {
     "name": "stderr",
     "output_type": "stream",
     "text": [
      "Will train until train error hasn't decreased in 10 rounds.\n",
      "Will train until train error hasn't decreased in 10 rounds.\n"
     ]
    },
    {
     "name": "stdout",
     "output_type": "stream",
     "text": [
      "\n",
      "{'model_id': 'XGBoost_20150921_175043', 'score': '0.773675', 'params': {'bst:max_depth': 6, 'subsample': 0.5, 'colsample_bytree': 0.05, 'silent': 1, 'eval_metric': 'auc', 'objective': 'binary:logistic', 'nthread': 2, 'bst:eta': 0.005}, 'nb_rounds': 1000, 'features_model': 'standard', 'model_type': 'XGBoost', 'timestamp': datetime.datetime(2015, 9, 21, 17, 50, 43, 51000), 'nb_rounds_max': 1000}\n",
      "{'model_id': 'XGBoost_20150921_175952', 'score': '0.773872', 'params': {'bst:max_depth': 6, 'subsample': 0.75, 'colsample_bytree': 0.05, 'silent': 1, 'eval_metric': 'auc', 'objective': 'binary:logistic', 'nthread': 2, 'bst:eta': 0.005}, 'nb_rounds': 1000, 'features_model': 'standard', 'model_type': 'XGBoost', 'timestamp': datetime.datetime(2015, 9, 21, 17, 59, 52, 521000), 'nb_rounds_max': 1000}"
     ]
    },
    {
     "name": "stderr",
     "output_type": "stream",
     "text": [
      "Will train until train error hasn't decreased in 10 rounds.\n",
      "Will train until train error hasn't decreased in 10 rounds.\n"
     ]
    },
    {
     "name": "stdout",
     "output_type": "stream",
     "text": [
      "\n",
      "{'model_id': 'XGBoost_20150921_180853', 'score': '0.774217', 'params': {'bst:max_depth': 6, 'subsample': 1, 'colsample_bytree': 0.05, 'silent': 1, 'eval_metric': 'auc', 'objective': 'binary:logistic', 'nthread': 2, 'bst:eta': 0.005}, 'nb_rounds': 1000, 'features_model': 'standard', 'model_type': 'XGBoost', 'timestamp': datetime.datetime(2015, 9, 21, 18, 8, 53, 4000), 'nb_rounds_max': 1000}\n",
      "{'model_id': 'XGBoost_20150921_182016', 'score': '0.775499', 'params': {'bst:max_depth': 6, 'subsample': 0.25, 'colsample_bytree': 0.1, 'silent': 1, 'eval_metric': 'auc', 'objective': 'binary:logistic', 'nthread': 2, 'bst:eta': 0.005}, 'nb_rounds': 1000, 'features_model': 'standard', 'model_type': 'XGBoost', 'timestamp': datetime.datetime(2015, 9, 21, 18, 20, 16, 316000), 'nb_rounds_max': 1000}"
     ]
    },
    {
     "name": "stderr",
     "output_type": "stream",
     "text": [
      "Will train until train error hasn't decreased in 10 rounds.\n",
      "Will train until train error hasn't decreased in 10 rounds.\n"
     ]
    },
    {
     "name": "stdout",
     "output_type": "stream",
     "text": [
      "\n",
      "{'model_id': 'XGBoost_20150921_183442', 'score': '0.776278', 'params': {'bst:max_depth': 6, 'subsample': 0.5, 'colsample_bytree': 0.1, 'silent': 1, 'eval_metric': 'auc', 'objective': 'binary:logistic', 'nthread': 2, 'bst:eta': 0.005}, 'nb_rounds': 1000, 'features_model': 'standard', 'model_type': 'XGBoost', 'timestamp': datetime.datetime(2015, 9, 21, 18, 34, 42, 706000), 'nb_rounds_max': 1000}\n",
      "{'model_id': 'XGBoost_20150921_184914', 'score': '0.776750', 'params': {'bst:max_depth': 6, 'subsample': 0.75, 'colsample_bytree': 0.1, 'silent': 1, 'eval_metric': 'auc', 'objective': 'binary:logistic', 'nthread': 2, 'bst:eta': 0.005}, 'nb_rounds': 1000, 'features_model': 'standard', 'model_type': 'XGBoost', 'timestamp': datetime.datetime(2015, 9, 21, 18, 49, 14, 649000), 'nb_rounds_max': 1000}"
     ]
    },
    {
     "name": "stderr",
     "output_type": "stream",
     "text": [
      "Will train until train error hasn't decreased in 10 rounds.\n",
      "Will train until train error hasn't decreased in 10 rounds.\n"
     ]
    },
    {
     "name": "stdout",
     "output_type": "stream",
     "text": [
      "\n",
      "{'model_id': 'XGBoost_20150921_190339', 'score': '0.776696', 'params': {'bst:max_depth': 6, 'subsample': 1, 'colsample_bytree': 0.1, 'silent': 1, 'eval_metric': 'auc', 'objective': 'binary:logistic', 'nthread': 2, 'bst:eta': 0.005}, 'nb_rounds': 1000, 'features_model': 'standard', 'model_type': 'XGBoost', 'timestamp': datetime.datetime(2015, 9, 21, 19, 3, 39, 216000), 'nb_rounds_max': 1000}\n",
      "{'model_id': 'XGBoost_20150921_192611', 'score': '0.777786', 'params': {'bst:max_depth': 6, 'subsample': 0.25, 'colsample_bytree': 0.25, 'silent': 1, 'eval_metric': 'auc', 'objective': 'binary:logistic', 'nthread': 2, 'bst:eta': 0.005}, 'nb_rounds': 1000, 'features_model': 'standard', 'model_type': 'XGBoost', 'timestamp': datetime.datetime(2015, 9, 21, 19, 26, 11, 180000), 'nb_rounds_max': 1000}"
     ]
    },
    {
     "name": "stderr",
     "output_type": "stream",
     "text": [
      "Will train until train error hasn't decreased in 10 rounds.\n",
      "Will train until train error hasn't decreased in 10 rounds.\n"
     ]
    },
    {
     "name": "stdout",
     "output_type": "stream",
     "text": [
      "\n",
      "{'model_id': 'XGBoost_20150921_195642', 'score': '0.778552', 'params': {'bst:max_depth': 6, 'subsample': 0.5, 'colsample_bytree': 0.25, 'silent': 1, 'eval_metric': 'auc', 'objective': 'binary:logistic', 'nthread': 2, 'bst:eta': 0.005}, 'nb_rounds': 1000, 'features_model': 'standard', 'model_type': 'XGBoost', 'timestamp': datetime.datetime(2015, 9, 21, 19, 56, 42, 164000), 'nb_rounds_max': 1000}\n",
      "{'model_id': 'XGBoost_20150921_202805', 'score': '0.778591', 'params': {'bst:max_depth': 6, 'subsample': 0.75, 'colsample_bytree': 0.25, 'silent': 1, 'eval_metric': 'auc', 'objective': 'binary:logistic', 'nthread': 2, 'bst:eta': 0.005}, 'nb_rounds': 1000, 'features_model': 'standard', 'model_type': 'XGBoost', 'timestamp': datetime.datetime(2015, 9, 21, 20, 28, 5, 101000), 'nb_rounds_max': 1000}"
     ]
    },
    {
     "name": "stderr",
     "output_type": "stream",
     "text": [
      "Will train until train error hasn't decreased in 10 rounds.\n",
      "Will train until train error hasn't decreased in 10 rounds.\n"
     ]
    },
    {
     "name": "stdout",
     "output_type": "stream",
     "text": [
      "\n",
      "{'model_id': 'XGBoost_20150921_205841', 'score': '0.778868', 'params': {'bst:max_depth': 6, 'subsample': 1, 'colsample_bytree': 0.25, 'silent': 1, 'eval_metric': 'auc', 'objective': 'binary:logistic', 'nthread': 2, 'bst:eta': 0.005}, 'nb_rounds': 1000, 'features_model': 'standard', 'model_type': 'XGBoost', 'timestamp': datetime.datetime(2015, 9, 21, 20, 58, 41, 769000), 'nb_rounds_max': 1000}\n"
     ]
    },
    {
     "name": "stderr",
     "output_type": "stream",
     "text": [
      "Will train until train error hasn't decreased in 10 rounds.\n"
     ]
    },
    {
     "ename": "KeyboardInterrupt",
     "evalue": "",
     "output_type": "error",
     "traceback": [
      "\u001b[1;31m---------------------------------------------------------------------------\u001b[0m",
      "\u001b[1;31mKeyboardInterrupt\u001b[0m                         Traceback (most recent call last)",
      "\u001b[1;32m<ipython-input-4-51bbdd2724fa>\u001b[0m in \u001b[0;36m<module>\u001b[1;34m()\u001b[0m\n\u001b[0;32m      1\u001b[0m \u001b[0mxgboost_tester\u001b[0m \u001b[1;33m=\u001b[0m \u001b[0mXGBoostTester\u001b[0m\u001b[1;33m(\u001b[0m\u001b[0mRESULTS_DIR\u001b[0m\u001b[1;33m)\u001b[0m\u001b[1;33m\u001b[0m\u001b[0m\n\u001b[1;32m----> 2\u001b[1;33m \u001b[0mxgboost_tester\u001b[0m\u001b[1;33m.\u001b[0m\u001b[0mevaluate_model\u001b[0m\u001b[1;33m(\u001b[0m\u001b[1;34m'standard'\u001b[0m\u001b[1;33m,\u001b[0m \u001b[0mX_train\u001b[0m\u001b[1;33m,\u001b[0m \u001b[0mY_train\u001b[0m\u001b[1;33m,\u001b[0m \u001b[0mX_validation\u001b[0m\u001b[1;33m,\u001b[0m \u001b[0mY_validation\u001b[0m\u001b[1;33m)\u001b[0m\u001b[1;33m\u001b[0m\u001b[0m\n\u001b[0m",
      "\u001b[1;32mC:\\Users\\Pawel\\PycharmProjects\\Springleaf Marketing Response\\src\\model_evaluation\\xgboost_tester.py\u001b[0m in \u001b[0;36mevaluate_model\u001b[1;34m(self, features_model, x_train, y_train, x_validation, y_validation)\u001b[0m\n\u001b[0;32m     32\u001b[0m \u001b[1;33m\u001b[0m\u001b[0m\n\u001b[0;32m     33\u001b[0m                         \u001b[0meval_list\u001b[0m \u001b[1;33m=\u001b[0m \u001b[1;33m[\u001b[0m\u001b[1;33m(\u001b[0m\u001b[0mdtest\u001b[0m\u001b[1;33m,\u001b[0m \u001b[1;34m'eval'\u001b[0m\u001b[1;33m)\u001b[0m\u001b[1;33m,\u001b[0m \u001b[1;33m(\u001b[0m\u001b[0mdtrain\u001b[0m\u001b[1;33m,\u001b[0m \u001b[1;34m'train'\u001b[0m\u001b[1;33m)\u001b[0m\u001b[1;33m]\u001b[0m\u001b[1;33m\u001b[0m\u001b[0m\n\u001b[1;32m---> 34\u001b[1;33m                         \u001b[0mbst\u001b[0m \u001b[1;33m=\u001b[0m \u001b[0mxgb\u001b[0m\u001b[1;33m.\u001b[0m\u001b[0mtrain\u001b[0m\u001b[1;33m(\u001b[0m\u001b[0mparams\u001b[0m\u001b[1;33m,\u001b[0m \u001b[0mdtrain\u001b[0m\u001b[1;33m,\u001b[0m \u001b[0mself\u001b[0m\u001b[1;33m.\u001b[0m\u001b[0mNB_ROUNDS\u001b[0m\u001b[1;33m,\u001b[0m \u001b[0meval_list\u001b[0m\u001b[1;33m,\u001b[0m \u001b[0mevals_result\u001b[0m\u001b[1;33m=\u001b[0m\u001b[0mevals_result\u001b[0m\u001b[1;33m,\u001b[0m \u001b[0mverbose_eval\u001b[0m\u001b[1;33m=\u001b[0m\u001b[0mFalse\u001b[0m\u001b[1;33m,\u001b[0m \u001b[0mearly_stopping_rounds\u001b[0m\u001b[1;33m=\u001b[0m\u001b[1;36m10\u001b[0m\u001b[1;33m)\u001b[0m\u001b[1;33m\u001b[0m\u001b[0m\n\u001b[0m\u001b[0;32m     35\u001b[0m \u001b[1;33m\u001b[0m\u001b[0m\n\u001b[0;32m     36\u001b[0m                         \u001b[0mtimestamp\u001b[0m \u001b[1;33m=\u001b[0m \u001b[0mdatetime\u001b[0m\u001b[1;33m.\u001b[0m\u001b[0mnow\u001b[0m\u001b[1;33m(\u001b[0m\u001b[1;33m)\u001b[0m\u001b[1;33m\u001b[0m\u001b[0m\n",
      "\u001b[1;32mC:\\Users\\Pawel\\Anaconda\\lib\\site-packages\\xgboost-0.4-py2.7.egg\\xgboost\\training.pyc\u001b[0m in \u001b[0;36mtrain\u001b[1;34m(params, dtrain, num_boost_round, evals, obj, feval, early_stopping_rounds, evals_result, verbose_eval)\u001b[0m\n\u001b[0;32m    107\u001b[0m \u001b[1;33m\u001b[0m\u001b[0m\n\u001b[0;32m    108\u001b[0m         \u001b[1;32mfor\u001b[0m \u001b[0mi\u001b[0m \u001b[1;32min\u001b[0m \u001b[0mrange\u001b[0m\u001b[1;33m(\u001b[0m\u001b[0mnum_boost_round\u001b[0m\u001b[1;33m)\u001b[0m\u001b[1;33m:\u001b[0m\u001b[1;33m\u001b[0m\u001b[0m\n\u001b[1;32m--> 109\u001b[1;33m             \u001b[0mbst\u001b[0m\u001b[1;33m.\u001b[0m\u001b[0mupdate\u001b[0m\u001b[1;33m(\u001b[0m\u001b[0mdtrain\u001b[0m\u001b[1;33m,\u001b[0m \u001b[0mi\u001b[0m\u001b[1;33m,\u001b[0m \u001b[0mobj\u001b[0m\u001b[1;33m)\u001b[0m\u001b[1;33m\u001b[0m\u001b[0m\n\u001b[0m\u001b[0;32m    110\u001b[0m             \u001b[0mbst_eval_set\u001b[0m \u001b[1;33m=\u001b[0m \u001b[0mbst\u001b[0m\u001b[1;33m.\u001b[0m\u001b[0meval_set\u001b[0m\u001b[1;33m(\u001b[0m\u001b[0mevals\u001b[0m\u001b[1;33m,\u001b[0m \u001b[0mi\u001b[0m\u001b[1;33m,\u001b[0m \u001b[0mfeval\u001b[0m\u001b[1;33m)\u001b[0m\u001b[1;33m\u001b[0m\u001b[0m\n\u001b[0;32m    111\u001b[0m \u001b[1;33m\u001b[0m\u001b[0m\n",
      "\u001b[1;32mC:\\Users\\Pawel\\Anaconda\\lib\\site-packages\\xgboost-0.4-py2.7.egg\\xgboost\\core.pyc\u001b[0m in \u001b[0;36mupdate\u001b[1;34m(self, dtrain, iteration, fobj)\u001b[0m\n\u001b[0;32m    521\u001b[0m             \u001b[1;32mraise\u001b[0m \u001b[0mTypeError\u001b[0m\u001b[1;33m(\u001b[0m\u001b[1;34m'invalid training matrix: {}'\u001b[0m\u001b[1;33m.\u001b[0m\u001b[0mformat\u001b[0m\u001b[1;33m(\u001b[0m\u001b[0mtype\u001b[0m\u001b[1;33m(\u001b[0m\u001b[0mdtrain\u001b[0m\u001b[1;33m)\u001b[0m\u001b[1;33m.\u001b[0m\u001b[0m__name__\u001b[0m\u001b[1;33m)\u001b[0m\u001b[1;33m)\u001b[0m\u001b[1;33m\u001b[0m\u001b[0m\n\u001b[0;32m    522\u001b[0m         \u001b[1;32mif\u001b[0m \u001b[0mfobj\u001b[0m \u001b[1;32mis\u001b[0m \u001b[0mNone\u001b[0m\u001b[1;33m:\u001b[0m\u001b[1;33m\u001b[0m\u001b[0m\n\u001b[1;32m--> 523\u001b[1;33m             \u001b[0m_check_call\u001b[0m\u001b[1;33m(\u001b[0m\u001b[0m_LIB\u001b[0m\u001b[1;33m.\u001b[0m\u001b[0mXGBoosterUpdateOneIter\u001b[0m\u001b[1;33m(\u001b[0m\u001b[0mself\u001b[0m\u001b[1;33m.\u001b[0m\u001b[0mhandle\u001b[0m\u001b[1;33m,\u001b[0m \u001b[0miteration\u001b[0m\u001b[1;33m,\u001b[0m \u001b[0mdtrain\u001b[0m\u001b[1;33m.\u001b[0m\u001b[0mhandle\u001b[0m\u001b[1;33m)\u001b[0m\u001b[1;33m)\u001b[0m\u001b[1;33m\u001b[0m\u001b[0m\n\u001b[0m\u001b[0;32m    524\u001b[0m         \u001b[1;32melse\u001b[0m\u001b[1;33m:\u001b[0m\u001b[1;33m\u001b[0m\u001b[0m\n\u001b[0;32m    525\u001b[0m             \u001b[0mpred\u001b[0m \u001b[1;33m=\u001b[0m \u001b[0mself\u001b[0m\u001b[1;33m.\u001b[0m\u001b[0mpredict\u001b[0m\u001b[1;33m(\u001b[0m\u001b[0mdtrain\u001b[0m\u001b[1;33m)\u001b[0m\u001b[1;33m\u001b[0m\u001b[0m\n",
      "\u001b[1;31mKeyboardInterrupt\u001b[0m: "
     ]
    }
   ],
   "source": [
    "xgboost_tester = XGBoostTester(RESULTS_DIR)\n",
    "xgboost_tester.evaluate_model('standard', X_train, Y_train, X_validation, Y_validation)"
   ]
  }
 ],
 "metadata": {
  "kernelspec": {
   "display_name": "Python 2",
   "language": "python",
   "name": "python2"
  },
  "language_info": {
   "codemirror_mode": {
    "name": "ipython",
    "version": 2
   },
   "file_extension": ".py",
   "mimetype": "text/x-python",
   "name": "python",
   "nbconvert_exporter": "python",
   "pygments_lexer": "ipython2",
   "version": "2.7.10"
  }
 },
 "nbformat": 4,
 "nbformat_minor": 0
}
