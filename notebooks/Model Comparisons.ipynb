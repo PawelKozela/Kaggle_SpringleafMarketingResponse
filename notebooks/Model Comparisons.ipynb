{
 "cells": [
  {
   "cell_type": "code",
   "execution_count": 61,
   "metadata": {
    "collapsed": false
   },
   "outputs": [
    {
     "name": "stdout",
     "output_type": "stream",
     "text": [
      "20151013_001704 => 0.71483 0.721357 Train_Standard_With_Dates_And_One_Hot 0.1 12 10 2\n",
      "20151013_011453 => 0.78964 0.912559 Train_Standard_With_Dates_And_One_Hot 0.1 12 10 1800\n",
      "20151013_020259 => 0.77951 0.905197 Train_Standard_With_NA_Dates_And_One_Hot 0.1 12 10 200\n",
      "20151013_021019 => 0.78019 0.902086 Train_Standard_With_NA_Dates_And_One_Hot 0.1 12 10 200\n",
      "20151013_053542 => 0.79421 0.976206 Train_Standard_With_NA_Dates_And_One_Hot 0.25 12 10 3000\n",
      "20151013_110751 => 0.79498 0.999864 Train_Standard_With_NA_Dates_And_One_Hot 0.25 12 10 3000\n",
      "20151013_224302 => 0.79415 0.999903 Train_Standard_With_NA_Dates_And_One_Hot 0.1 12 5 1000\n",
      "20151013_233726 => 0.79314 0.990197 Train_Standard_With_NA_Dates_And_One_Hot 0.1 12 20 1000\n",
      "20151014_220031 => 0.73387 0.798566 Train_Standard_With_NA_Dates_And_One_Hot 0.1 12 20 2\n",
      "20151014_221408 => 0.73387 0.798566 Train_Standard_With_NA_Dates_And_One_Hot 0.1 12 20 2\n",
      "20151014_221540 => 0.73387 0.798566 Train_Standard_With_NA_Dates_And_One_Hot 0.1 12 20 2\n",
      "20151014_231615 => 0.79141 0.989366 Train_Standard_With_NA_Dates_And_One_Hot 0.1 12 10 1000\n",
      "20151014_233700 => 0.79198 0.991138 Train_Standard 0.1 12 10 1000\n",
      "20151015_005315 => 0.79144 0.990302 Train_Standard_With_Dates_And_One_Hot 0.1 12 10 1000\n",
      "20151015_015754 => 0.79175 0.990205 Train_Standard_With_Dates_And_One_Hot_Wo_204 0.1 12 10 1000\n"
     ]
    }
   ],
   "source": [
    "for dir_name in os.listdir(MODELS_DIR):\n",
    "    metadata = pickle.load(open(os.path.join(MODELS_DIR, dir_name, 'metadata.pickle')))\n",
    "    print dir_name, '=>', metadata['results']['eval'][-1], metadata['results']['train'][-1], metadata['feature_set'], metadata['params']['colsample_bytree'], metadata['params']['bst:max_depth'], metadata['params']['min_child_weight'], metadata['params']['num_round']"
   ]
  },
  {
   "cell_type": "code",
   "execution_count": 8,
   "metadata": {
    "collapsed": false
   },
   "outputs": [],
   "source": [
    "MODEL_FILE_1 = '20151014_233700'\n",
    "MODEL_FILE_2 = '20151015_005315'\n",
    "\n",
    "model_1 = xgb.Booster({'nthread':2})\n",
    "model_2 = xgb.Booster({'nthread':2})\n",
    "\n",
    "model_mdata_1 = pickle.load(open(os.path.join(MODELS_DIR, MODEL_FILE_1, 'metadata.pickle')))\n",
    "model_mdata_2 = pickle.load(open(os.path.join(MODELS_DIR, MODEL_FILE_2, 'metadata.pickle')))\n",
    "\n",
    "model_1.load_model(os.path.join(MODELS_DIR, MODEL_FILE_1, 'xgboost.model'))\n",
    "model_2.load_model(os.path.join(MODELS_DIR, MODEL_FILE_2, 'xgboost.model'))\n",
    "\n",
    "feats1 = model_1.get_fscore()\n",
    "feats2 = model_2.get_fscore()"
   ]
  },
  {
   "cell_type": "code",
   "execution_count": 11,
   "metadata": {
    "collapsed": true
   },
   "outputs": [],
   "source": [
    "def map_features(raw_features_dict, features_names):\n",
    "    features_data = {}\n",
    "\n",
    "    for i in range(0, len(features_names)):\n",
    "        key = 'f{}'.format(i)\n",
    "        if key in raw_features_dict:\n",
    "            features_data[features_names[i]] = raw_features_dict[key]\n",
    "        else:\n",
    "            features_data[features_names[i]] = 0\n",
    "    return features_data"
   ]
  },
  {
   "cell_type": "code",
   "execution_count": 19,
   "metadata": {
    "collapsed": false
   },
   "outputs": [],
   "source": [
    "features_1 = pd.Series(map_features(feats1, model_mdata_1['columns']))\n",
    "features_2 = pd.Series(map_features(feats2, model_mdata_2['columns']))"
   ]
  },
  {
   "cell_type": "code",
   "execution_count": 24,
   "metadata": {
    "collapsed": false
   },
   "outputs": [],
   "source": [
    "data_for_df = {'model_1':features_1, 'model_2': features_2}\n",
    "features_data = pd.DataFrame(data_for_df)"
   ]
  },
  {
   "cell_type": "code",
   "execution_count": 29,
   "metadata": {
    "collapsed": false
   },
   "outputs": [
    {
     "data": {
      "text/plain": [
       "model_1    508590\n",
       "model_2    496460\n",
       "dtype: float64"
      ]
     },
     "execution_count": 29,
     "metadata": {},
     "output_type": "execute_result"
    }
   ],
   "source": [
    "features_data.sum()"
   ]
  },
  {
   "cell_type": "code",
   "execution_count": 30,
   "metadata": {
    "collapsed": false
   },
   "outputs": [
    {
     "data": {
      "text/html": [
       "<div>\n",
       "<table border=\"1\" class=\"dataframe\">\n",
       "  <thead>\n",
       "    <tr style=\"text-align: right;\">\n",
       "      <th></th>\n",
       "      <th>model_1</th>\n",
       "      <th>model_2</th>\n",
       "    </tr>\n",
       "  </thead>\n",
       "  <tbody>\n",
       "    <tr>\n",
       "      <th>VAR0073</th>\n",
       "      <td>999</td>\n",
       "      <td>664</td>\n",
       "    </tr>\n",
       "    <tr>\n",
       "      <th>VAR0075</th>\n",
       "      <td>1369</td>\n",
       "      <td>1255</td>\n",
       "    </tr>\n",
       "    <tr>\n",
       "      <th>VAR0156</th>\n",
       "      <td>89</td>\n",
       "      <td>29</td>\n",
       "    </tr>\n",
       "    <tr>\n",
       "      <th>VAR0157</th>\n",
       "      <td>13</td>\n",
       "      <td>0</td>\n",
       "    </tr>\n",
       "    <tr>\n",
       "      <th>VAR0158</th>\n",
       "      <td>17</td>\n",
       "      <td>7</td>\n",
       "    </tr>\n",
       "    <tr>\n",
       "      <th>VAR0159</th>\n",
       "      <td>98</td>\n",
       "      <td>48</td>\n",
       "    </tr>\n",
       "    <tr>\n",
       "      <th>VAR0166</th>\n",
       "      <td>318</td>\n",
       "      <td>94</td>\n",
       "    </tr>\n",
       "    <tr>\n",
       "      <th>VAR0167</th>\n",
       "      <td>15</td>\n",
       "      <td>4</td>\n",
       "    </tr>\n",
       "    <tr>\n",
       "      <th>VAR0168</th>\n",
       "      <td>157</td>\n",
       "      <td>69</td>\n",
       "    </tr>\n",
       "    <tr>\n",
       "      <th>VAR0169</th>\n",
       "      <td>241</td>\n",
       "      <td>81</td>\n",
       "    </tr>\n",
       "    <tr>\n",
       "      <th>VAR0176</th>\n",
       "      <td>410</td>\n",
       "      <td>117</td>\n",
       "    </tr>\n",
       "    <tr>\n",
       "      <th>VAR0177</th>\n",
       "      <td>65</td>\n",
       "      <td>25</td>\n",
       "    </tr>\n",
       "    <tr>\n",
       "      <th>VAR0178</th>\n",
       "      <td>142</td>\n",
       "      <td>68</td>\n",
       "    </tr>\n",
       "    <tr>\n",
       "      <th>VAR0179</th>\n",
       "      <td>399</td>\n",
       "      <td>128</td>\n",
       "    </tr>\n",
       "    <tr>\n",
       "      <th>VAR0204</th>\n",
       "      <td>120</td>\n",
       "      <td>130</td>\n",
       "    </tr>\n",
       "    <tr>\n",
       "      <th>VAR0217</th>\n",
       "      <td>1364</td>\n",
       "      <td>1161</td>\n",
       "    </tr>\n",
       "  </tbody>\n",
       "</table>\n",
       "</div>"
      ],
      "text/plain": [
       "         model_1  model_2\n",
       "VAR0073      999      664\n",
       "VAR0075     1369     1255\n",
       "VAR0156       89       29\n",
       "VAR0157       13        0\n",
       "VAR0158       17        7\n",
       "VAR0159       98       48\n",
       "VAR0166      318       94\n",
       "VAR0167       15        4\n",
       "VAR0168      157       69\n",
       "VAR0169      241       81\n",
       "VAR0176      410      117\n",
       "VAR0177       65       25\n",
       "VAR0178      142       68\n",
       "VAR0179      399      128\n",
       "VAR0204      120      130\n",
       "VAR0217     1364     1161"
      ]
     },
     "execution_count": 30,
     "metadata": {},
     "output_type": "execute_result"
    }
   ],
   "source": [
    "features_data[features_data.index.isin(['VAR0073','VAR0075','VAR0156','VAR0157','VAR0158','VAR0159','VAR0166','VAR0167','VAR0168','VAR0169','VAR0176','VAR0177','VAR0178','VAR0179','VAR0204','VAR0217'])]"
   ]
  },
  {
   "cell_type": "code",
   "execution_count": 60,
   "metadata": {
    "collapsed": false
   },
   "outputs": [
    {
     "name": "stdout",
     "output_type": "stream",
     "text": [
      "3880.0 20557.0 1393.0 2785.0 3708.0 1441.0\n"
     ]
    }
   ],
   "source": [
    "dates = ['VAR0073','VAR0075','VAR0156','VAR0157','VAR0158','VAR0159','VAR0166','VAR0167','VAR0168','VAR0169','VAR0176','VAR0177','VAR0178','VAR0179','VAR0204','VAR0217']\n",
    "total_raw = total = total_dow = total_dom = total_doy = total_mon = 0\n",
    "for ddate in dates:\n",
    "    total_raw += features_data[features_data.index == ddate].sum()[1]\n",
    "    total += features_data[features_data.index.str.startswith(ddate)].sum()[1]\n",
    "    total_dow += features_data[features_data.index.str.startswith(ddate.replace('VAR', 'DOW'))].sum()[1]\n",
    "    total_dom += features_data[features_data.index.str.startswith(ddate.replace('VAR', 'DOM'))].sum()[1]\n",
    "    total_doy += features_data[features_data.index.str.startswith(ddate.replace('VAR', 'DOY'))].sum()[1]\n",
    "    total_mon += features_data[features_data.index.str.startswith(ddate.replace('VAR', 'MON'))].sum()[1]\n",
    "print total_raw, total, total_dow, total_dom, total_doy, total_mon"
   ]
  },
  {
   "cell_type": "code",
   "execution_count": 54,
   "metadata": {
    "collapsed": false
   },
   "outputs": [
    {
     "data": {
      "text/plain": [
       "model_1     NaN\n",
       "model_2    1045\n",
       "Name: VAR0204H, dtype: float64"
      ]
     },
     "execution_count": 54,
     "metadata": {},
     "output_type": "execute_result"
    }
   ],
   "source": [
    "features_data.loc['VAR0204H']"
   ]
  },
  {
   "cell_type": "code",
   "execution_count": null,
   "metadata": {
    "collapsed": true
   },
   "outputs": [],
   "source": []
  }
 ],
 "metadata": {
  "kernelspec": {
   "display_name": "Python 2",
   "language": "python",
   "name": "python2"
  },
  "language_info": {
   "codemirror_mode": {
    "name": "ipython",
    "version": 2
   },
   "file_extension": ".py",
   "mimetype": "text/x-python",
   "name": "python",
   "nbconvert_exporter": "python",
   "pygments_lexer": "ipython2",
   "version": "2.7.10"
  }
 },
 "nbformat": 4,
 "nbformat_minor": 0
}
