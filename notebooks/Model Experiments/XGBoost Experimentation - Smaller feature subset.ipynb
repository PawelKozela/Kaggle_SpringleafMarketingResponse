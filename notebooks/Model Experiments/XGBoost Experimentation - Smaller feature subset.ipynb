{
 "cells": [
  {
   "cell_type": "code",
   "execution_count": 1,
   "metadata": {
    "collapsed": false,
    "input_collapsed": true
   },
   "outputs": [],
   "source": [
    "import os, sys\n",
    "from datetime import datetime\n",
    "import numpy as np, pandas as pd\n",
    "from sklearn import cross_validation\n",
    "from sklearn.ensemble import RandomForestClassifier, GradientBoostingClassifier\n",
    "from sklearn.metrics import auc, roc_auc_score\n",
    "\n",
    "import xgboost as xgb\n",
    "\n",
    "sys.path.append('C:\\\\Users\\\\Pawel\\\\PycharmProjects\\\\Springleaf Marketing Response\\\\src')\n",
    "sys.path.append('C:\\\\Users\\\\Pawel\\\\PycharmProjects\\\\Springleaf Marketing Response\\\\src\\\\model_evaluation')\n",
    "from xgboost_tester import XGBoostTester\n",
    "import utilities\n",
    "\n",
    "%matplotlib inline"
   ]
  },
  {
   "cell_type": "code",
   "execution_count": 2,
   "metadata": {
    "collapsed": false,
    "input_collapsed": true
   },
   "outputs": [],
   "source": [
    "DATA_DIR = \"F:\\\\Pawel\\\\Kaggle\\\\Springleaf Marketing Response\\\\Data\"\n",
    "FEATURES_DATA_DIR = \"F:\\\\Pawel\\\\Kaggle\\\\Springleaf Marketing Response\\\\Data\\\\Train_Standard_With_Dates_And_One_Hot\"\n",
    "PREDICTIONS_DIR = \"F:\\\\Pawel\\\\Kaggle\\\\Springleaf Marketing Response\\\\Data\\\\Model Predictions\"\n",
    "\n",
    "RESULTS_DIR = \"F:\\\\Pawel\\\\Kaggle\\\\Springleaf Marketing Response\\\\Data\\\\Model Results\""
   ]
  },
  {
   "cell_type": "code",
   "execution_count": 3,
   "metadata": {
    "collapsed": false,
    "input_collapsed": true
   },
   "outputs": [],
   "source": [
    "X_train = pd.read_hdf(os.path.join(FEATURES_DATA_DIR, 'train_train_features.hf5'), 'data')\n",
    "X_validation = pd.read_hdf(os.path.join(FEATURES_DATA_DIR, 'train_validation_features.hf5'), 'data')\n",
    "Y_train = pd.read_hdf(os.path.join(DATA_DIR, 'train_train_y.hf5'), 'data')\n",
    "Y_validation = pd.read_hdf(os.path.join(DATA_DIR, 'train_validation_y.hf5'), 'data')"
   ]
  },
  {
   "cell_type": "code",
   "execution_count": 4,
   "metadata": {
    "collapsed": false
   },
   "outputs": [
    {
     "data": {
      "text/plain": [
       "True"
      ]
     },
     "execution_count": 4,
     "metadata": {},
     "output_type": "execute_result"
    }
   ],
   "source": [
    "(X_train.columns == X_validation.columns).all()"
   ]
  },
  {
   "cell_type": "code",
   "execution_count": 5,
   "metadata": {
    "collapsed": false
   },
   "outputs": [],
   "source": [
    "X_train.fillna(-1, inplace=True)\n",
    "X_validation.fillna(-1, inplace=True)"
   ]
  },
  {
   "cell_type": "code",
   "execution_count": 6,
   "metadata": {
    "collapsed": false
   },
   "outputs": [],
   "source": [
    "cols = X_train.columns.tolist()\n",
    "cols[54] = 'VAR_0044_kurwa'\n",
    "for i in range(0, len(cols)):\n",
    "    cols[i] = cols[i].replace('_', '').replace('-', '').replace(' ', '')\n",
    "X_train.columns = cols\n",
    "X_validation.columns = cols"
   ]
  },
  {
   "cell_type": "code",
   "execution_count": 7,
   "metadata": {
    "collapsed": false
   },
   "outputs": [],
   "source": [
    "dtrain = xgb.DMatrix(X_train, Y_train['target'], feature_names=X_train.columns.tolist())\n",
    "dtest = xgb.DMatrix(X_validation, Y_validation['target'], feature_names=X_validation.columns.tolist())"
   ]
  },
  {
   "cell_type": "code",
   "execution_count": 8,
   "metadata": {
    "collapsed": false,
    "scrolled": false
   },
   "outputs": [
    {
     "name": "stderr",
     "output_type": "stream",
     "text": [
      "[0]\ttrain-auc:0.742734\teval-auc:0.697484\n",
      "[1]\ttrain-auc:0.769576\teval-auc:0.717014\n",
      "[2]\ttrain-auc:0.786696\teval-auc:0.730088\n",
      "[3]\ttrain-auc:0.798137\teval-auc:0.737483\n",
      "[4]\ttrain-auc:0.804429\teval-auc:0.740915\n",
      "[5]\ttrain-auc:0.807297\teval-auc:0.743523\n",
      "[6]\ttrain-auc:0.809825\teval-auc:0.745867\n",
      "[7]\ttrain-auc:0.813050\teval-auc:0.748262\n",
      "[8]\ttrain-auc:0.814991\teval-auc:0.749908\n",
      "[9]\ttrain-auc:0.815780\teval-auc:0.751016\n",
      "[10]\ttrain-auc:0.817411\teval-auc:0.752659\n",
      "[11]\ttrain-auc:0.819092\teval-auc:0.752991\n",
      "[12]\ttrain-auc:0.821062\teval-auc:0.754247\n",
      "[13]\ttrain-auc:0.822407\teval-auc:0.754730\n",
      "[14]\ttrain-auc:0.823272\teval-auc:0.755609\n",
      "[15]\ttrain-auc:0.823801\teval-auc:0.755901\n",
      "[16]\ttrain-auc:0.824625\teval-auc:0.756289\n",
      "[17]\ttrain-auc:0.826189\teval-auc:0.757239\n",
      "[18]\ttrain-auc:0.826822\teval-auc:0.757600\n",
      "[19]\ttrain-auc:0.828021\teval-auc:0.757754\n",
      "[20]\ttrain-auc:0.828919\teval-auc:0.758346\n",
      "[21]\ttrain-auc:0.829777\teval-auc:0.758529\n",
      "[22]\ttrain-auc:0.830489\teval-auc:0.759125\n",
      "[23]\ttrain-auc:0.831215\teval-auc:0.759628\n",
      "[24]\ttrain-auc:0.832174\teval-auc:0.760087\n",
      "[25]\ttrain-auc:0.832853\teval-auc:0.760130\n",
      "[26]\ttrain-auc:0.833739\teval-auc:0.760512\n",
      "[27]\ttrain-auc:0.834409\teval-auc:0.760735\n",
      "[28]\ttrain-auc:0.835378\teval-auc:0.761009\n",
      "[29]\ttrain-auc:0.835953\teval-auc:0.761660\n",
      "[30]\ttrain-auc:0.836478\teval-auc:0.761609\n",
      "[31]\ttrain-auc:0.837058\teval-auc:0.761643\n",
      "[32]\ttrain-auc:0.837607\teval-auc:0.761613\n",
      "[33]\ttrain-auc:0.838138\teval-auc:0.761891\n",
      "[34]\ttrain-auc:0.838570\teval-auc:0.762475\n",
      "[35]\ttrain-auc:0.839258\teval-auc:0.762937\n",
      "[36]\ttrain-auc:0.839724\teval-auc:0.763115\n",
      "[37]\ttrain-auc:0.840250\teval-auc:0.763228\n",
      "[38]\ttrain-auc:0.840914\teval-auc:0.763534\n",
      "[39]\ttrain-auc:0.841218\teval-auc:0.763610\n",
      "[40]\ttrain-auc:0.841911\teval-auc:0.763902\n",
      "[41]\ttrain-auc:0.842520\teval-auc:0.764292\n",
      "[42]\ttrain-auc:0.843043\teval-auc:0.764378\n",
      "[43]\ttrain-auc:0.843438\teval-auc:0.764855\n",
      "[44]\ttrain-auc:0.843974\teval-auc:0.764936\n",
      "[45]\ttrain-auc:0.844504\teval-auc:0.765027\n",
      "[46]\ttrain-auc:0.844994\teval-auc:0.765271\n",
      "[47]\ttrain-auc:0.845587\teval-auc:0.765579\n",
      "[48]\ttrain-auc:0.846302\teval-auc:0.766111\n",
      "[49]\ttrain-auc:0.846536\teval-auc:0.766188\n",
      "[50]\ttrain-auc:0.846976\teval-auc:0.766310\n",
      "[51]\ttrain-auc:0.847390\teval-auc:0.766518\n",
      "[52]\ttrain-auc:0.847940\teval-auc:0.766878\n",
      "[53]\ttrain-auc:0.848533\teval-auc:0.767169\n",
      "[54]\ttrain-auc:0.849138\teval-auc:0.767346\n",
      "[55]\ttrain-auc:0.849611\teval-auc:0.767452\n",
      "[56]\ttrain-auc:0.850174\teval-auc:0.767909\n",
      "[57]\ttrain-auc:0.850522\teval-auc:0.768042\n",
      "[58]\ttrain-auc:0.850850\teval-auc:0.768033\n",
      "[59]\ttrain-auc:0.851396\teval-auc:0.768256\n",
      "[60]\ttrain-auc:0.851922\teval-auc:0.768511\n",
      "[61]\ttrain-auc:0.852437\teval-auc:0.768672\n",
      "[62]\ttrain-auc:0.852669\teval-auc:0.768779\n",
      "[63]\ttrain-auc:0.853116\teval-auc:0.768790\n",
      "[64]\ttrain-auc:0.853647\teval-auc:0.768825\n",
      "[65]\ttrain-auc:0.854012\teval-auc:0.768916\n",
      "[66]\ttrain-auc:0.854497\teval-auc:0.768912\n",
      "[67]\ttrain-auc:0.854943\teval-auc:0.768786\n",
      "[68]\ttrain-auc:0.855388\teval-auc:0.768935\n",
      "[69]\ttrain-auc:0.856067\teval-auc:0.769080\n",
      "[70]\ttrain-auc:0.856413\teval-auc:0.769113\n",
      "[71]\ttrain-auc:0.856835\teval-auc:0.769259\n",
      "[72]\ttrain-auc:0.857254\teval-auc:0.769287\n",
      "[73]\ttrain-auc:0.857779\teval-auc:0.769493\n",
      "[74]\ttrain-auc:0.858226\teval-auc:0.769693\n",
      "[75]\ttrain-auc:0.858758\teval-auc:0.769965\n",
      "[76]\ttrain-auc:0.859339\teval-auc:0.770259\n",
      "[77]\ttrain-auc:0.859796\teval-auc:0.770266\n",
      "[78]\ttrain-auc:0.860137\teval-auc:0.770261\n",
      "[79]\ttrain-auc:0.860581\teval-auc:0.770306\n",
      "[80]\ttrain-auc:0.860952\teval-auc:0.770370\n",
      "[81]\ttrain-auc:0.861425\teval-auc:0.770307\n",
      "[82]\ttrain-auc:0.861908\teval-auc:0.770443\n",
      "[83]\ttrain-auc:0.862383\teval-auc:0.770626\n",
      "[84]\ttrain-auc:0.862874\teval-auc:0.770815\n",
      "[85]\ttrain-auc:0.863273\teval-auc:0.770930\n",
      "[86]\ttrain-auc:0.863720\teval-auc:0.770877\n",
      "[87]\ttrain-auc:0.864056\teval-auc:0.770966\n",
      "[88]\ttrain-auc:0.864559\teval-auc:0.771103\n",
      "[89]\ttrain-auc:0.865091\teval-auc:0.771301\n",
      "[90]\ttrain-auc:0.865478\teval-auc:0.771495\n",
      "[91]\ttrain-auc:0.865882\teval-auc:0.771498\n",
      "[92]\ttrain-auc:0.866228\teval-auc:0.771590\n",
      "[93]\ttrain-auc:0.866720\teval-auc:0.771661\n",
      "[94]\ttrain-auc:0.867157\teval-auc:0.771726\n",
      "[95]\ttrain-auc:0.867610\teval-auc:0.771874\n",
      "[96]\ttrain-auc:0.867953\teval-auc:0.771953\n",
      "[97]\ttrain-auc:0.868336\teval-auc:0.771943\n",
      "[98]\ttrain-auc:0.868731\teval-auc:0.772028\n",
      "[99]\ttrain-auc:0.869424\teval-auc:0.772184\n",
      "[100]\ttrain-auc:0.869934\teval-auc:0.772367\n",
      "[101]\ttrain-auc:0.870428\teval-auc:0.772557\n",
      "[102]\ttrain-auc:0.870733\teval-auc:0.772631\n",
      "[103]\ttrain-auc:0.871085\teval-auc:0.772790\n",
      "[104]\ttrain-auc:0.871437\teval-auc:0.772920\n",
      "[105]\ttrain-auc:0.871722\teval-auc:0.772920\n",
      "[106]\ttrain-auc:0.872340\teval-auc:0.773184\n",
      "[107]\ttrain-auc:0.872575\teval-auc:0.773194\n",
      "[108]\ttrain-auc:0.873095\teval-auc:0.773304\n",
      "[109]\ttrain-auc:0.873560\teval-auc:0.773423\n",
      "[110]\ttrain-auc:0.874069\teval-auc:0.773485\n",
      "[111]\ttrain-auc:0.874546\teval-auc:0.773528\n",
      "[112]\ttrain-auc:0.874921\teval-auc:0.773498\n",
      "[113]\ttrain-auc:0.875305\teval-auc:0.773541\n",
      "[114]\ttrain-auc:0.875667\teval-auc:0.773654\n",
      "[115]\ttrain-auc:0.876095\teval-auc:0.773785\n",
      "[116]\ttrain-auc:0.876516\teval-auc:0.773945\n",
      "[117]\ttrain-auc:0.877085\teval-auc:0.774021\n",
      "[118]\ttrain-auc:0.877523\teval-auc:0.774128\n",
      "[119]\ttrain-auc:0.877969\teval-auc:0.774178\n",
      "[120]\ttrain-auc:0.878405\teval-auc:0.774313\n",
      "[121]\ttrain-auc:0.878879\teval-auc:0.774435\n",
      "[122]\ttrain-auc:0.879321\teval-auc:0.774552\n",
      "[123]\ttrain-auc:0.879776\teval-auc:0.774628\n",
      "[124]\ttrain-auc:0.880143\teval-auc:0.774835\n",
      "[125]\ttrain-auc:0.880516\teval-auc:0.774827\n",
      "[126]\ttrain-auc:0.880847\teval-auc:0.774917\n",
      "[127]\ttrain-auc:0.881295\teval-auc:0.775056\n",
      "[128]\ttrain-auc:0.881583\teval-auc:0.775106\n",
      "[129]\ttrain-auc:0.881802\teval-auc:0.775103\n",
      "[130]\ttrain-auc:0.882265\teval-auc:0.775192\n",
      "[131]\ttrain-auc:0.882606\teval-auc:0.775275\n",
      "[132]\ttrain-auc:0.882930\teval-auc:0.775292\n",
      "[133]\ttrain-auc:0.883380\teval-auc:0.775506\n",
      "[134]\ttrain-auc:0.883737\teval-auc:0.775542\n",
      "[135]\ttrain-auc:0.884134\teval-auc:0.775698\n",
      "[136]\ttrain-auc:0.884601\teval-auc:0.775826\n",
      "[137]\ttrain-auc:0.885016\teval-auc:0.775821\n",
      "[138]\ttrain-auc:0.885299\teval-auc:0.775867\n",
      "[139]\ttrain-auc:0.885665\teval-auc:0.775950\n",
      "[140]\ttrain-auc:0.886024\teval-auc:0.776043\n",
      "[141]\ttrain-auc:0.886546\teval-auc:0.776136\n",
      "[142]\ttrain-auc:0.886946\teval-auc:0.776256\n",
      "[143]\ttrain-auc:0.887222\teval-auc:0.776340\n",
      "[144]\ttrain-auc:0.887688\teval-auc:0.776306\n",
      "[145]\ttrain-auc:0.888121\teval-auc:0.776355\n",
      "[146]\ttrain-auc:0.888493\teval-auc:0.776467\n",
      "[147]\ttrain-auc:0.888876\teval-auc:0.776547\n",
      "[148]\ttrain-auc:0.889319\teval-auc:0.776680\n",
      "[149]\ttrain-auc:0.889711\teval-auc:0.776785\n",
      "[150]\ttrain-auc:0.890239\teval-auc:0.776884\n",
      "[151]\ttrain-auc:0.890681\teval-auc:0.777038\n",
      "[152]\ttrain-auc:0.891075\teval-auc:0.777060\n",
      "[153]\ttrain-auc:0.891332\teval-auc:0.777104\n",
      "[154]\ttrain-auc:0.891752\teval-auc:0.777161\n",
      "[155]\ttrain-auc:0.892105\teval-auc:0.777199\n",
      "[156]\ttrain-auc:0.892347\teval-auc:0.777247\n",
      "[157]\ttrain-auc:0.892682\teval-auc:0.777260\n",
      "[158]\ttrain-auc:0.893044\teval-auc:0.777383\n",
      "[159]\ttrain-auc:0.893233\teval-auc:0.777468\n",
      "[160]\ttrain-auc:0.893550\teval-auc:0.777530\n",
      "[161]\ttrain-auc:0.893868\teval-auc:0.777695\n",
      "[162]\ttrain-auc:0.894310\teval-auc:0.777700\n",
      "[163]\ttrain-auc:0.894616\teval-auc:0.777703\n",
      "[164]\ttrain-auc:0.894931\teval-auc:0.777736\n",
      "[165]\ttrain-auc:0.895241\teval-auc:0.777782\n",
      "[166]\ttrain-auc:0.895607\teval-auc:0.777816\n",
      "[167]\ttrain-auc:0.895905\teval-auc:0.777892\n",
      "[168]\ttrain-auc:0.896264\teval-auc:0.777946\n",
      "[169]\ttrain-auc:0.896581\teval-auc:0.778028\n",
      "[170]\ttrain-auc:0.896957\teval-auc:0.778107\n",
      "[171]\ttrain-auc:0.897204\teval-auc:0.778115\n",
      "[172]\ttrain-auc:0.897530\teval-auc:0.778195\n",
      "[173]\ttrain-auc:0.897897\teval-auc:0.778318\n",
      "[174]\ttrain-auc:0.898155\teval-auc:0.778386\n",
      "[175]\ttrain-auc:0.898439\teval-auc:0.778439\n",
      "[176]\ttrain-auc:0.898761\teval-auc:0.778544\n",
      "[177]\ttrain-auc:0.899012\teval-auc:0.778621\n",
      "[178]\ttrain-auc:0.899371\teval-auc:0.778716\n",
      "[179]\ttrain-auc:0.899741\teval-auc:0.778755\n",
      "[180]\ttrain-auc:0.899973\teval-auc:0.778762\n",
      "[181]\ttrain-auc:0.900308\teval-auc:0.778786\n",
      "[182]\ttrain-auc:0.900554\teval-auc:0.778821\n",
      "[183]\ttrain-auc:0.900765\teval-auc:0.778834\n",
      "[184]\ttrain-auc:0.901091\teval-auc:0.778864\n",
      "[185]\ttrain-auc:0.901458\teval-auc:0.778883\n",
      "[186]\ttrain-auc:0.901785\teval-auc:0.778917\n",
      "[187]\ttrain-auc:0.902138\teval-auc:0.779024\n",
      "[188]\ttrain-auc:0.902522\teval-auc:0.779087\n",
      "[189]\ttrain-auc:0.902787\teval-auc:0.779158\n",
      "[190]\ttrain-auc:0.903142\teval-auc:0.779221\n",
      "[191]\ttrain-auc:0.903450\teval-auc:0.779234\n",
      "[192]\ttrain-auc:0.903640\teval-auc:0.779306\n",
      "[193]\ttrain-auc:0.903907\teval-auc:0.779341\n",
      "[194]\ttrain-auc:0.904206\teval-auc:0.779440\n",
      "[195]\ttrain-auc:0.904466\teval-auc:0.779517\n",
      "[196]\ttrain-auc:0.904713\teval-auc:0.779588\n",
      "[197]\ttrain-auc:0.905092\teval-auc:0.779672\n",
      "[198]\ttrain-auc:0.905283\teval-auc:0.779700\n",
      "[199]\ttrain-auc:0.905568\teval-auc:0.779814\n"
     ]
    }
   ],
   "source": [
    "evals_result = {}\n",
    "param = {'bst:max_depth': 12, 'bst:eta': 0.02, 'objective':'binary:logistic', 'min_child_weight': 10, 'colsample_bytree': 0.1, 'subsample': 0.5, 'nthread': 3, 'eval_metric': 'auc', 'silent': 1, 'seed': 0}\n",
    "plst = param.items()\n",
    "plst = [('eval_metric', 'auc')] # Multiple evals can be handled in this way\n",
    "eval_list  = [(dtrain,'train'), (dtest,'eval')]\n",
    "num_round = 200\n",
    "bst = xgb.train(param, dtrain, num_round, eval_list, evals_result=evals_result)#, verbose_eval=False)"
   ]
  },
  {
   "cell_type": "code",
   "execution_count": 9,
   "metadata": {
    "collapsed": false
   },
   "outputs": [],
   "source": [
    "feat_importances = bst.get_fscore()"
   ]
  },
  {
   "cell_type": "code",
   "execution_count": 20,
   "metadata": {
    "collapsed": false
   },
   "outputs": [
    {
     "data": {
      "text/plain": [
       "(116184, 2473)"
      ]
     },
     "execution_count": 20,
     "metadata": {},
     "output_type": "execute_result"
    }
   ],
   "source": [
    "X_train.shape"
   ]
  },
  {
   "cell_type": "code",
   "execution_count": 23,
   "metadata": {
    "collapsed": false
   },
   "outputs": [
    {
     "name": "stdout",
     "output_type": "stream",
     "text": [
      "1068\n"
     ]
    }
   ],
   "source": [
    "FEATURE_THRESHOLD = 20\n",
    "\n",
    "features_to_keep = []\n",
    "\n",
    "for i in range(0, X_train.shape[1]):\n",
    "    if X_train.columns[i] not in feat_importances or feat_importances[X_train.columns[i]] < FEATURE_THRESHOLD:\n",
    "        continue\n",
    "    features_to_keep.append(X_train.columns[i])\n",
    "\n",
    "print len(features_to_keep)"
   ]
  },
  {
   "cell_type": "code",
   "execution_count": 24,
   "metadata": {
    "collapsed": true
   },
   "outputs": [],
   "source": [
    "dtrain = xgb.DMatrix(X_train[features_to_keep], Y_train['target'], feature_names=features_to_keep)\n",
    "dtest = xgb.DMatrix(X_validation[features_to_keep], Y_validation['target'], feature_names=features_to_keep)"
   ]
  },
  {
   "cell_type": "code",
   "execution_count": 26,
   "metadata": {
    "collapsed": false,
    "scrolled": false
   },
   "outputs": [
    {
     "name": "stderr",
     "output_type": "stream",
     "text": [
      "[0]\ttrain-auc:0.749397\teval-auc:0.691848\n",
      "[1]\ttrain-auc:0.782517\teval-auc:0.723052\n",
      "[2]\ttrain-auc:0.795729\teval-auc:0.734712\n",
      "[3]\ttrain-auc:0.804052\teval-auc:0.741010\n",
      "[4]\ttrain-auc:0.810505\teval-auc:0.746023\n",
      "[5]\ttrain-auc:0.814571\teval-auc:0.749720\n",
      "[6]\ttrain-auc:0.818307\teval-auc:0.752114\n",
      "[7]\ttrain-auc:0.820095\teval-auc:0.753276\n",
      "[8]\ttrain-auc:0.821748\teval-auc:0.754544\n",
      "[9]\ttrain-auc:0.822699\teval-auc:0.756303\n",
      "[10]\ttrain-auc:0.824590\teval-auc:0.757370\n",
      "[11]\ttrain-auc:0.825920\teval-auc:0.757883\n",
      "[12]\ttrain-auc:0.827260\teval-auc:0.758427\n",
      "[13]\ttrain-auc:0.828713\teval-auc:0.758966\n",
      "[14]\ttrain-auc:0.829545\teval-auc:0.759856\n",
      "[15]\ttrain-auc:0.830345\teval-auc:0.759673\n",
      "[16]\ttrain-auc:0.831331\teval-auc:0.759852\n",
      "[17]\ttrain-auc:0.832105\teval-auc:0.760144\n",
      "[18]\ttrain-auc:0.833293\teval-auc:0.760879\n",
      "[19]\ttrain-auc:0.834007\teval-auc:0.761160\n",
      "[20]\ttrain-auc:0.834881\teval-auc:0.761610\n",
      "[21]\ttrain-auc:0.835698\teval-auc:0.762010\n",
      "[22]\ttrain-auc:0.836398\teval-auc:0.762389\n",
      "[23]\ttrain-auc:0.837366\teval-auc:0.762712\n",
      "[24]\ttrain-auc:0.837817\teval-auc:0.762812\n",
      "[25]\ttrain-auc:0.838328\teval-auc:0.763218\n",
      "[26]\ttrain-auc:0.838839\teval-auc:0.763420\n",
      "[27]\ttrain-auc:0.839741\teval-auc:0.763868\n",
      "[28]\ttrain-auc:0.840594\teval-auc:0.764347\n",
      "[29]\ttrain-auc:0.841401\teval-auc:0.764737\n",
      "[30]\ttrain-auc:0.842413\teval-auc:0.765068\n",
      "[31]\ttrain-auc:0.842947\teval-auc:0.765267\n",
      "[32]\ttrain-auc:0.843660\teval-auc:0.765626\n",
      "[33]\ttrain-auc:0.844249\teval-auc:0.765922\n",
      "[34]\ttrain-auc:0.844813\teval-auc:0.765981\n",
      "[35]\ttrain-auc:0.845596\teval-auc:0.766247\n",
      "[36]\ttrain-auc:0.846263\teval-auc:0.766397\n",
      "[37]\ttrain-auc:0.847057\teval-auc:0.766407\n",
      "[38]\ttrain-auc:0.847605\teval-auc:0.766478\n",
      "[39]\ttrain-auc:0.847984\teval-auc:0.766640\n",
      "[40]\ttrain-auc:0.848719\teval-auc:0.766808\n",
      "[41]\ttrain-auc:0.849214\teval-auc:0.766821\n",
      "[42]\ttrain-auc:0.849782\teval-auc:0.766971\n",
      "[43]\ttrain-auc:0.850500\teval-auc:0.767184\n",
      "[44]\ttrain-auc:0.850808\teval-auc:0.767520\n",
      "[45]\ttrain-auc:0.851241\teval-auc:0.767585\n",
      "[46]\ttrain-auc:0.851925\teval-auc:0.767771\n",
      "[47]\ttrain-auc:0.852182\teval-auc:0.767954\n",
      "[48]\ttrain-auc:0.852818\teval-auc:0.767907\n",
      "[49]\ttrain-auc:0.853353\teval-auc:0.767922\n",
      "[50]\ttrain-auc:0.853978\teval-auc:0.768195\n",
      "[51]\ttrain-auc:0.854656\teval-auc:0.768269\n",
      "[52]\ttrain-auc:0.855122\teval-auc:0.768533\n",
      "[53]\ttrain-auc:0.855632\teval-auc:0.768599\n",
      "[54]\ttrain-auc:0.856060\teval-auc:0.768731\n",
      "[55]\ttrain-auc:0.856618\teval-auc:0.768857\n",
      "[56]\ttrain-auc:0.857176\teval-auc:0.768870\n",
      "[57]\ttrain-auc:0.857530\teval-auc:0.769038\n",
      "[58]\ttrain-auc:0.857864\teval-auc:0.769025\n",
      "[59]\ttrain-auc:0.858406\teval-auc:0.769171\n",
      "[60]\ttrain-auc:0.858985\teval-auc:0.769267\n",
      "[61]\ttrain-auc:0.859597\teval-auc:0.769396\n",
      "[62]\ttrain-auc:0.860166\teval-auc:0.769598\n",
      "[63]\ttrain-auc:0.860816\teval-auc:0.769730\n",
      "[64]\ttrain-auc:0.861277\teval-auc:0.769807\n",
      "[65]\ttrain-auc:0.861786\teval-auc:0.769902\n",
      "[66]\ttrain-auc:0.862298\teval-auc:0.770044\n",
      "[67]\ttrain-auc:0.862921\teval-auc:0.770366\n",
      "[68]\ttrain-auc:0.863340\teval-auc:0.770499\n",
      "[69]\ttrain-auc:0.863857\teval-auc:0.770625\n",
      "[70]\ttrain-auc:0.864401\teval-auc:0.770875\n",
      "[71]\ttrain-auc:0.864705\teval-auc:0.771076\n",
      "[72]\ttrain-auc:0.865232\teval-auc:0.771249\n",
      "[73]\ttrain-auc:0.865697\teval-auc:0.771274\n",
      "[74]\ttrain-auc:0.866279\teval-auc:0.771461\n",
      "[75]\ttrain-auc:0.866873\teval-auc:0.771527\n",
      "[76]\ttrain-auc:0.867239\teval-auc:0.771677\n",
      "[77]\ttrain-auc:0.867822\teval-auc:0.771646\n",
      "[78]\ttrain-auc:0.868350\teval-auc:0.771702\n",
      "[79]\ttrain-auc:0.868542\teval-auc:0.771822\n",
      "[80]\ttrain-auc:0.869017\teval-auc:0.771971\n",
      "[81]\ttrain-auc:0.869573\teval-auc:0.772052\n"
     ]
    },
    {
     "ename": "KeyboardInterrupt",
     "evalue": "",
     "output_type": "error",
     "traceback": [
      "\u001b[1;31m---------------------------------------------------------------------------\u001b[0m",
      "\u001b[1;31mKeyboardInterrupt\u001b[0m                         Traceback (most recent call last)",
      "\u001b[1;32m<ipython-input-26-606ab2e66234>\u001b[0m in \u001b[0;36m<module>\u001b[1;34m()\u001b[0m\n\u001b[0;32m      5\u001b[0m \u001b[0meval_list\u001b[0m  \u001b[1;33m=\u001b[0m \u001b[1;33m[\u001b[0m\u001b[1;33m(\u001b[0m\u001b[0mdtrain\u001b[0m\u001b[1;33m,\u001b[0m\u001b[1;34m'train'\u001b[0m\u001b[1;33m)\u001b[0m\u001b[1;33m,\u001b[0m \u001b[1;33m(\u001b[0m\u001b[0mdtest\u001b[0m\u001b[1;33m,\u001b[0m\u001b[1;34m'eval'\u001b[0m\u001b[1;33m)\u001b[0m\u001b[1;33m]\u001b[0m\u001b[1;33m\u001b[0m\u001b[0m\n\u001b[0;32m      6\u001b[0m \u001b[0mnum_round\u001b[0m \u001b[1;33m=\u001b[0m \u001b[1;36m200\u001b[0m\u001b[1;33m\u001b[0m\u001b[0m\n\u001b[1;32m----> 7\u001b[1;33m \u001b[0mbst\u001b[0m \u001b[1;33m=\u001b[0m \u001b[0mxgb\u001b[0m\u001b[1;33m.\u001b[0m\u001b[0mtrain\u001b[0m\u001b[1;33m(\u001b[0m\u001b[0mparam\u001b[0m\u001b[1;33m,\u001b[0m \u001b[0mdtrain\u001b[0m\u001b[1;33m,\u001b[0m \u001b[0mnum_round\u001b[0m\u001b[1;33m,\u001b[0m \u001b[0meval_list\u001b[0m\u001b[1;33m,\u001b[0m \u001b[0mevals_result\u001b[0m\u001b[1;33m=\u001b[0m\u001b[0mevals_result\u001b[0m\u001b[1;33m)\u001b[0m\u001b[1;31m#, verbose_eval=False)\u001b[0m\u001b[1;33m\u001b[0m\u001b[0m\n\u001b[0m",
      "\u001b[1;32mC:\\Users\\Pawel\\Anaconda\\lib\\site-packages\\xgboost-0.4-py2.7.egg\\xgboost\\training.pyc\u001b[0m in \u001b[0;36mtrain\u001b[1;34m(params, dtrain, num_boost_round, evals, obj, feval, early_stopping_rounds, evals_result, verbose_eval)\u001b[0m\n\u001b[0;32m     61\u001b[0m     \u001b[1;32mif\u001b[0m \u001b[1;32mnot\u001b[0m \u001b[0mearly_stopping_rounds\u001b[0m\u001b[1;33m:\u001b[0m\u001b[1;33m\u001b[0m\u001b[0m\n\u001b[0;32m     62\u001b[0m         \u001b[1;32mfor\u001b[0m \u001b[0mi\u001b[0m \u001b[1;32min\u001b[0m \u001b[0mrange\u001b[0m\u001b[1;33m(\u001b[0m\u001b[0mnum_boost_round\u001b[0m\u001b[1;33m)\u001b[0m\u001b[1;33m:\u001b[0m\u001b[1;33m\u001b[0m\u001b[0m\n\u001b[1;32m---> 63\u001b[1;33m             \u001b[0mbst\u001b[0m\u001b[1;33m.\u001b[0m\u001b[0mupdate\u001b[0m\u001b[1;33m(\u001b[0m\u001b[0mdtrain\u001b[0m\u001b[1;33m,\u001b[0m \u001b[0mi\u001b[0m\u001b[1;33m,\u001b[0m \u001b[0mobj\u001b[0m\u001b[1;33m)\u001b[0m\u001b[1;33m\u001b[0m\u001b[0m\n\u001b[0m\u001b[0;32m     64\u001b[0m             \u001b[1;32mif\u001b[0m \u001b[0mlen\u001b[0m\u001b[1;33m(\u001b[0m\u001b[0mevals\u001b[0m\u001b[1;33m)\u001b[0m \u001b[1;33m!=\u001b[0m \u001b[1;36m0\u001b[0m\u001b[1;33m:\u001b[0m\u001b[1;33m\u001b[0m\u001b[0m\n\u001b[0;32m     65\u001b[0m                 \u001b[0mbst_eval_set\u001b[0m \u001b[1;33m=\u001b[0m \u001b[0mbst\u001b[0m\u001b[1;33m.\u001b[0m\u001b[0meval_set\u001b[0m\u001b[1;33m(\u001b[0m\u001b[0mevals\u001b[0m\u001b[1;33m,\u001b[0m \u001b[0mi\u001b[0m\u001b[1;33m,\u001b[0m \u001b[0mfeval\u001b[0m\u001b[1;33m)\u001b[0m\u001b[1;33m\u001b[0m\u001b[0m\n",
      "\u001b[1;32mC:\\Users\\Pawel\\Anaconda\\lib\\site-packages\\xgboost-0.4-py2.7.egg\\xgboost\\core.pyc\u001b[0m in \u001b[0;36mupdate\u001b[1;34m(self, dtrain, iteration, fobj)\u001b[0m\n\u001b[0;32m    680\u001b[0m \u001b[1;33m\u001b[0m\u001b[0m\n\u001b[0;32m    681\u001b[0m         \u001b[1;32mif\u001b[0m \u001b[0mfobj\u001b[0m \u001b[1;32mis\u001b[0m \u001b[0mNone\u001b[0m\u001b[1;33m:\u001b[0m\u001b[1;33m\u001b[0m\u001b[0m\n\u001b[1;32m--> 682\u001b[1;33m             \u001b[0m_check_call\u001b[0m\u001b[1;33m(\u001b[0m\u001b[0m_LIB\u001b[0m\u001b[1;33m.\u001b[0m\u001b[0mXGBoosterUpdateOneIter\u001b[0m\u001b[1;33m(\u001b[0m\u001b[0mself\u001b[0m\u001b[1;33m.\u001b[0m\u001b[0mhandle\u001b[0m\u001b[1;33m,\u001b[0m \u001b[0miteration\u001b[0m\u001b[1;33m,\u001b[0m \u001b[0mdtrain\u001b[0m\u001b[1;33m.\u001b[0m\u001b[0mhandle\u001b[0m\u001b[1;33m)\u001b[0m\u001b[1;33m)\u001b[0m\u001b[1;33m\u001b[0m\u001b[0m\n\u001b[0m\u001b[0;32m    683\u001b[0m         \u001b[1;32melse\u001b[0m\u001b[1;33m:\u001b[0m\u001b[1;33m\u001b[0m\u001b[0m\n\u001b[0;32m    684\u001b[0m             \u001b[0mpred\u001b[0m \u001b[1;33m=\u001b[0m \u001b[0mself\u001b[0m\u001b[1;33m.\u001b[0m\u001b[0mpredict\u001b[0m\u001b[1;33m(\u001b[0m\u001b[0mdtrain\u001b[0m\u001b[1;33m)\u001b[0m\u001b[1;33m\u001b[0m\u001b[0m\n",
      "\u001b[1;31mKeyboardInterrupt\u001b[0m: "
     ]
    }
   ],
   "source": [
    "evals_result = {}\n",
    "param = {'bst:max_depth': 12, 'bst:eta': 0.02, 'objective':'binary:logistic', 'min_child_weight': 10, 'colsample_bytree': 0.2, 'subsample': 0.5, 'nthread': 3, 'eval_metric': 'auc', 'silent': 1, 'seed': 0}\n",
    "plst = param.items()\n",
    "plst = [('eval_metric', 'auc')] # Multiple evals can be handled in this way\n",
    "eval_list  = [(dtrain,'train'), (dtest,'eval')]\n",
    "num_round = 200\n",
    "bst = xgb.train(param, dtrain, num_round, eval_list, evals_result=evals_result)#, verbose_eval=False)"
   ]
  },
  {
   "cell_type": "code",
   "execution_count": null,
   "metadata": {
    "collapsed": true
   },
   "outputs": [],
   "source": []
  }
 ],
 "metadata": {
  "kernelspec": {
   "display_name": "Python 2",
   "language": "python",
   "name": "python2"
  },
  "language_info": {
   "codemirror_mode": {
    "name": "ipython",
    "version": 2
   },
   "file_extension": ".py",
   "mimetype": "text/x-python",
   "name": "python",
   "nbconvert_exporter": "python",
   "pygments_lexer": "ipython2",
   "version": "2.7.10"
  }
 },
 "nbformat": 4,
 "nbformat_minor": 0
}
