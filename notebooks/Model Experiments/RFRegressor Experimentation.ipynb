{
 "cells": [
  {
   "cell_type": "code",
   "execution_count": 60,
   "metadata": {
    "collapsed": false,
    "input_collapsed": true
   },
   "outputs": [],
   "source": [
    "from sklearn import cross_validation\n",
    "from sklearn.ensemble import RandomForestRegressor\n",
    "from sklearn.metrics import auc, roc_auc_score\n",
    "\n",
    "import xgboost as xgb\n",
    "\n",
    "sys.path.append('C:\\\\Users\\\\Pawel\\\\PycharmProjects\\\\Springleaf Marketing Response\\\\src')\n",
    "sys.path.append('C:\\\\Users\\\\Pawel\\\\PycharmProjects\\\\Springleaf Marketing Response\\\\src\\\\model_evaluation')\n",
    "from xgboost_tester import XGBoostTester\n",
    "import utilities\n",
    "\n",
    "%matplotlib inline"
   ]
  },
  {
   "cell_type": "code",
   "execution_count": 61,
   "metadata": {
    "collapsed": false,
    "input_collapsed": false
   },
   "outputs": [],
   "source": [
    "DATA_DIR = \"F:\\\\Pawel\\\\Kaggle\\\\Springleaf Marketing Response\\\\Data\"\n",
    "FEATURES_DATA_DIR = \"F:\\\\Pawel\\\\Kaggle\\\\Springleaf Marketing Response\\\\Data\\\\Train_Dates_Only\"\n",
    "PREDICTIONS_DIR = \"F:\\\\Pawel\\\\Kaggle\\\\Springleaf Marketing Response\\\\Data\\\\Model Predictions\"\n",
    "\n",
    "RESULTS_DIR = \"F:\\\\Pawel\\\\Kaggle\\\\Springleaf Marketing Response\\\\Data\\\\Model Results\""
   ]
  },
  {
   "cell_type": "code",
   "execution_count": 62,
   "metadata": {
    "collapsed": false
   },
   "outputs": [],
   "source": [
    "X_train = pd.read_hdf(os.path.join(FEATURES_DATA_DIR, 'train_train_features.hf5'), 'data')\n",
    "X_validation = pd.read_hdf(os.path.join(FEATURES_DATA_DIR, 'train_validation_features.hf5'), 'data')\n",
    "Y_train = pd.read_hdf(os.path.join(DATA_DIR, 'train_train_y.hf5'), 'data')\n",
    "Y_validation = pd.read_hdf(os.path.join(DATA_DIR, 'train_validation_y.hf5'), 'data')"
   ]
  },
  {
   "cell_type": "code",
   "execution_count": 63,
   "metadata": {
    "collapsed": true
   },
   "outputs": [],
   "source": [
    "X_train.fillna(-1, inplace=True)\n",
    "X_validation.fillna(-1, inplace=True)"
   ]
  },
  {
   "cell_type": "code",
   "execution_count": 64,
   "metadata": {
    "collapsed": true
   },
   "outputs": [],
   "source": [
    "cols = [i for i in range(0,X_train.shape[1])]\n",
    "#cols = [i for i in range(0,16)]\n"
   ]
  },
  {
   "cell_type": "code",
   "execution_count": 65,
   "metadata": {
    "collapsed": false
   },
   "outputs": [
    {
     "name": "stdout",
     "output_type": "stream",
     "text": [
      "0.652070782104\n"
     ]
    },
    {
     "name": "stderr",
     "output_type": "stream",
     "text": [
      "C:\\Users\\Pawel\\Anaconda\\lib\\site-packages\\IPython\\kernel\\__main__.py:2: DataConversionWarning: A column-vector y was passed when a 1d array was expected. Please change the shape of y to (n_samples,), for example using ravel().\n",
      "  from IPython.kernel.zmq import kernelapp as app\n"
     ]
    }
   ],
   "source": [
    "rf = RandomForestRegressor(n_estimators=100, max_depth=8, max_features=0.1, min_samples_leaf=10, n_jobs=3)\n",
    "rf.fit(X_train.iloc[:,cols], Y_train)\n",
    "\n",
    "predictions = pd.DataFrame(rf.predict(X_validation.iloc[:,cols]))\n",
    "predictions.index = Y_validation.index\n",
    "predictions.columns = ['target']\n",
    "print roc_auc_score(Y_validation, predictions['target'])\n",
    "# predictions.to_hdf(os.path.join(PREDICTIONS_DIR, 'train_train_rfregressor_norm_{0}.hf5'.format(0)), 'data', complib='blosc', complevel=9)    "
   ]
  },
  {
   "cell_type": "code",
   "execution_count": 66,
   "metadata": {
    "collapsed": false
   },
   "outputs": [
    {
     "data": {
      "text/plain": [
       "array([  8.86661169e-02,   1.15032085e-02,   6.28330658e-04,\n",
       "         1.73520574e-04,   4.23106441e-05,   5.80869933e-04,\n",
       "         1.52004616e-03,   6.82273086e-04,   8.90797308e-04,\n",
       "         1.29125489e-03,   5.16417919e-03,   2.30526445e-03,\n",
       "         9.43772580e-04,   6.97873913e-03,   6.45948951e-04,\n",
       "         4.99965951e-03,   4.72547902e-02,   8.61740923e-02,\n",
       "         3.82727361e-02,   3.62288532e-02,   2.57854334e-03,\n",
       "         3.33743839e-03,   4.49899099e-03,   1.93856117e-03,\n",
       "         1.56326653e-04,   3.50965101e-04,   3.48653563e-04,\n",
       "         1.27473548e-04,   1.17908799e-04,   1.68124085e-04,\n",
       "         1.25935999e-04,   1.08570212e-04,   5.48085984e-05,\n",
       "         8.44989334e-05,   1.61238407e-04,   2.15214931e-05,\n",
       "         1.76939472e-04,   3.09311403e-04,   3.40873537e-04,\n",
       "         1.56084355e-04,   2.07059487e-04,   7.42387681e-04,\n",
       "         8.72670562e-04,   2.94845704e-04,   1.36348204e-04,\n",
       "         4.06406077e-04,   4.53549939e-04,   1.46781247e-04,\n",
       "         1.67387371e-04,   5.73067247e-04,   7.53238073e-04,\n",
       "         3.09323521e-04,   4.51177046e-04,   7.79845378e-04,\n",
       "         9.13229400e-04,   2.00456031e-03,   2.65738885e-03,\n",
       "         1.00987910e-03,   5.84779354e-03,   3.95730904e-04,\n",
       "         1.11637836e-03,   6.08210981e-04,   1.36741597e-03,\n",
       "         3.25992044e-04,   4.63091154e-04,   6.76970762e-04,\n",
       "         8.22443130e-04,   3.00769533e-04,   5.07263241e-03,\n",
       "         3.21873623e-03,   5.81310457e-03,   2.67272134e-03,\n",
       "         5.38652843e-04,   4.49137732e-04,   9.08833866e-04,\n",
       "         1.46272953e-04,   2.50670367e-03,   2.42105808e-03,\n",
       "         4.40727682e-03,   1.55571147e-03,   8.44469284e-02,\n",
       "         2.30931602e-04,   2.21569160e-04,   1.76381512e-04,\n",
       "         7.47631863e-04,   8.96238396e-04,   3.84790016e-04,\n",
       "         1.62218411e-03,   1.00140232e-03,   7.16696755e-03,\n",
       "         2.09444373e-03,   4.83522556e-03,   1.49164149e-03,\n",
       "         6.39637150e-02,   3.33801295e-02,   3.28295976e-02,\n",
       "         5.96732516e-05,   6.76213187e-05,   1.05140228e-04,\n",
       "         2.43390366e-04,   5.98427927e-04,   2.91285406e-04,\n",
       "         5.40415062e-04,   7.72929450e-04,   1.05190703e-03,\n",
       "         1.36340259e-03,   9.30078580e-04,   7.60060388e-04,\n",
       "         2.21870334e-02,   1.99487664e-02,   3.20825781e-04,\n",
       "         2.74121618e-04,   6.44506720e-05,   1.13947411e-04,\n",
       "         4.64333690e-05,   2.19800048e-04,   3.97108184e-05,\n",
       "         1.95072582e-04,   2.57856143e-04,   1.39574933e-04,\n",
       "         3.44503518e-05,   2.17732035e-04,   2.60805353e-04,\n",
       "         3.34039804e-04,   3.19972858e-04,   5.24910219e-05,\n",
       "         6.19628994e-05,   3.51165606e-05,   4.90264873e-05,\n",
       "         9.10868730e-05,   5.95687316e-05,   0.00000000e+00,\n",
       "         0.00000000e+00,   2.41922382e-05,   9.76120110e-05,\n",
       "         0.00000000e+00,   3.43675363e-05,   0.00000000e+00,\n",
       "         1.74860211e-04,   1.20646883e-04,   6.28312699e-05,\n",
       "         5.10892382e-05,   6.76743950e-05,   0.00000000e+00,\n",
       "         1.00336921e-04,   5.50765059e-05,   0.00000000e+00,\n",
       "         1.32008137e-05,   1.00813236e-04,   4.32250431e-05,\n",
       "         3.18116766e-05,   9.06623887e-05,   1.13693279e-04,\n",
       "         1.68483138e-04,   1.35665535e-04,   4.50430777e-04,\n",
       "         2.50503966e-04,   3.57336914e-05,   1.82891763e-05,\n",
       "         1.24935114e-04,   9.93609870e-05,   0.00000000e+00,\n",
       "         2.21580061e-04,   1.12963023e-04,   2.66249563e-05,\n",
       "         9.16194275e-05,   3.69155767e-04,   6.89081796e-05,\n",
       "         4.02779966e-04,   3.57319488e-04,   8.69407772e-04,\n",
       "         7.13849380e-04,   2.97955534e-04,   1.37383569e-05,\n",
       "         2.95755146e-05,   1.46590199e-04,   3.23320568e-04,\n",
       "         3.85640545e-04,   4.72448434e-04,   3.10585666e-05,\n",
       "         4.06380796e-04,   6.83546938e-04,   9.12534853e-04,\n",
       "         1.04771489e-03,   6.75431235e-04,   6.20880277e-04,\n",
       "         3.30030520e-04,   1.43177089e-05,   0.00000000e+00,\n",
       "         0.00000000e+00,   6.79913195e-06,   2.14571672e-04,\n",
       "         2.37836310e-04,   2.84569171e-04,   3.50162493e-04,\n",
       "         0.00000000e+00,   2.23023738e-04,   2.24563987e-04,\n",
       "         1.53289686e-04,   1.81189254e-04,   1.06539948e-03,\n",
       "         6.41207706e-04,   1.51284744e-04,   5.79482143e-06,\n",
       "         1.16951297e-06,   2.16412968e-04,   4.82877053e-04,\n",
       "         3.01975214e-04,   6.35959211e-04,   5.16713818e-04,\n",
       "         2.40167836e-04,   3.87894718e-05,   1.11962883e-03,\n",
       "         7.53220122e-04,   5.43484811e-04,   1.23746070e-03,\n",
       "         5.78948239e-04,   1.63036889e-04,   1.65065486e-05,\n",
       "         6.87152886e-05,   5.94135050e-05,   4.71507891e-04,\n",
       "         2.35074821e-04,   8.72778842e-04,   5.32705351e-04,\n",
       "         4.08039078e-04,   1.02340623e-03,   1.51807819e-04,\n",
       "         9.53934592e-04,   7.09520901e-04,   4.18209525e-03,\n",
       "         5.51915942e-03,   1.75856797e-04,   1.09267563e-04,\n",
       "         9.75440676e-05,   1.98867878e-04,   7.78121607e-05,\n",
       "         2.41643275e-04,   8.42887654e-04,   3.92131221e-04,\n",
       "         4.75269950e-04,   1.10243463e-03,   9.12343194e-04,\n",
       "         1.35692232e-03,   1.40930419e-03,   1.26084597e-03,\n",
       "         7.96420986e-04,   0.00000000e+00,   2.43102723e-05,\n",
       "         5.96265266e-05,   4.85033634e-05,   3.83428258e-04,\n",
       "         0.00000000e+00,   2.62837179e-04,   5.99699430e-04,\n",
       "         7.92553427e-04,   6.05746496e-04,   9.45579007e-04,\n",
       "         7.70387376e-04,   5.25985115e-04,   2.71641131e-03,\n",
       "         9.85646892e-04,   1.57198532e-04,   0.00000000e+00,\n",
       "         0.00000000e+00,   2.16589204e-04,   6.72108207e-04,\n",
       "         3.80053464e-04,   8.25283245e-06,   1.11417783e-03,\n",
       "         8.78736412e-04,   4.93295447e-04,   2.20518726e-03,\n",
       "         1.07938612e-03,   9.71855851e-04,   2.19479481e-03,\n",
       "         1.06946391e-03,   2.51863856e-04,   2.51073474e-05,\n",
       "         6.70271610e-05,   9.34708198e-05,   9.44717947e-04,\n",
       "         2.19129217e-04,   7.40189814e-04,   1.65815929e-04,\n",
       "         8.00994000e-04,   3.50855963e-04,   1.98474093e-03,\n",
       "         3.09718334e-03,   2.05437947e-03,   6.73646431e-02,\n",
       "         1.46750641e-02,   2.66269481e-04,   4.22845189e-05,\n",
       "         5.54864172e-05,   3.29570721e-04,   1.28838435e-03,\n",
       "         1.60531844e-04,   8.27704952e-04,   8.83742114e-04,\n",
       "         3.86792143e-03,   9.58474961e-04,   8.52254349e-04,\n",
       "         5.83395138e-03,   4.45463255e-03,   7.90212235e-02,\n",
       "         3.33968590e-02,   1.88971900e-04,   1.77836289e-04,\n",
       "         1.20627609e-04,   3.12805846e-04,   1.12695625e-03,\n",
       "         4.23029012e-04,   7.10619602e-04,   5.83683673e-04,\n",
       "         1.84956135e-03,   1.51976391e-03,   6.69568637e-04,\n",
       "         2.27978068e-03,   5.26361172e-03])"
      ]
     },
     "execution_count": 66,
     "metadata": {},
     "output_type": "execute_result"
    }
   ],
   "source": [
    "rf.feature_importances_"
   ]
  },
  {
   "cell_type": "code",
   "execution_count": 67,
   "metadata": {
    "collapsed": false
   },
   "outputs": [
    {
     "data": {
      "text/html": [
       "<div>\n",
       "<table border=\"1\" class=\"dataframe\">\n",
       "  <thead>\n",
       "    <tr style=\"text-align: right;\">\n",
       "      <th></th>\n",
       "      <th>VAR_0075</th>\n",
       "      <th>DOW_0075</th>\n",
       "    </tr>\n",
       "    <tr>\n",
       "      <th>ID</th>\n",
       "      <th></th>\n",
       "      <th></th>\n",
       "    </tr>\n",
       "  </thead>\n",
       "  <tbody>\n",
       "    <tr>\n",
       "      <th>175265</th>\n",
       "      <td>4396</td>\n",
       "      <td>5</td>\n",
       "    </tr>\n",
       "    <tr>\n",
       "      <th>78247</th>\n",
       "      <td>4477</td>\n",
       "      <td>2</td>\n",
       "    </tr>\n",
       "    <tr>\n",
       "      <th>73096</th>\n",
       "      <td>4567</td>\n",
       "      <td>1</td>\n",
       "    </tr>\n",
       "    <tr>\n",
       "      <th>85982</th>\n",
       "      <td>4546</td>\n",
       "      <td>1</td>\n",
       "    </tr>\n",
       "    <tr>\n",
       "      <th>252228</th>\n",
       "      <td>3513</td>\n",
       "      <td>4</td>\n",
       "    </tr>\n",
       "  </tbody>\n",
       "</table>\n",
       "</div>"
      ],
      "text/plain": [
       "        VAR_0075  DOW_0075\n",
       "ID                        \n",
       "175265      4396         5\n",
       "78247       4477         2\n",
       "73096       4567         1\n",
       "85982       4546         1\n",
       "252228      3513         4"
      ]
     },
     "execution_count": 67,
     "metadata": {},
     "output_type": "execute_result"
    }
   ],
   "source": [
    "X_train[['VAR_0075', 'DOW_0075']].head()"
   ]
  }
 ],
 "metadata": {
  "kernelspec": {
   "display_name": "Python 2",
   "language": "python",
   "name": "python2"
  },
  "language_info": {
   "codemirror_mode": {
    "name": "ipython",
    "version": 2
   },
   "file_extension": ".py",
   "mimetype": "text/x-python",
   "name": "python",
   "nbconvert_exporter": "python",
   "pygments_lexer": "ipython2",
   "version": "2.7.10"
  }
 },
 "nbformat": 4,
 "nbformat_minor": 0
}
