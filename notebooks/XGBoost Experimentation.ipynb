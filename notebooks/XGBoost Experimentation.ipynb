{
 "cells": [
  {
   "cell_type": "code",
   "execution_count": 1,
   "metadata": {
    "collapsed": true
   },
   "outputs": [],
   "source": [
    "import utilities"
   ]
  },
  {
   "cell_type": "code",
   "execution_count": 2,
   "metadata": {
    "collapsed": false,
    "input_collapsed": false
   },
   "outputs": [],
   "source": [
    "FEATURE_SET_NAME = 'Train_Current_Working'\n",
    "\n",
    "FEATURES_DATA_DIR = os.path.join(DATA_DIR, FEATURE_SET_NAME)"
   ]
  },
  {
   "cell_type": "code",
   "execution_count": 3,
   "metadata": {
    "collapsed": false
   },
   "outputs": [],
   "source": [
    "X_train = pd.read_hdf(os.path.join(FEATURES_DATA_DIR, 'train_train_features.hf5'), 'data')\n",
    "X_validation = pd.read_hdf(os.path.join(FEATURES_DATA_DIR, 'train_validation_features.hf5'), 'data')\n",
    "Y_train = pd.read_hdf(os.path.join(DATA_DIR, 'train_train_y.hf5'), 'data')\n",
    "Y_validation = pd.read_hdf(os.path.join(DATA_DIR, 'train_validation_y.hf5'), 'data')"
   ]
  },
  {
   "cell_type": "code",
   "execution_count": 4,
   "metadata": {
    "collapsed": false
   },
   "outputs": [
    {
     "data": {
      "text/plain": [
       "True"
      ]
     },
     "execution_count": 4,
     "metadata": {},
     "output_type": "execute_result"
    }
   ],
   "source": [
    "(X_train.columns == X_validation.columns).all()"
   ]
  },
  {
   "cell_type": "code",
   "execution_count": 5,
   "metadata": {
    "collapsed": false
   },
   "outputs": [],
   "source": [
    "cols = X_train.columns.tolist()\n",
    "for i in range(0, len(cols)):\n",
    "    cols[i] = cols[i].replace('_', '').replace('-', '').replace(' ', '').replace('[', '').replace(']', '')\n",
    "X_train.columns = cols\n",
    "X_validation.columns = cols"
   ]
  },
  {
   "cell_type": "code",
   "execution_count": null,
   "metadata": {
    "collapsed": false
   },
   "outputs": [],
   "source": [
    "dtrain = xgb.DMatrix(X_train, Y_train['target'], feature_names=X_train.columns.tolist(), missing=-1)\n",
    "dtest = xgb.DMatrix(X_validation, Y_validation['target'], feature_names=X_validation.columns.tolist(), missing=-1)"
   ]
  },
  {
   "cell_type": "code",
   "execution_count": null,
   "metadata": {
    "collapsed": false
   },
   "outputs": [
    {
     "name": "stderr",
     "output_type": "stream",
     "text": [
      "Will train until eval error hasn't decreased in 200 rounds.\n",
      "[0]\ttrain-auc:0.787794\teval-auc:0.700929\n",
      "[1]\ttrain-auc:0.814470\teval-auc:0.727035\n",
      "[2]\ttrain-auc:0.828891\teval-auc:0.738971\n",
      "[3]\ttrain-auc:0.837169\teval-auc:0.744876\n",
      "[4]\ttrain-auc:0.841038\teval-auc:0.750128\n",
      "[5]\ttrain-auc:0.842564\teval-auc:0.751803\n",
      "[6]\ttrain-auc:0.843172\teval-auc:0.753648\n",
      "[7]\ttrain-auc:0.846343\teval-auc:0.755828\n",
      "[8]\ttrain-auc:0.848398\teval-auc:0.756761\n",
      "[9]\ttrain-auc:0.848543\teval-auc:0.756917\n",
      "[10]\ttrain-auc:0.848962\teval-auc:0.756838\n",
      "[11]\ttrain-auc:0.849955\teval-auc:0.757317\n",
      "[12]\ttrain-auc:0.850162\teval-auc:0.757502\n",
      "[13]\ttrain-auc:0.850809\teval-auc:0.757837\n",
      "[14]\ttrain-auc:0.852144\teval-auc:0.758708\n",
      "[15]\ttrain-auc:0.852606\teval-auc:0.759088\n",
      "[16]\ttrain-auc:0.852606\teval-auc:0.758906\n",
      "[17]\ttrain-auc:0.853520\teval-auc:0.759243\n",
      "[18]\ttrain-auc:0.854296\teval-auc:0.759152\n",
      "[19]\ttrain-auc:0.854940\teval-auc:0.759727\n",
      "[20]\ttrain-auc:0.855352\teval-auc:0.759889\n",
      "[21]\ttrain-auc:0.855661\teval-auc:0.760118\n",
      "[22]\ttrain-auc:0.855990\teval-auc:0.760296\n",
      "[23]\ttrain-auc:0.856785\teval-auc:0.760462\n",
      "[24]\ttrain-auc:0.857093\teval-auc:0.761083\n",
      "[25]\ttrain-auc:0.857802\teval-auc:0.761252\n",
      "[26]\ttrain-auc:0.858502\teval-auc:0.761653\n",
      "[27]\ttrain-auc:0.858603\teval-auc:0.761842\n",
      "[28]\ttrain-auc:0.858935\teval-auc:0.762158\n",
      "[29]\ttrain-auc:0.859527\teval-auc:0.762305\n",
      "[30]\ttrain-auc:0.860359\teval-auc:0.762623\n",
      "[31]\ttrain-auc:0.860955\teval-auc:0.762639\n",
      "[32]\ttrain-auc:0.861124\teval-auc:0.762741\n",
      "[33]\ttrain-auc:0.861450\teval-auc:0.762630\n",
      "[34]\ttrain-auc:0.861788\teval-auc:0.762813\n",
      "[35]\ttrain-auc:0.862022\teval-auc:0.763122\n",
      "[36]\ttrain-auc:0.862241\teval-auc:0.763115\n",
      "[37]\ttrain-auc:0.862460\teval-auc:0.763271\n",
      "[38]\ttrain-auc:0.862826\teval-auc:0.763245\n",
      "[39]\ttrain-auc:0.862965\teval-auc:0.763417\n",
      "[40]\ttrain-auc:0.863480\teval-auc:0.763514\n",
      "[41]\ttrain-auc:0.863802\teval-auc:0.763889\n",
      "[42]\ttrain-auc:0.864098\teval-auc:0.763956\n",
      "[43]\ttrain-auc:0.864319\teval-auc:0.763963\n",
      "[44]\ttrain-auc:0.864948\teval-auc:0.763932\n"
     ]
    }
   ],
   "source": [
    "evals_result = {}\n",
    "param = {'bst:max_depth': 12, 'bst:eta': 0.01, 'num_round': 1000, 'objective':'binary:logistic', 'min_child_weight': 10, 'colsample_bytree': 0.1, 'subsample': 1, 'nthread': 2, 'eval_metric': 'auc', 'silent': 1, 'seed': 0}\n",
    "#param['scale_pos_weight'] = 0.2\n",
    "\n",
    "plst = param.items()\n",
    "plst = [('eval_metric', 'auc')] \n",
    "eval_list  = [(dtrain,'train'), (dtest,'eval')]\n",
    "num_round = param['num_round']\n",
    "bst = xgb.train(param, dtrain, num_round, eval_list, evals_result=evals_result, early_stopping_rounds=200)#, verbose_eval=False)\n",
    "\n",
    "utilities.save_model(bst, evals_result, param, X_train.columns.tolist(), FEATURE_SET_NAME, 'missing=-1', MODELS_DIR)"
   ]
  },
  {
   "cell_type": "code",
   "execution_count": null,
   "metadata": {
    "collapsed": true
   },
   "outputs": [],
   "source": []
  }
 ],
 "metadata": {
  "kernelspec": {
   "display_name": "Python 2",
   "language": "python",
   "name": "python2"
  },
  "language_info": {
   "codemirror_mode": {
    "name": "ipython",
    "version": 2
   },
   "file_extension": ".py",
   "mimetype": "text/x-python",
   "name": "python",
   "nbconvert_exporter": "python",
   "pygments_lexer": "ipython2",
   "version": "2.7.10"
  }
 },
 "nbformat": 4,
 "nbformat_minor": 0
}
