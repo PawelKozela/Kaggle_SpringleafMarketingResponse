{
 "cells": [
  {
   "cell_type": "raw",
   "metadata": {},
   "source": [
    "This Notebook splits the training data into training / validation sets (validation set = 20%)"
   ]
  },
  {
   "cell_type": "code",
   "execution_count": 2,
   "metadata": {
    "collapsed": false,
    "input_collapsed": false,
    "run_control": {
     "marked": false
    }
   },
   "outputs": [],
   "source": [
    "import os, sys\n",
    "import numpy as np, pandas as pd\n",
    "\n",
    "sys.path.append('C:\\\\Users\\\\Pawel\\\\PycharmProjects\\\\Springleaf Marketing Response\\\\src')\n",
    "sys.path.append('C:\\\\Users\\\\Pawel\\\\PycharmProjects\\\\Springleaf Marketing Response\\\\src\\\\feature_engineering')\n",
    "import utilities, feature_utilities\n",
    "from standard_feature_transformer import StandardFeatureTransformer\n",
    "\n",
    "from sklearn import cross_validation\n",
    "\n",
    "DATA_DIR = \"F:\\\\Pawel\\\\Kaggle\\\\Springleaf Marketing Response\\\\Data\"\n",
    "RAW_DATA_DIR = \"F:\\\\Pawel\\\\Kaggle\\\\Springleaf Marketing Response\\\\Data\\\\Raw\"\n",
    "TARGET_DATA_DIR = \"F:\\\\Pawel\\\\Kaggle\\\\Springleaf Marketing Response\\\\Data\\\\Train_Raw\""
   ]
  },
  {
   "cell_type": "code",
   "execution_count": 5,
   "metadata": {
    "collapsed": false
   },
   "outputs": [],
   "source": [
    "TEST_SIZE = 0.2\n",
    "RANDOM_STATE = 13\n",
    "\n",
    "raw_train_features = pd.read_hdf(os.path.join(RAW_DATA_DIR, 'train_features.hf5'), 'data')\n",
    "raw_train_y = pd.read_hdf(os.path.join(RAW_DATA_DIR, 'train_y.hf5'), 'data')\n",
    "\n",
    "X_train, X_validation, Y_train, Y_validation = cross_validation.train_test_split(raw_train_features, raw_train_y, test_size=TEST_SIZE, random_state=RANDOM_STATE)\n",
    "\n",
    "X_train.to_hdf(os.path.join(TARGET_DATA_DIR, 'train_train_features.hf5'), 'data', complib='blosc', complevel=9)\n",
    "X_validation.to_hdf(os.path.join(TARGET_DATA_DIR, 'train_validation_features.hf5'), 'data', complib='blosc', complevel=9)\n",
    "\n",
    "Y_train.to_hdf(os.path.join(TARGET_DATA_DIR, 'train_train_y.hf5'), 'data', complib='blosc', complevel=9)\n",
    "Y_validation.to_hdf(os.path.join(TARGET_DATA_DIR, 'train_validation_y.hf5'), 'data', complib='blosc', complevel=9)"
   ]
  }
 ],
 "metadata": {
  "kernelspec": {
   "display_name": "Python 2",
   "language": "python",
   "name": "python2"
  },
  "language_info": {
   "codemirror_mode": {
    "name": "ipython",
    "version": 2
   },
   "file_extension": ".py",
   "mimetype": "text/x-python",
   "name": "python",
   "nbconvert_exporter": "python",
   "pygments_lexer": "ipython2",
   "version": "2.7.10"
  }
 },
 "nbformat": 4,
 "nbformat_minor": 0
}
