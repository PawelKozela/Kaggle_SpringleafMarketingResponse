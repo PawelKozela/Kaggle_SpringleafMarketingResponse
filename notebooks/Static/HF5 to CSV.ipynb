{
 "cells": [
  {
   "cell_type": "code",
   "execution_count": 2,
   "metadata": {
    "collapsed": true
   },
   "outputs": [],
   "source": [
    "DATA_DIR = \"F:\\\\Pawel\\\\Kaggle\\\\Springleaf Marketing Response\\\\Data\"\n",
    "FEATURES_DATA_DIR = \"F:\\\\Pawel\\\\Kaggle\\\\Springleaf Marketing Response\\\\Data\\\\Train_Standard\""
   ]
  },
  {
   "cell_type": "code",
   "execution_count": 3,
   "metadata": {
    "collapsed": true
   },
   "outputs": [],
   "source": [
    "X_train = pd.read_hdf(os.path.join(FEATURES_DATA_DIR, 'train_train_features.hf5'), 'data')\n",
    "X_validation = pd.read_hdf(os.path.join(FEATURES_DATA_DIR, 'train_validation_features.hf5'), 'data')\n",
    "Y_train = pd.read_hdf(os.path.join(DATA_DIR, 'train_train_y.hf5'), 'data')\n",
    "Y_validation = pd.read_hdf(os.path.join(DATA_DIR, 'train_validation_y.hf5'), 'data')"
   ]
  },
  {
   "cell_type": "code",
   "execution_count": 4,
   "metadata": {
    "collapsed": true
   },
   "outputs": [],
   "source": [
    "X_train['ID'] = X_train.index\n",
    "X_train['target'] = Y_train['target']\n",
    "\n",
    "X_validation['ID'] = X_validation.index\n",
    "X_validation['target'] = Y_train['target']"
   ]
  },
  {
   "cell_type": "code",
   "execution_count": 6,
   "metadata": {
    "collapsed": false
   },
   "outputs": [],
   "source": [
    "X_train.to_csv(os.path.join(FEATURES_DATA_DIR, 'train_train.csv'), sep=\";\", index=False)\n",
    "X_validation.to_csv(os.path.join(FEATURES_DATA_DIR, 'train_validation.csv'), sep=\";\", index=False)"
   ]
  },
  {
   "cell_type": "code",
   "execution_count": null,
   "metadata": {
    "collapsed": true
   },
   "outputs": [],
   "source": []
  }
 ],
 "metadata": {
  "kernelspec": {
   "display_name": "Python 2",
   "language": "python",
   "name": "python2"
  },
  "language_info": {
   "codemirror_mode": {
    "name": "ipython",
    "version": 2
   },
   "file_extension": ".py",
   "mimetype": "text/x-python",
   "name": "python",
   "nbconvert_exporter": "python",
   "pygments_lexer": "ipython2",
   "version": "2.7.10"
  }
 },
 "nbformat": 4,
 "nbformat_minor": 0
}
