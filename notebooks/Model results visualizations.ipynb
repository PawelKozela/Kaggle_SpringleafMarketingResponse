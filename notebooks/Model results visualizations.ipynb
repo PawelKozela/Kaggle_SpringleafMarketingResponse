{
 "cells": [
  {
   "cell_type": "code",
   "execution_count": 2,
   "metadata": {
    "collapsed": true
   },
   "outputs": [],
   "source": [
    "import os, pickle"
   ]
  },
  {
   "cell_type": "code",
   "execution_count": 3,
   "metadata": {
    "collapsed": false
   },
   "outputs": [],
   "source": [
    "RESULTS_FILE = os.path.join(RESULTS_DIR, 'results.pickle')"
   ]
  },
  {
   "cell_type": "code",
   "execution_count": 4,
   "metadata": {
    "collapsed": false
   },
   "outputs": [],
   "source": [
    "results = pickle.load(open(RESULTS_FILE, 'rb'))"
   ]
  },
  {
   "cell_type": "code",
   "execution_count": 7,
   "metadata": {
    "collapsed": false
   },
   "outputs": [
    {
     "name": "stdout",
     "output_type": "stream",
     "text": [
      "0.706892 XGBoost 29 1000 {'colsample_bytree': 0.05, 'eval_metric': 'auc', 'nthread': 3, 'bst:max_depth': 2, 'subsample': 0.25, 'objective': 'binary:logistic', 'bst:eta': 0.005}\n",
      "0.708120 XGBoost 32 1000 {'colsample_bytree': 0.05, 'eval_metric': 'auc', 'nthread': 3, 'bst:max_depth': 2, 'subsample': 0.5, 'objective': 'binary:logistic', 'bst:eta': 0.005}\n",
      "0.708059 XGBoost 25 1000 {'colsample_bytree': 0.05, 'eval_metric': 'auc', 'nthread': 3, 'bst:max_depth': 2, 'subsample': 0.75, 'objective': 'binary:logistic', 'bst:eta': 0.005}\n",
      "0.703850 XGBoost 42 1000 {'colsample_bytree': 0.05, 'eval_metric': 'auc', 'nthread': 3, 'bst:max_depth': 2, 'subsample': 1, 'objective': 'binary:logistic', 'bst:eta': 0.005}\n",
      "0.707965 XGBoost 56 1000 {'colsample_bytree': 0.1, 'eval_metric': 'auc', 'nthread': 3, 'bst:max_depth': 2, 'subsample': 0.25, 'objective': 'binary:logistic', 'bst:eta': 0.005}\n",
      "0.706835 XGBoost 40 1000 {'colsample_bytree': 0.1, 'eval_metric': 'auc', 'nthread': 3, 'bst:max_depth': 2, 'subsample': 0.5, 'objective': 'binary:logistic', 'bst:eta': 0.005}\n",
      "0.706999 XGBoost 40 1000 {'colsample_bytree': 0.1, 'eval_metric': 'auc', 'nthread': 3, 'bst:max_depth': 2, 'subsample': 0.75, 'objective': 'binary:logistic', 'bst:eta': 0.005}\n",
      "0.702052 XGBoost 19 1000 {'colsample_bytree': 0.1, 'eval_metric': 'auc', 'nthread': 3, 'bst:max_depth': 2, 'subsample': 1, 'objective': 'binary:logistic', 'bst:eta': 0.005}\n",
      "0.705798 XGBoost 57 1000 {'colsample_bytree': 0.25, 'eval_metric': 'auc', 'nthread': 3, 'bst:max_depth': 2, 'subsample': 0.25, 'objective': 'binary:logistic', 'bst:eta': 0.005}\n",
      "0.704857 XGBoost 57 1000 {'colsample_bytree': 0.25, 'eval_metric': 'auc', 'nthread': 3, 'bst:max_depth': 2, 'subsample': 0.5, 'objective': 'binary:logistic', 'bst:eta': 0.005}\n",
      "0.706892 XGBoost 29 1000 {'colsample_bytree': 0.05, 'eval_metric': 'auc', 'bst:max_depth': 2, 'subsample': 0.25, 'silentnthread': 3, 'objective': 'binary:logistic', 'bst:eta': 0.005}\n",
      "0.708120 XGBoost 32 1000 {'colsample_bytree': 0.05, 'eval_metric': 'auc', 'bst:max_depth': 2, 'subsample': 0.5, 'silentnthread': 3, 'objective': 'binary:logistic', 'bst:eta': 0.005}\n",
      "0.708059 XGBoost 25 1000 {'colsample_bytree': 0.05, 'eval_metric': 'auc', 'bst:max_depth': 2, 'subsample': 0.75, 'silentnthread': 3, 'objective': 'binary:logistic', 'bst:eta': 0.005}\n",
      "0.703850 XGBoost 42 1000 {'colsample_bytree': 0.05, 'eval_metric': 'auc', 'bst:max_depth': 2, 'subsample': 1, 'silentnthread': 3, 'objective': 'binary:logistic', 'bst:eta': 0.005}\n",
      "0.707965 XGBoost 56 1000 {'colsample_bytree': 0.1, 'eval_metric': 'auc', 'bst:max_depth': 2, 'subsample': 0.25, 'silentnthread': 3, 'objective': 'binary:logistic', 'bst:eta': 0.005}\n",
      "0.706835 XGBoost 40 1000 {'colsample_bytree': 0.1, 'eval_metric': 'auc', 'bst:max_depth': 2, 'subsample': 0.5, 'silentnthread': 3, 'objective': 'binary:logistic', 'bst:eta': 0.005}\n",
      "0.706999 XGBoost 40 1000 {'colsample_bytree': 0.1, 'eval_metric': 'auc', 'bst:max_depth': 2, 'subsample': 0.75, 'silentnthread': 3, 'objective': 'binary:logistic', 'bst:eta': 0.005}\n",
      "0.702052 XGBoost 19 1000 {'colsample_bytree': 0.1, 'eval_metric': 'auc', 'bst:max_depth': 2, 'subsample': 1, 'silentnthread': 3, 'objective': 'binary:logistic', 'bst:eta': 0.005}\n",
      "0.705798 XGBoost 57 1000 {'colsample_bytree': 0.25, 'eval_metric': 'auc', 'bst:max_depth': 2, 'subsample': 0.25, 'silentnthread': 3, 'objective': 'binary:logistic', 'bst:eta': 0.005}\n",
      "0.704857 XGBoost 57 1000 {'colsample_bytree': 0.25, 'eval_metric': 'auc', 'bst:max_depth': 2, 'subsample': 0.5, 'silentnthread': 3, 'objective': 'binary:logistic', 'bst:eta': 0.005}\n",
      "0.753410 XGBoost 1000 1000 {'colsample_bytree': 0.25, 'eval_metric': 'auc', 'bst:max_depth': 2, 'subsample': 0.75, 'silentnthread': 3, 'objective': 'binary:logistic', 'bst:eta': 0.005}\n",
      "0.700718 XGBoost 21 1000 {'colsample_bytree': 0.25, 'eval_metric': 'auc', 'bst:max_depth': 2, 'subsample': 1, 'silentnthread': 3, 'objective': 'binary:logistic', 'bst:eta': 0.005}\n",
      "0.704724 XGBoost 43 1000 {'colsample_bytree': 0.75, 'eval_metric': 'auc', 'bst:max_depth': 2, 'subsample': 0.25, 'silentnthread': 3, 'objective': 'binary:logistic', 'bst:eta': 0.005}\n",
      "0.700766 XGBoost 42 1000 {'colsample_bytree': 0.75, 'eval_metric': 'auc', 'bst:max_depth': 2, 'subsample': 0.5, 'silentnthread': 3, 'objective': 'binary:logistic', 'bst:eta': 0.005}\n",
      "0.706892 XGBoost 29 1000 {'colsample_bytree': 0.05, 'silent': 1, 'eval_metric': 'auc', 'nthread': 2, 'bst:max_depth': 2, 'subsample': 0.25, 'objective': 'binary:logistic', 'bst:eta': 0.005}\n",
      "0.708120 XGBoost 32 1000 {'colsample_bytree': 0.05, 'silent': 1, 'eval_metric': 'auc', 'nthread': 2, 'bst:max_depth': 2, 'subsample': 0.5, 'objective': 'binary:logistic', 'bst:eta': 0.005}\n",
      "0.708059 XGBoost 25 1000 {'colsample_bytree': 0.05, 'silent': 1, 'eval_metric': 'auc', 'nthread': 2, 'bst:max_depth': 2, 'subsample': 0.75, 'objective': 'binary:logistic', 'bst:eta': 0.005}\n",
      "0.703850 XGBoost 42 1000 {'colsample_bytree': 0.05, 'silent': 1, 'eval_metric': 'auc', 'nthread': 2, 'bst:max_depth': 2, 'subsample': 1, 'objective': 'binary:logistic', 'bst:eta': 0.005}\n",
      "0.707965 XGBoost 56 1000 {'colsample_bytree': 0.1, 'silent': 1, 'eval_metric': 'auc', 'nthread': 2, 'bst:max_depth': 2, 'subsample': 0.25, 'objective': 'binary:logistic', 'bst:eta': 0.005}\n",
      "0.706835 XGBoost 40 1000 {'colsample_bytree': 0.1, 'silent': 1, 'eval_metric': 'auc', 'nthread': 2, 'bst:max_depth': 2, 'subsample': 0.5, 'objective': 'binary:logistic', 'bst:eta': 0.005}\n",
      "0.706999 XGBoost 40 1000 {'colsample_bytree': 0.1, 'silent': 1, 'eval_metric': 'auc', 'nthread': 2, 'bst:max_depth': 2, 'subsample': 0.75, 'objective': 'binary:logistic', 'bst:eta': 0.005}\n",
      "0.702052 XGBoost 19 1000 {'colsample_bytree': 0.1, 'silent': 1, 'eval_metric': 'auc', 'nthread': 2, 'bst:max_depth': 2, 'subsample': 1, 'objective': 'binary:logistic', 'bst:eta': 0.005}\n",
      "0.705798 XGBoost 57 1000 {'colsample_bytree': 0.25, 'silent': 1, 'eval_metric': 'auc', 'nthread': 2, 'bst:max_depth': 2, 'subsample': 0.25, 'objective': 'binary:logistic', 'bst:eta': 0.005}\n",
      "0.704857 XGBoost 57 1000 {'colsample_bytree': 0.25, 'silent': 1, 'eval_metric': 'auc', 'nthread': 2, 'bst:max_depth': 2, 'subsample': 0.5, 'objective': 'binary:logistic', 'bst:eta': 0.005}\n",
      "0.753410 XGBoost 1000 1000 {'colsample_bytree': 0.25, 'silent': 1, 'eval_metric': 'auc', 'nthread': 2, 'bst:max_depth': 2, 'subsample': 0.75, 'objective': 'binary:logistic', 'bst:eta': 0.005}\n",
      "0.700718 XGBoost 21 1000 {'colsample_bytree': 0.25, 'silent': 1, 'eval_metric': 'auc', 'nthread': 2, 'bst:max_depth': 2, 'subsample': 1, 'objective': 'binary:logistic', 'bst:eta': 0.005}\n",
      "0.704724 XGBoost 43 1000 {'colsample_bytree': 0.75, 'silent': 1, 'eval_metric': 'auc', 'nthread': 2, 'bst:max_depth': 2, 'subsample': 0.25, 'objective': 'binary:logistic', 'bst:eta': 0.005}\n",
      "0.700766 XGBoost 42 1000 {'colsample_bytree': 0.75, 'silent': 1, 'eval_metric': 'auc', 'nthread': 2, 'bst:max_depth': 2, 'subsample': 0.5, 'objective': 'binary:logistic', 'bst:eta': 0.005}\n",
      "0.754235 XGBoost 1000 1000 {'colsample_bytree': 0.75, 'silent': 1, 'eval_metric': 'auc', 'nthread': 2, 'bst:max_depth': 2, 'subsample': 0.75, 'objective': 'binary:logistic', 'bst:eta': 0.005}\n",
      "0.695666 XGBoost 31 1000 {'colsample_bytree': 0.75, 'silent': 1, 'eval_metric': 'auc', 'nthread': 2, 'bst:max_depth': 2, 'subsample': 1, 'objective': 'binary:logistic', 'bst:eta': 0.005}\n",
      "0.756133 XGBoost 1000 1000 {'colsample_bytree': 1, 'silent': 1, 'eval_metric': 'auc', 'nthread': 2, 'bst:max_depth': 2, 'subsample': 0.25, 'objective': 'binary:logistic', 'bst:eta': 0.005}\n",
      "0.754890 XGBoost 1000 1000 {'colsample_bytree': 1, 'silent': 1, 'eval_metric': 'auc', 'nthread': 2, 'bst:max_depth': 2, 'subsample': 0.5, 'objective': 'binary:logistic', 'bst:eta': 0.005}\n",
      "0.754412 XGBoost 1000 1000 {'colsample_bytree': 1, 'silent': 1, 'eval_metric': 'auc', 'nthread': 2, 'bst:max_depth': 2, 'subsample': 0.75, 'objective': 'binary:logistic', 'bst:eta': 0.005}\n",
      "0.668296 XGBoost 12 1000 {'colsample_bytree': 1, 'silent': 1, 'eval_metric': 'auc', 'nthread': 2, 'bst:max_depth': 2, 'subsample': 1, 'objective': 'binary:logistic', 'bst:eta': 0.005}\n",
      "0.708113 XGBoost 29 1000 {'colsample_bytree': 0.05, 'silent': 1, 'eval_metric': 'auc', 'nthread': 2, 'bst:max_depth': 2, 'subsample': 0.25, 'objective': 'binary:logistic', 'bst:eta': 0.01}\n",
      "0.708562 XGBoost 32 1000 {'colsample_bytree': 0.05, 'silent': 1, 'eval_metric': 'auc', 'nthread': 2, 'bst:max_depth': 2, 'subsample': 0.5, 'objective': 'binary:logistic', 'bst:eta': 0.01}\n",
      "0.707958 XGBoost 29 1000 {'colsample_bytree': 0.05, 'silent': 1, 'eval_metric': 'auc', 'nthread': 2, 'bst:max_depth': 2, 'subsample': 0.75, 'objective': 'binary:logistic', 'bst:eta': 0.01}\n",
      "0.705255 XGBoost 32 1000 {'colsample_bytree': 0.05, 'silent': 1, 'eval_metric': 'auc', 'nthread': 2, 'bst:max_depth': 2, 'subsample': 1, 'objective': 'binary:logistic', 'bst:eta': 0.01}\n",
      "0.710027 XGBoost 69 1000 {'colsample_bytree': 0.1, 'silent': 1, 'eval_metric': 'auc', 'nthread': 2, 'bst:max_depth': 2, 'subsample': 0.25, 'objective': 'binary:logistic', 'bst:eta': 0.01}\n",
      "0.709920 XGBoost 72 1000 {'colsample_bytree': 0.1, 'silent': 1, 'eval_metric': 'auc', 'nthread': 2, 'bst:max_depth': 2, 'subsample': 0.5, 'objective': 'binary:logistic', 'bst:eta': 0.01}\n",
      "0.707673 XGBoost 40 1000 {'colsample_bytree': 0.1, 'silent': 1, 'eval_metric': 'auc', 'nthread': 2, 'bst:max_depth': 2, 'subsample': 0.75, 'objective': 'binary:logistic', 'bst:eta': 0.01}\n",
      "0.701462 XGBoost 19 1000 {'colsample_bytree': 0.1, 'silent': 1, 'eval_metric': 'auc', 'nthread': 2, 'bst:max_depth': 2, 'subsample': 1, 'objective': 'binary:logistic', 'bst:eta': 0.01}\n",
      "0.766975 XGBoost 1000 1000 {'colsample_bytree': 0.25, 'silent': 1, 'eval_metric': 'auc', 'nthread': 2, 'bst:max_depth': 2, 'subsample': 0.25, 'objective': 'binary:logistic', 'bst:eta': 0.01}\n",
      "0.766134 XGBoost 1000 1000 {'colsample_bytree': 0.25, 'silent': 1, 'eval_metric': 'auc', 'nthread': 2, 'bst:max_depth': 2, 'subsample': 0.5, 'objective': 'binary:logistic', 'bst:eta': 0.01}\n",
      "0.704150 XGBoost 48 1000 {'colsample_bytree': 0.25, 'silent': 1, 'eval_metric': 'auc', 'nthread': 2, 'bst:max_depth': 2, 'subsample': 0.75, 'objective': 'binary:logistic', 'bst:eta': 0.01}\n",
      "0.702206 XGBoost 24 1000 {'colsample_bytree': 0.25, 'silent': 1, 'eval_metric': 'auc', 'nthread': 2, 'bst:max_depth': 2, 'subsample': 1, 'objective': 'binary:logistic', 'bst:eta': 0.01}\n",
      "0.768072 XGBoost 1000 1000 {'colsample_bytree': 0.75, 'silent': 1, 'eval_metric': 'auc', 'nthread': 2, 'bst:max_depth': 2, 'subsample': 0.25, 'objective': 'binary:logistic', 'bst:eta': 0.01}\n",
      "0.767150 XGBoost 1000 1000 {'colsample_bytree': 0.75, 'silent': 1, 'eval_metric': 'auc', 'nthread': 2, 'bst:max_depth': 2, 'subsample': 0.5, 'objective': 'binary:logistic', 'bst:eta': 0.01}\n",
      "0.766758 XGBoost 1000 1000 {'colsample_bytree': 0.75, 'silent': 1, 'eval_metric': 'auc', 'nthread': 2, 'bst:max_depth': 2, 'subsample': 0.75, 'objective': 'binary:logistic', 'bst:eta': 0.01}\n",
      "0.766199 XGBoost 1000 1000 {'colsample_bytree': 0.75, 'silent': 1, 'eval_metric': 'auc', 'nthread': 2, 'bst:max_depth': 2, 'subsample': 1, 'objective': 'binary:logistic', 'bst:eta': 0.01}\n",
      "0.768183 XGBoost 1000 1000 {'colsample_bytree': 1, 'silent': 1, 'eval_metric': 'auc', 'nthread': 2, 'bst:max_depth': 2, 'subsample': 0.25, 'objective': 'binary:logistic', 'bst:eta': 0.01}\n",
      "0.767434 XGBoost 1000 1000 {'colsample_bytree': 1, 'silent': 1, 'eval_metric': 'auc', 'nthread': 2, 'bst:max_depth': 2, 'subsample': 0.5, 'objective': 'binary:logistic', 'bst:eta': 0.01}\n",
      "0.766923 XGBoost 1000 1000 {'colsample_bytree': 1, 'silent': 1, 'eval_metric': 'auc', 'nthread': 2, 'bst:max_depth': 2, 'subsample': 0.75, 'objective': 'binary:logistic', 'bst:eta': 0.01}\n",
      "0.766386 XGBoost 1000 1000 {'colsample_bytree': 1, 'silent': 1, 'eval_metric': 'auc', 'nthread': 2, 'bst:max_depth': 2, 'subsample': 1, 'objective': 'binary:logistic', 'bst:eta': 0.01}\n",
      "0.778609 XGBoost 1000 1000 {'colsample_bytree': 0.05, 'silent': 1, 'eval_metric': 'auc', 'nthread': 2, 'bst:max_depth': 2, 'subsample': 0.25, 'objective': 'binary:logistic', 'bst:eta': 0.05}\n",
      "0.778535 XGBoost 1000 1000 {'colsample_bytree': 0.05, 'silent': 1, 'eval_metric': 'auc', 'nthread': 2, 'bst:max_depth': 2, 'subsample': 0.5, 'objective': 'binary:logistic', 'bst:eta': 0.05}\n",
      "0.778779 XGBoost 1000 1000 {'colsample_bytree': 0.05, 'silent': 1, 'eval_metric': 'auc', 'nthread': 2, 'bst:max_depth': 2, 'subsample': 0.75, 'objective': 'binary:logistic', 'bst:eta': 0.05}\n",
      "0.778210 XGBoost 1000 1000 {'colsample_bytree': 0.05, 'silent': 1, 'eval_metric': 'auc', 'nthread': 2, 'bst:max_depth': 2, 'subsample': 1, 'objective': 'binary:logistic', 'bst:eta': 0.05}\n",
      "0.778410 XGBoost 1000 1000 {'colsample_bytree': 0.1, 'silent': 1, 'eval_metric': 'auc', 'nthread': 2, 'bst:max_depth': 2, 'subsample': 0.25, 'objective': 'binary:logistic', 'bst:eta': 0.05}\n",
      "0.779706 XGBoost 1000 1000 {'colsample_bytree': 0.1, 'silent': 1, 'eval_metric': 'auc', 'nthread': 2, 'bst:max_depth': 2, 'subsample': 0.5, 'objective': 'binary:logistic', 'bst:eta': 0.05}\n",
      "0.779373 XGBoost 1000 1000 {'colsample_bytree': 0.1, 'silent': 1, 'eval_metric': 'auc', 'nthread': 2, 'bst:max_depth': 2, 'subsample': 0.75, 'objective': 'binary:logistic', 'bst:eta': 0.05}\n",
      "0.779188 XGBoost 1000 1000 {'colsample_bytree': 0.1, 'silent': 1, 'eval_metric': 'auc', 'nthread': 2, 'bst:max_depth': 2, 'subsample': 1, 'objective': 'binary:logistic', 'bst:eta': 0.05}\n",
      "0.780205 XGBoost 1000 1000 {'colsample_bytree': 0.25, 'silent': 1, 'eval_metric': 'auc', 'nthread': 2, 'bst:max_depth': 2, 'subsample': 0.25, 'objective': 'binary:logistic', 'bst:eta': 0.05}\n",
      "0.780201 XGBoost 1000 1000 {'colsample_bytree': 0.25, 'silent': 1, 'eval_metric': 'auc', 'nthread': 2, 'bst:max_depth': 2, 'subsample': 0.5, 'objective': 'binary:logistic', 'bst:eta': 0.05}\n",
      "0.779853 XGBoost 1000 1000 {'colsample_bytree': 0.25, 'silent': 1, 'eval_metric': 'auc', 'nthread': 2, 'bst:max_depth': 2, 'subsample': 0.75, 'objective': 'binary:logistic', 'bst:eta': 0.05}\n",
      "0.779597 XGBoost 1000 1000 {'colsample_bytree': 0.25, 'silent': 1, 'eval_metric': 'auc', 'nthread': 2, 'bst:max_depth': 2, 'subsample': 1, 'objective': 'binary:logistic', 'bst:eta': 0.05}\n",
      "0.779883 XGBoost 1000 1000 {'colsample_bytree': 0.75, 'silent': 1, 'eval_metric': 'auc', 'nthread': 2, 'bst:max_depth': 2, 'subsample': 0.25, 'objective': 'binary:logistic', 'bst:eta': 0.05}\n",
      "0.780657 XGBoost 1000 1000 {'colsample_bytree': 0.75, 'silent': 1, 'eval_metric': 'auc', 'nthread': 2, 'bst:max_depth': 2, 'subsample': 0.5, 'objective': 'binary:logistic', 'bst:eta': 0.05}\n",
      "0.780453 XGBoost 1000 1000 {'colsample_bytree': 0.75, 'silent': 1, 'eval_metric': 'auc', 'nthread': 2, 'bst:max_depth': 2, 'subsample': 0.75, 'objective': 'binary:logistic', 'bst:eta': 0.05}\n",
      "0.779789 XGBoost 1000 1000 {'colsample_bytree': 0.75, 'silent': 1, 'eval_metric': 'auc', 'nthread': 2, 'bst:max_depth': 2, 'subsample': 1, 'objective': 'binary:logistic', 'bst:eta': 0.05}\n",
      "0.779980 XGBoost 1000 1000 {'colsample_bytree': 1, 'silent': 1, 'eval_metric': 'auc', 'nthread': 2, 'bst:max_depth': 2, 'subsample': 0.25, 'objective': 'binary:logistic', 'bst:eta': 0.05}\n",
      "0.780638 XGBoost 1000 1000 {'colsample_bytree': 1, 'silent': 1, 'eval_metric': 'auc', 'nthread': 2, 'bst:max_depth': 2, 'subsample': 0.5, 'objective': 'binary:logistic', 'bst:eta': 0.05}\n",
      "0.780587 XGBoost 1000 1000 {'colsample_bytree': 1, 'silent': 1, 'eval_metric': 'auc', 'nthread': 2, 'bst:max_depth': 2, 'subsample': 0.75, 'objective': 'binary:logistic', 'bst:eta': 0.05}\n",
      "0.779568 XGBoost 1000 1000 {'colsample_bytree': 1, 'silent': 1, 'eval_metric': 'auc', 'nthread': 2, 'bst:max_depth': 2, 'subsample': 1, 'objective': 'binary:logistic', 'bst:eta': 0.05}\n",
      "0.779351 XGBoost 1000 1000 {'colsample_bytree': 0.05, 'silent': 1, 'eval_metric': 'auc', 'nthread': 2, 'bst:max_depth': 2, 'subsample': 0.25, 'objective': 'binary:logistic', 'bst:eta': 0.1}\n",
      "0.780204 XGBoost 1000 1000 {'colsample_bytree': 0.05, 'silent': 1, 'eval_metric': 'auc', 'nthread': 2, 'bst:max_depth': 2, 'subsample': 0.5, 'objective': 'binary:logistic', 'bst:eta': 0.1}\n",
      "0.781622 XGBoost 1000 1000 {'colsample_bytree': 0.05, 'silent': 1, 'eval_metric': 'auc', 'nthread': 2, 'bst:max_depth': 2, 'subsample': 0.75, 'objective': 'binary:logistic', 'bst:eta': 0.1}\n",
      "0.781421 XGBoost 1000 1000 {'colsample_bytree': 0.05, 'silent': 1, 'eval_metric': 'auc', 'nthread': 2, 'bst:max_depth': 2, 'subsample': 1, 'objective': 'binary:logistic', 'bst:eta': 0.1}\n",
      "0.777856 XGBoost 1000 1000 {'colsample_bytree': 0.1, 'silent': 1, 'eval_metric': 'auc', 'nthread': 2, 'bst:max_depth': 2, 'subsample': 0.25, 'objective': 'binary:logistic', 'bst:eta': 0.1}\n",
      "0.780771 XGBoost 1000 1000 {'colsample_bytree': 0.1, 'silent': 1, 'eval_metric': 'auc', 'nthread': 2, 'bst:max_depth': 2, 'subsample': 0.5, 'objective': 'binary:logistic', 'bst:eta': 0.1}\n",
      "0.781367 XGBoost 1000 1000 {'colsample_bytree': 0.1, 'silent': 1, 'eval_metric': 'auc', 'nthread': 2, 'bst:max_depth': 2, 'subsample': 0.75, 'objective': 'binary:logistic', 'bst:eta': 0.1}\n",
      "0.781664 XGBoost 1000 1000 {'colsample_bytree': 0.1, 'silent': 1, 'eval_metric': 'auc', 'nthread': 2, 'bst:max_depth': 2, 'subsample': 1, 'objective': 'binary:logistic', 'bst:eta': 0.1}\n",
      "0.779359 XGBoost 1000 1000 {'colsample_bytree': 0.25, 'silent': 1, 'eval_metric': 'auc', 'nthread': 2, 'bst:max_depth': 2, 'subsample': 0.25, 'objective': 'binary:logistic', 'bst:eta': 0.1}\n",
      "0.780732 XGBoost 1000 1000 {'colsample_bytree': 0.25, 'silent': 1, 'eval_metric': 'auc', 'nthread': 2, 'bst:max_depth': 2, 'subsample': 0.5, 'objective': 'binary:logistic', 'bst:eta': 0.1}\n",
      "0.782198 XGBoost 1000 1000 {'colsample_bytree': 0.25, 'silent': 1, 'eval_metric': 'auc', 'nthread': 2, 'bst:max_depth': 2, 'subsample': 0.75, 'objective': 'binary:logistic', 'bst:eta': 0.1}\n",
      "0.781371 XGBoost 1000 1000 {'colsample_bytree': 0.25, 'silent': 1, 'eval_metric': 'auc', 'nthread': 2, 'bst:max_depth': 2, 'subsample': 1, 'objective': 'binary:logistic', 'bst:eta': 0.1}\n",
      "0.778465 XGBoost 1000 1000 {'colsample_bytree': 0.75, 'silent': 1, 'eval_metric': 'auc', 'nthread': 2, 'bst:max_depth': 2, 'subsample': 0.25, 'objective': 'binary:logistic', 'bst:eta': 0.1}\n",
      "0.782179 XGBoost 1000 1000 {'colsample_bytree': 0.75, 'silent': 1, 'eval_metric': 'auc', 'nthread': 2, 'bst:max_depth': 2, 'subsample': 0.5, 'objective': 'binary:logistic', 'bst:eta': 0.1}\n",
      "0.782988 XGBoost 1000 1000 {'colsample_bytree': 0.75, 'silent': 1, 'eval_metric': 'auc', 'nthread': 2, 'bst:max_depth': 2, 'subsample': 0.75, 'objective': 'binary:logistic', 'bst:eta': 0.1}\n",
      "0.782283 XGBoost 1000 1000 {'colsample_bytree': 0.75, 'silent': 1, 'eval_metric': 'auc', 'nthread': 2, 'bst:max_depth': 2, 'subsample': 1, 'objective': 'binary:logistic', 'bst:eta': 0.1}\n",
      "0.778338 XGBoost 1000 1000 {'colsample_bytree': 1, 'silent': 1, 'eval_metric': 'auc', 'nthread': 2, 'bst:max_depth': 2, 'subsample': 0.25, 'objective': 'binary:logistic', 'bst:eta': 0.1}\n",
      "0.781351 XGBoost 1000 1000 {'colsample_bytree': 1, 'silent': 1, 'eval_metric': 'auc', 'nthread': 2, 'bst:max_depth': 2, 'subsample': 0.5, 'objective': 'binary:logistic', 'bst:eta': 0.1}\n",
      "0.781772 XGBoost 1000 1000 {'colsample_bytree': 1, 'silent': 1, 'eval_metric': 'auc', 'nthread': 2, 'bst:max_depth': 2, 'subsample': 0.75, 'objective': 'binary:logistic', 'bst:eta': 0.1}\n",
      "0.781422 XGBoost 1000 1000 {'colsample_bytree': 1, 'silent': 1, 'eval_metric': 'auc', 'nthread': 2, 'bst:max_depth': 2, 'subsample': 1, 'objective': 'binary:logistic', 'bst:eta': 0.1}\n",
      "0.772563 XGBoost 1000 1000 {'colsample_bytree': 0.05, 'silent': 1, 'eval_metric': 'auc', 'nthread': 2, 'bst:max_depth': 6, 'subsample': 0.25, 'objective': 'binary:logistic', 'bst:eta': 0.005}\n",
      "0.773675 XGBoost 1000 1000 {'colsample_bytree': 0.05, 'silent': 1, 'eval_metric': 'auc', 'nthread': 2, 'bst:max_depth': 6, 'subsample': 0.5, 'objective': 'binary:logistic', 'bst:eta': 0.005}\n",
      "0.773872 XGBoost 1000 1000 {'colsample_bytree': 0.05, 'silent': 1, 'eval_metric': 'auc', 'nthread': 2, 'bst:max_depth': 6, 'subsample': 0.75, 'objective': 'binary:logistic', 'bst:eta': 0.005}\n",
      "0.774217 XGBoost 1000 1000 {'colsample_bytree': 0.05, 'silent': 1, 'eval_metric': 'auc', 'nthread': 2, 'bst:max_depth': 6, 'subsample': 1, 'objective': 'binary:logistic', 'bst:eta': 0.005}\n",
      "0.775499 XGBoost 1000 1000 {'colsample_bytree': 0.1, 'silent': 1, 'eval_metric': 'auc', 'nthread': 2, 'bst:max_depth': 6, 'subsample': 0.25, 'objective': 'binary:logistic', 'bst:eta': 0.005}\n",
      "0.776278 XGBoost 1000 1000 {'colsample_bytree': 0.1, 'silent': 1, 'eval_metric': 'auc', 'nthread': 2, 'bst:max_depth': 6, 'subsample': 0.5, 'objective': 'binary:logistic', 'bst:eta': 0.005}\n",
      "0.776750 XGBoost 1000 1000 {'colsample_bytree': 0.1, 'silent': 1, 'eval_metric': 'auc', 'nthread': 2, 'bst:max_depth': 6, 'subsample': 0.75, 'objective': 'binary:logistic', 'bst:eta': 0.005}\n",
      "0.776696 XGBoost 1000 1000 {'colsample_bytree': 0.1, 'silent': 1, 'eval_metric': 'auc', 'nthread': 2, 'bst:max_depth': 6, 'subsample': 1, 'objective': 'binary:logistic', 'bst:eta': 0.005}\n",
      "0.777786 XGBoost 1000 1000 {'colsample_bytree': 0.25, 'silent': 1, 'eval_metric': 'auc', 'nthread': 2, 'bst:max_depth': 6, 'subsample': 0.25, 'objective': 'binary:logistic', 'bst:eta': 0.005}\n",
      "0.778552 XGBoost 1000 1000 {'colsample_bytree': 0.25, 'silent': 1, 'eval_metric': 'auc', 'nthread': 2, 'bst:max_depth': 6, 'subsample': 0.5, 'objective': 'binary:logistic', 'bst:eta': 0.005}\n",
      "0.778591 XGBoost 1000 1000 {'colsample_bytree': 0.25, 'silent': 1, 'eval_metric': 'auc', 'nthread': 2, 'bst:max_depth': 6, 'subsample': 0.75, 'objective': 'binary:logistic', 'bst:eta': 0.005}\n",
      "0.778868 XGBoost 1000 1000 {'colsample_bytree': 0.25, 'silent': 1, 'eval_metric': 'auc', 'nthread': 2, 'bst:max_depth': 6, 'subsample': 1, 'objective': 'binary:logistic', 'bst:eta': 0.005}\n"
     ]
    }
   ],
   "source": [
    "for i, result in enumerate(results):\n",
    "    if 'nb_rounds_max' in result:\n",
    "        print result['score'], result['model_type'], result['nb_rounds'], result['nb_rounds_max'], result['params']"
   ]
  },
  {
   "cell_type": "code",
   "execution_count": 7,
   "metadata": {
    "collapsed": false
   },
   "outputs": [
    {
     "name": "stdout",
     "output_type": "stream",
     "text": [
      "0.771761137348 standard 100 10 0.1 16 2015-10-03 23:16:51.970000\n",
      "0.772270392891 standard 100 10 0.5 24 2015-10-04 00:41:11.508000\n"
     ]
    }
   ],
   "source": [
    "for i, result in enumerate(results):\n",
    "    if result['model_type'] == 'RFRegressor' and result['score'] > 0.771:\n",
    "        print result['score'], result['features_model'], result['nb_trees'], result['min_samples_leaf'], result['max_features'], result['max_depth'], result['timestamp']"
   ]
  },
  {
   "cell_type": "code",
   "execution_count": null,
   "metadata": {
    "collapsed": true
   },
   "outputs": [],
   "source": []
  }
 ],
 "metadata": {
  "kernelspec": {
   "display_name": "Python 2",
   "language": "python",
   "name": "python2"
  },
  "language_info": {
   "codemirror_mode": {
    "name": "ipython",
    "version": 2
   },
   "file_extension": ".py",
   "mimetype": "text/x-python",
   "name": "python",
   "nbconvert_exporter": "python",
   "pygments_lexer": "ipython2",
   "version": "2.7.10"
  }
 },
 "nbformat": 4,
 "nbformat_minor": 0
}
