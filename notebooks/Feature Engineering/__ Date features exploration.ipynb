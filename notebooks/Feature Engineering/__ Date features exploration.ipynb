{
 "cells": [
  {
   "cell_type": "code",
   "execution_count": 1,
   "metadata": {
    "collapsed": false,
    "input_collapsed": true
   },
   "outputs": [],
   "source": [
    "import utilities\n",
    "from feature_engineering import feature_utilities\n",
    "\n",
    "%matplotlib inline"
   ]
  },
  {
   "cell_type": "code",
   "execution_count": 2,
   "metadata": {
    "collapsed": false,
    "input_collapsed": false
   },
   "outputs": [],
   "source": [
    "DATA_DIR = \"F:\\\\Pawel\\\\Kaggle\\\\Springleaf Marketing Response\\\\Data\"\n",
    "STANDARD_DATA_DIR = \"F:\\\\Pawel\\\\Kaggle\\\\Springleaf Marketing Response\\\\Data\\\\Standard\"\n",
    "\n",
    "raw_train_features = pd.read_hdf(os.path.join(STANDARD_DATA_DIR, 'train_features.hf5'), 'data')\n",
    "raw_train_target = pd.read_hdf(os.path.join(DATA_DIR, 'train_y.hf5'), 'data')"
   ]
  },
  {
   "cell_type": "code",
   "execution_count": 3,
   "metadata": {
    "collapsed": false
   },
   "outputs": [],
   "source": [
    "DATE_FEATURES = ['VAR_0073','VAR_0075','VAR_0156','VAR_0157','VAR_0158','VAR_0159','VAR_0166','VAR_0167','VAR_0168','VAR_0169','VAR_0176','VAR_0177','VAR_0178','VAR_0179','VAR_0204','VAR_0217']"
   ]
  },
  {
   "cell_type": "code",
   "execution_count": 4,
   "metadata": {
    "collapsed": false
   },
   "outputs": [],
   "source": [
    "feature_validator = FastFeatureValidator(raw_train_features, raw_train_target)"
   ]
  },
  {
   "cell_type": "code",
   "execution_count": 5,
   "metadata": {
    "collapsed": false
   },
   "outputs": [
    {
     "data": {
      "text/plain": [
       "{0: '0.75170',\n",
       " 1: '0.75098',\n",
       " 2: '0.75271',\n",
       " 3: '0.75058',\n",
       " 4: '0.75285',\n",
       " 5: '0.75133',\n",
       " 6: '0.75068',\n",
       " 7: '0.75203',\n",
       " 8: '0.75058',\n",
       " 9: '0.74958',\n",
       " 10: '0.75014',\n",
       " 11: '0.75086',\n",
       " 12: '0.75200',\n",
       " 13: '0.75168',\n",
       " 14: '0.75165',\n",
       " 15: '0.75318',\n",
       " 16: '0.75271',\n",
       " 17: '0.75261',\n",
       " 18: '0.75170',\n",
       " 19: '0.75141',\n",
       " 20: '0.75127',\n",
       " 21: '0.75198',\n",
       " 22: '0.75116',\n",
       " 23: '0.75159',\n",
       " 24: '0.75000',\n",
       " 25: '0.74984',\n",
       " 26: '0.75143',\n",
       " 27: '0.75184',\n",
       " 28: '0.75269',\n",
       " 29: '0.74821'}"
      ]
     },
     "execution_count": 5,
     "metadata": {},
     "output_type": "execute_result"
    }
   ],
   "source": [
    "feature_validator._base_results"
   ]
  },
  {
   "cell_type": "code",
   "execution_count": 8,
   "metadata": {
    "collapsed": false
   },
   "outputs": [],
   "source": [
    "raw_train_features.shape\n",
    "for i in range(0, 300):\n",
    "     del raw_train_features[raw_train_features.columns[i]]"
   ]
  },
  {
   "cell_type": "code",
   "execution_count": 9,
   "metadata": {
    "collapsed": false
   },
   "outputs": [
    {
     "name": "stdout",
     "output_type": "stream",
     "text": [
      "{0: '0.75170', 1: '0.75098', 2: '0.75271', 3: '0.75058', 4: '0.75285', 5: '0.75133', 6: '0.75068', 7: '0.75203', 8: '0.75058', 9: '0.74958', 10: '0.75014', 11: '0.75086', 12: '0.75200', 13: '0.75168', 14: '0.75165', 15: '0.75318', 16: '0.75271', 17: '0.75261', 18: '0.75170', 19: '0.75141', 20: '0.75127', 21: '0.75198', 22: '0.75116', 23: '0.75159', 24: '0.75000', 25: '0.74984', 26: '0.75143', 27: '0.75184', 28: '0.75269', 29: '0.74821'}\n",
      "{0: '0.74995', 1: '0.74819', 2: '0.74718', 3: '0.74860', 4: '0.74853', 5: '0.74889', 6: '0.75101', 7: '0.75011', 8: '0.74718', 9: '0.74757', 10: '0.74756', 11: '0.74979', 12: '0.74608', 13: '0.74882', 14: '0.74613', 15: '0.74806', 16: '0.74809', 17: '0.74786', 18: '0.74866', 19: '0.74820', 20: '0.74841', 21: '0.74996', 22: '0.74734', 23: '0.74842', 24: '0.74832', 25: '0.74898', 26: '0.74700', 27: '0.74756', 28: '0.74683', 29: '0.74787'}\n"
     ]
    },
    {
     "data": {
      "text/plain": [
       "0.0"
      ]
     },
     "execution_count": 9,
     "metadata": {},
     "output_type": "execute_result"
    }
   ],
   "source": [
    "feature_validator.p_is_feature_useful(raw_train_features, raw_train_target)"
   ]
  },
  {
   "cell_type": "code",
   "execution_count": 11,
   "metadata": {
    "collapsed": false
   },
   "outputs": [
    {
     "data": {
      "text/plain": [
       "{0: '0.74995',\n",
       " 1: '0.74819',\n",
       " 2: '0.74718',\n",
       " 3: '0.74860',\n",
       " 4: '0.74853',\n",
       " 5: '0.74889',\n",
       " 6: '0.75101',\n",
       " 7: '0.75011',\n",
       " 8: '0.74718',\n",
       " 9: '0.74757',\n",
       " 10: '0.74756',\n",
       " 11: '0.74979',\n",
       " 12: '0.74608',\n",
       " 13: '0.74882',\n",
       " 14: '0.74613',\n",
       " 15: '0.74806',\n",
       " 16: '0.74809',\n",
       " 17: '0.74786',\n",
       " 18: '0.74866',\n",
       " 19: '0.74820',\n",
       " 20: '0.74841',\n",
       " 21: '0.74996',\n",
       " 22: '0.74734',\n",
       " 23: '0.74842',\n",
       " 24: '0.74832',\n",
       " 25: '0.74898',\n",
       " 26: '0.74700',\n",
       " 27: '0.74756',\n",
       " 28: '0.74683',\n",
       " 29: '0.74787'}"
      ]
     },
     "execution_count": 11,
     "metadata": {},
     "output_type": "execute_result"
    }
   ],
   "source": [
    "feature_validator._feature_results"
   ]
  },
  {
   "cell_type": "code",
   "execution_count": 7,
   "metadata": {
    "collapsed": false,
    "input_collapsed": true
   },
   "outputs": [],
   "source": [
    "date_features = raw_train_features.loc[:, DATE_FEATURES]"
   ]
  },
  {
   "cell_type": "code",
   "execution_count": 19,
   "metadata": {
    "collapsed": false,
    "input_collapsed": true
   },
   "outputs": [
    {
     "name": "stdout",
     "output_type": "stream",
     "text": [
      "VAR_0073 => 30.4% (145231) non empty values\n",
      "VAR_0075 => 100.0% (145231) non empty values\n",
      "VAR_0156 => 4.0% (145231) non empty values\n",
      "VAR_0157 => 0.6% (145231) non empty values\n",
      "VAR_0158 => 1.4% (145231) non empty values\n",
      "VAR_0159 => 4.0% (145231) non empty values\n",
      "VAR_0166 => 9.8% (145231) non empty values\n",
      "VAR_0167 => 1.8% (145231) non empty values\n",
      "VAR_0168 => 7.4% (145231) non empty values\n",
      "VAR_0169 => 9.8% (145231) non empty values\n",
      "VAR_0176 => 12.1% (145231) non empty values\n",
      "VAR_0177 => 2.3% (145231) non empty values\n",
      "VAR_0178 => 8.3% (145231) non empty values\n",
      "VAR_0179 => 12.1% (145231) non empty values\n",
      "VAR_0204 => 100.0% (145231) non empty values\n",
      "VAR_0217 => 100.0% (145231) non empty values\n"
     ]
    }
   ],
   "source": [
    "for i in range(0, date_features.shape[1]):\n",
    "    nan_index = date_features.iloc[:, i] > 0\n",
    "    print '{} => {:.1%} ({}) non empty values'.format(date_features.columns[i], date_features[nan_index].iloc[:, i].dropna().shape[0] / float(date_features.shape[0]), date_features.iloc[:, i].dropna().shape[0])"
   ]
  },
  {
   "cell_type": "code",
   "execution_count": 150,
   "metadata": {
    "collapsed": true
   },
   "outputs": [],
   "source": [
    "def count_unknown(row):\n",
    "    ret = 0\n",
    "    for val in row:\n",
    "        if val < 0:\n",
    "            ret+=1\n",
    "    \n",
    "    return ret"
   ]
  },
  {
   "cell_type": "code",
   "execution_count": 152,
   "metadata": {
    "collapsed": false
   },
   "outputs": [],
   "source": [
    "date_features['unknown_dates'] = date_features.apply(lambda row: count_unknown(row), axis=1)"
   ]
  },
  {
   "cell_type": "code",
   "execution_count": 158,
   "metadata": {
    "collapsed": false
   },
   "outputs": [
    {
     "data": {
      "text/html": [
       "<div>\n",
       "<table border=\"1\" class=\"dataframe\">\n",
       "  <thead>\n",
       "    <tr style=\"text-align: right;\">\n",
       "      <th></th>\n",
       "      <th>true</th>\n",
       "      <th>count</th>\n",
       "      <th>false</th>\n",
       "      <th>freq</th>\n",
       "    </tr>\n",
       "    <tr>\n",
       "      <th>unknown_dates</th>\n",
       "      <th></th>\n",
       "      <th></th>\n",
       "      <th></th>\n",
       "      <th></th>\n",
       "    </tr>\n",
       "  </thead>\n",
       "  <tbody>\n",
       "    <tr>\n",
       "      <th>0</th>\n",
       "      <td>15</td>\n",
       "      <td>31</td>\n",
       "      <td>16</td>\n",
       "      <td>0.483871</td>\n",
       "    </tr>\n",
       "    <tr>\n",
       "      <th>1</th>\n",
       "      <td>88</td>\n",
       "      <td>205</td>\n",
       "      <td>117</td>\n",
       "      <td>0.429268</td>\n",
       "    </tr>\n",
       "    <tr>\n",
       "      <th>2</th>\n",
       "      <td>154</td>\n",
       "      <td>290</td>\n",
       "      <td>136</td>\n",
       "      <td>0.531034</td>\n",
       "    </tr>\n",
       "    <tr>\n",
       "      <th>3</th>\n",
       "      <td>362</td>\n",
       "      <td>1003</td>\n",
       "      <td>641</td>\n",
       "      <td>0.360917</td>\n",
       "    </tr>\n",
       "    <tr>\n",
       "      <th>4</th>\n",
       "      <td>1013</td>\n",
       "      <td>2368</td>\n",
       "      <td>1355</td>\n",
       "      <td>0.427787</td>\n",
       "    </tr>\n",
       "    <tr>\n",
       "      <th>5</th>\n",
       "      <td>11</td>\n",
       "      <td>38</td>\n",
       "      <td>27</td>\n",
       "      <td>0.289474</td>\n",
       "    </tr>\n",
       "    <tr>\n",
       "      <th>6</th>\n",
       "      <td>3429</td>\n",
       "      <td>9080</td>\n",
       "      <td>5651</td>\n",
       "      <td>0.377643</td>\n",
       "    </tr>\n",
       "    <tr>\n",
       "      <th>7</th>\n",
       "      <td>100</td>\n",
       "      <td>526</td>\n",
       "      <td>426</td>\n",
       "      <td>0.190114</td>\n",
       "    </tr>\n",
       "    <tr>\n",
       "      <th>8</th>\n",
       "      <td>1598</td>\n",
       "      <td>3520</td>\n",
       "      <td>1922</td>\n",
       "      <td>0.453977</td>\n",
       "    </tr>\n",
       "    <tr>\n",
       "      <th>9</th>\n",
       "      <td>115</td>\n",
       "      <td>452</td>\n",
       "      <td>337</td>\n",
       "      <td>0.254425</td>\n",
       "    </tr>\n",
       "    <tr>\n",
       "      <th>10</th>\n",
       "      <td>4</td>\n",
       "      <td>18</td>\n",
       "      <td>14</td>\n",
       "      <td>0.222222</td>\n",
       "    </tr>\n",
       "    <tr>\n",
       "      <th>11</th>\n",
       "      <td>0</td>\n",
       "      <td>1</td>\n",
       "      <td>1</td>\n",
       "      <td>0.000000</td>\n",
       "    </tr>\n",
       "    <tr>\n",
       "      <th>12</th>\n",
       "      <td>9896</td>\n",
       "      <td>27219</td>\n",
       "      <td>17323</td>\n",
       "      <td>0.363570</td>\n",
       "    </tr>\n",
       "    <tr>\n",
       "      <th>13</th>\n",
       "      <td>16975</td>\n",
       "      <td>100424</td>\n",
       "      <td>83449</td>\n",
       "      <td>0.169033</td>\n",
       "    </tr>\n",
       "    <tr>\n",
       "      <th>16</th>\n",
       "      <td>13</td>\n",
       "      <td>56</td>\n",
       "      <td>43</td>\n",
       "      <td>0.232143</td>\n",
       "    </tr>\n",
       "  </tbody>\n",
       "</table>\n",
       "</div>"
      ],
      "text/plain": [
       "                true   count  false      freq\n",
       "unknown_dates                                \n",
       "0                 15      31     16  0.483871\n",
       "1                 88     205    117  0.429268\n",
       "2                154     290    136  0.531034\n",
       "3                362    1003    641  0.360917\n",
       "4               1013    2368   1355  0.427787\n",
       "5                 11      38     27  0.289474\n",
       "6               3429    9080   5651  0.377643\n",
       "7                100     526    426  0.190114\n",
       "8               1598    3520   1922  0.453977\n",
       "9                115     452    337  0.254425\n",
       "10                 4      18     14  0.222222\n",
       "11                 0       1      1  0.000000\n",
       "12              9896   27219  17323  0.363570\n",
       "13             16975  100424  83449  0.169033\n",
       "16                13      56     43  0.232143"
      ]
     },
     "execution_count": 158,
     "metadata": {},
     "output_type": "execute_result"
    }
   ],
   "source": [
    "tmp_w = pd.concat([date_features[['unknown_dates', 'target']].groupby('unknown_dates').sum(), date_features[['unknown_dates', 'target']].groupby('unknown_dates').count()], axis=1)\n",
    "tmp_w.columns = ['true', 'count']\n",
    "tmp_w['false'] = tmp_w['count'] - tmp_w['true']\n",
    "tmp_w['freq'] = tmp_w['true'] / tmp_w['count']\n",
    "tmp_w"
   ]
  },
  {
   "cell_type": "code",
   "execution_count": 26,
   "metadata": {
    "collapsed": false
   },
   "outputs": [],
   "source": [
    "df = date_features\n",
    "df['target'] = raw_train_target['target']"
   ]
  },
  {
   "cell_type": "code",
   "execution_count": 159,
   "metadata": {
    "collapsed": false
   },
   "outputs": [
    {
     "data": {
      "text/html": [
       "<div>\n",
       "<table border=\"1\" class=\"dataframe\">\n",
       "  <thead>\n",
       "    <tr style=\"text-align: right;\">\n",
       "      <th></th>\n",
       "      <th>nb_true</th>\n",
       "      <th>count</th>\n",
       "      <th>nb_false</th>\n",
       "      <th>freq</th>\n",
       "    </tr>\n",
       "    <tr>\n",
       "      <th>tmp</th>\n",
       "      <th></th>\n",
       "      <th></th>\n",
       "      <th></th>\n",
       "      <th></th>\n",
       "    </tr>\n",
       "  </thead>\n",
       "  <tbody>\n",
       "    <tr>\n",
       "      <th>0</th>\n",
       "      <td>1667</td>\n",
       "      <td>4285</td>\n",
       "      <td>2618</td>\n",
       "      <td>0.389032</td>\n",
       "    </tr>\n",
       "    <tr>\n",
       "      <th>1</th>\n",
       "      <td>1134</td>\n",
       "      <td>2879</td>\n",
       "      <td>1745</td>\n",
       "      <td>0.393887</td>\n",
       "    </tr>\n",
       "    <tr>\n",
       "      <th>2</th>\n",
       "      <td>2637</td>\n",
       "      <td>7140</td>\n",
       "      <td>4503</td>\n",
       "      <td>0.369328</td>\n",
       "    </tr>\n",
       "    <tr>\n",
       "      <th>3</th>\n",
       "      <td>2944</td>\n",
       "      <td>7735</td>\n",
       "      <td>4791</td>\n",
       "      <td>0.380608</td>\n",
       "    </tr>\n",
       "    <tr>\n",
       "      <th>4</th>\n",
       "      <td>2785</td>\n",
       "      <td>7380</td>\n",
       "      <td>4595</td>\n",
       "      <td>0.377371</td>\n",
       "    </tr>\n",
       "    <tr>\n",
       "      <th>5</th>\n",
       "      <td>2796</td>\n",
       "      <td>7350</td>\n",
       "      <td>4554</td>\n",
       "      <td>0.380408</td>\n",
       "    </tr>\n",
       "    <tr>\n",
       "      <th>6</th>\n",
       "      <td>2688</td>\n",
       "      <td>7335</td>\n",
       "      <td>4647</td>\n",
       "      <td>0.366462</td>\n",
       "    </tr>\n",
       "  </tbody>\n",
       "</table>\n",
       "</div>"
      ],
      "text/plain": [
       "     nb_true  count  nb_false      freq\n",
       "tmp                                    \n",
       "0       1667   4285      2618  0.389032\n",
       "1       1134   2879      1745  0.393887\n",
       "2       2637   7140      4503  0.369328\n",
       "3       2944   7735      4791  0.380608\n",
       "4       2785   7380      4595  0.377371\n",
       "5       2796   7350      4554  0.380408\n",
       "6       2688   7335      4647  0.366462"
      ]
     },
     "execution_count": 159,
     "metadata": {},
     "output_type": "execute_result"
    }
   ],
   "source": [
    "tmp_working_feature = 'VAR_0073'\n",
    "working_feature = 'tmp'\n",
    "df[working_feature] = np.mod(df[tmp_working_feature], 7)\n",
    "df_working = pd.concat([df[df[tmp_working_feature] > -1][[working_feature, 'target']].replace(-1, np.nan).dropna().groupby(working_feature).sum(), df[df[tmp_working_feature] > -1][[working_feature, 'target']].replace(-1, np.nan).dropna().groupby(working_feature).count()], axis=1)\n",
    "df_working.columns = ['nb_true', 'count']\n",
    "#df_working['date_bucket'] = pd.cut(df_working.index, 100)\n",
    "df_working['nb_false'] = df_working['count'] - df_working['nb_true']\n",
    "df_working['freq'] = df_working['nb_true'] / df_working['count']\n",
    "#df_working[['date_bucket', 'nb_true', 'nb_false']].groupby('date_bucket').sum().plot(kind='bar', figsize=(40, 6), stacked=True, alpha=0.75)\n",
    "df_working"
   ]
  },
  {
   "cell_type": "code",
   "execution_count": null,
   "metadata": {
    "collapsed": true
   },
   "outputs": [],
   "source": []
  }
 ],
 "metadata": {
  "kernelspec": {
   "display_name": "Python 2",
   "language": "python",
   "name": "python2"
  },
  "language_info": {
   "codemirror_mode": {
    "name": "ipython",
    "version": 2
   },
   "file_extension": ".py",
   "mimetype": "text/x-python",
   "name": "python",
   "nbconvert_exporter": "python",
   "pygments_lexer": "ipython2",
   "version": "2.7.10"
  }
 },
 "nbformat": 4,
 "nbformat_minor": 0
}
