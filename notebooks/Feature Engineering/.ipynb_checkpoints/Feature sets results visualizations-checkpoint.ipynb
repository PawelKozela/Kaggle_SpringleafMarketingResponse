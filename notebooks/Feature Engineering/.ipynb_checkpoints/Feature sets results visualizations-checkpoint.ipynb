{
 "cells": [
  {
   "cell_type": "code",
   "execution_count": 9,
   "metadata": {
    "collapsed": true
   },
   "outputs": [],
   "source": [
    "import os, pickle"
   ]
  },
  {
   "cell_type": "code",
   "execution_count": 10,
   "metadata": {
    "collapsed": false
   },
   "outputs": [],
   "source": [
    "RESULTS_FILE = os.path.join(RESULTS_DIR, 'features_results.pickle')"
   ]
  },
  {
   "cell_type": "code",
   "execution_count": 11,
   "metadata": {
    "collapsed": true
   },
   "outputs": [],
   "source": [
    "results = pickle.load(open(RESULTS_FILE, 'rb'))"
   ]
  },
  {
   "cell_type": "code",
   "execution_count": 12,
   "metadata": {
    "collapsed": false,
    "scrolled": true
   },
   "outputs": [
    {
     "name": "stdout",
     "output_type": "stream",
     "text": [
      "Train_Standard {0: '0.78183', 1: '0.77891', 2: '0.78117'}\n",
      "Train_Standard_Norm {0: '0.77355', 1: '0.77283', 2: '0.77286'}\n",
      "Train_Standard_As_Float {0: '0.78183', 1: '0.77891', 2: '0.78117'}\n",
      "Train_Standard {0: '0.78183', 1: '0.77891', 2: '0.78117'}\n",
      "Train_Standard_wo_duplicates {0: '0.77995', 1: '0.78052', 2: '0.78001'}\n",
      "Train_Standard_wod_dates {0: '0.78066', 1: '0.78071', 2: '0.78027'}\n",
      "Train_Standard_with_dates {0: '0.78143', 1: '0.78064', 2: '0.78061'}\n",
      "Train_Dates_Only {0: '0.60529', 1: '0.60763', 2: '0.60627'}\n",
      "Train_Standard_One_Hot {0: '0.77933', 1: '0.77953', 2: '0.78040'}\n",
      "Train_Standard_One_Hot {0: '0.78022', 1: '0.78035', 2: '0.78086'}\n"
     ]
    }
   ],
   "source": [
    "for i, result in enumerate(results):\n",
    "    print result['feature_set'], result['results']"
   ]
  }
 ],
 "metadata": {
  "kernelspec": {
   "display_name": "Python 2",
   "language": "python",
   "name": "python2"
  },
  "language_info": {
   "codemirror_mode": {
    "name": "ipython",
    "version": 2
   },
   "file_extension": ".py",
   "mimetype": "text/x-python",
   "name": "python",
   "nbconvert_exporter": "python",
   "pygments_lexer": "ipython2",
   "version": "2.7.10"
  }
 },
 "nbformat": 4,
 "nbformat_minor": 0
}
