{
 "cells": [
  {
   "cell_type": "raw",
   "metadata": {},
   "source": [
    "Configuration"
   ]
  },
  {
   "cell_type": "code",
   "execution_count": 1,
   "metadata": {
    "collapsed": false
   },
   "outputs": [],
   "source": [
    "SUBMISSION = True\n",
    "\n",
    "from feature_engineering.transformers.current_working_feature_transformer import CurrentWorkingFeatureTransformer as FeatureTransformer\n",
    "FEATURE_SET = \"Current_Working\""
   ]
  },
  {
   "cell_type": "raw",
   "metadata": {},
   "source": [
    "Code to run"
   ]
  },
  {
   "cell_type": "code",
   "execution_count": null,
   "metadata": {
    "collapsed": false
   },
   "outputs": [],
   "source": [
    "DIR_PREFIX = \"\"\n",
    "FILE_PREFIX = \"\"\n",
    "\n",
    "if not SUBMISSION:\n",
    "    DIR_PREFIX = \"Train_\"\n",
    "    FILE_PREFIX = \"train_\"\n",
    "\n",
    "RAW_DATA_DIR = os.path.join(DATA_DIR,\"{}Raw\".format(DIR_PREFIX))\n",
    "\n",
    "TRAIN_FILENAME = '{}train_features.hf5'.format(FILE_PREFIX)\n",
    "if not SUBMISSION:\n",
    "    TEST_FILENAME = '{}validation_features.hf5'.format(FILE_PREFIX)\n",
    "else:\n",
    "    TEST_FILENAME = 'test_features.hf5'\n",
    "\n",
    "TARGET_DIRNAME = \"{}{}\".format(DIR_PREFIX, FEATURE_SET)"
   ]
  },
  {
   "cell_type": "code",
   "execution_count": null,
   "metadata": {
    "collapsed": false,
    "scrolled": false
   },
   "outputs": [
    {
     "name": "stdout",
     "output_type": "stream",
     "text": [
      "Converting to ratio VAR_0001\n",
      "Converting to ratio VAR_0005\n",
      "To Remove (not enough distinct values) VAR_0008\n",
      "To Remove (not enough distinct values) VAR_0009\n",
      "To Remove (not enough distinct values) VAR_0010\n",
      "To Remove (not enough distinct values) VAR_0011\n",
      "To Remove (not enough distinct values) VAR_0012\n",
      "To Remove (not enough distinct values) VAR_0018\n",
      "To Remove (not enough distinct values) VAR_0019\n",
      "To Remove (not enough distinct values) VAR_0020\n",
      "To Remove (not enough distinct values) VAR_0021\n",
      "To Remove (not enough distinct values) VAR_0022\n",
      "To Remove (not enough distinct values) VAR_0023\n",
      "To Remove (not enough distinct values) VAR_0024\n",
      "To Remove (not enough distinct values) VAR_0025\n",
      "To Remove (not enough distinct values) VAR_0026\n",
      "To Remove (not enough distinct values) VAR_0027\n",
      "To Remove (not enough distinct values) VAR_0028\n",
      "To Remove (not enough distinct values) VAR_0029\n",
      "To Remove (not enough distinct values) VAR_0030\n",
      "To Remove (not enough distinct values) VAR_0031\n",
      "To Remove (not enough distinct values) VAR_0032\n",
      "To Remove (not enough distinct values) VAR_0038\n",
      "To Remove (not enough distinct values) VAR_0039\n",
      "To Remove (not enough distinct values) VAR_0040\n",
      "To Remove (not enough distinct values) VAR_0041\n",
      "To Remove (not enough distinct values) VAR_0042\n",
      "To Remove (not enough distinct values) VAR_0043\n",
      "To Remove (not enough distinct values) VAR_0044\n",
      "To Remove (not enough distinct values) VAR_0045\n",
      "To Remove (not enough distinct values) VAR_0098\n",
      "To Remove (not enough distinct values) VAR_0099\n",
      "To Remove (not enough distinct values) VAR_0100\n",
      "To Remove (not enough distinct values) VAR_0106\n",
      "To Remove (not enough distinct values) VAR_0107\n",
      "To Remove (not enough distinct values) VAR_0108\n",
      "To Remove (not enough distinct values) VAR_0114\n",
      "To Remove (not enough distinct values) VAR_0115\n",
      "To Remove (not enough distinct values) VAR_0116\n",
      "To Remove (not enough distinct values) VAR_0130\n",
      "To Remove (not enough distinct values) VAR_0131\n",
      "To Remove (not enough distinct values) VAR_0132\n",
      "To Remove (not enough distinct values) VAR_0138\n",
      "To Remove (not enough distinct values) VAR_0139\n",
      "To Remove (not enough distinct values) VAR_0140\n",
      "To Remove (not enough distinct values) VAR_0153\n",
      "To Remove (not enough distinct values) VAR_0155\n",
      "To Remove (not enough distinct values) VAR_0180\n",
      "To Remove (not enough distinct values) VAR_0181\n",
      "To Remove (not enough distinct values) VAR_0182\n",
      "To Remove (not enough distinct values) VAR_0183\n",
      "To Remove (not enough distinct values) VAR_0188\n",
      "To Remove (not enough distinct values) VAR_0189\n",
      "To Remove (not enough distinct values) VAR_0190\n",
      "To Remove (not enough distinct values) VAR_0191\n",
      "To Remove (not enough distinct values) VAR_0192\n",
      "To Remove (not enough distinct values) VAR_0193\n",
      "To Remove (not enough distinct values) VAR_0194\n",
      "To Remove (not enough distinct values) VAR_0195\n",
      "To Remove (not enough distinct values) VAR_0196\n",
      "To Remove (not enough distinct values) VAR_0197\n",
      "To Remove (not enough distinct values) VAR_0199\n",
      "Converting to ratio VAR_0200\n",
      "To Remove (not enough distinct values) VAR_0202\n",
      "To Remove (not enough distinct values) VAR_0203\n",
      "To Remove (not enough distinct values) VAR_0207\n",
      "To Remove (too many distinct values) VAR_0212\n",
      "To Remove (not enough distinct values) VAR_0213\n",
      "To Remove (not enough distinct values) VAR_0214\n",
      "To Remove (not enough distinct values) VAR_0215\n",
      "To Remove (not enough distinct values) VAR_0216\n",
      "To Remove (not enough distinct values) VAR_0221\n",
      "To Remove (not enough distinct values) VAR_0222\n",
      "To Remove (not enough distinct values) VAR_0223\n",
      "To Remove (not enough distinct values) VAR_0226\n",
      "To Remove (too many distinct values) VAR_0227\n",
      "To Remove (too many distinct values) VAR_0228\n",
      "To Remove (not enough distinct values) VAR_0229\n",
      "To Remove (not enough distinct values) VAR_0230\n",
      "Converting to ratio"
     ]
    }
   ],
   "source": [
    "standard_transformer = FeatureTransformer(RAW_DATA_DIR, TRAIN_FILENAME, TEST_FILENAME)\n",
    "standard_transformer.transform_features()\n",
    "standard_transformer.save_features(os.path.join(DATA_DIR, TARGET_DIRNAME))"
   ]
  },
  {
   "cell_type": "code",
   "execution_count": null,
   "metadata": {
    "collapsed": true
   },
   "outputs": [],
   "source": []
  },
  {
   "cell_type": "code",
   "execution_count": null,
   "metadata": {
    "collapsed": true
   },
   "outputs": [],
   "source": []
  }
 ],
 "metadata": {
  "kernelspec": {
   "display_name": "Python 2",
   "language": "python",
   "name": "python2"
  },
  "language_info": {
   "codemirror_mode": {
    "name": "ipython",
    "version": 2
   },
   "file_extension": ".py",
   "mimetype": "text/x-python",
   "name": "python",
   "nbconvert_exporter": "python",
   "pygments_lexer": "ipython2",
   "version": "2.7.10"
  }
 },
 "nbformat": 4,
 "nbformat_minor": 0
}
