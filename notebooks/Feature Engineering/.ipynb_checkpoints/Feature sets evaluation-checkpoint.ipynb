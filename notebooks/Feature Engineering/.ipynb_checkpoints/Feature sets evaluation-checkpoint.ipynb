{
 "cells": [
  {
   "cell_type": "code",
   "execution_count": 2,
   "metadata": {
    "collapsed": false,
    "input_collapsed": false
   },
   "outputs": [],
   "source": [
    "import os, sys\n",
    "import numpy as np, pandas as pd\n",
    "\n",
    "sys.path.append('C:\\\\Users\\\\Pawel\\\\PycharmProjects\\\\Springleaf Marketing Response\\\\src')\n",
    "\n",
    "from feature_engineering.validators.fast_feature_set_validator import FastFeatureSetValidator"
   ]
  },
  {
   "cell_type": "code",
   "execution_count": 3,
   "metadata": {
    "collapsed": true,
    "input_collapsed": false
   },
   "outputs": [],
   "source": [
    "DATA_DIR = \"F:\\\\Pawel\\\\Kaggle\\\\Springleaf Marketing Response\\\\Data\"\n",
    "\n",
    "FEATURE_SET_RESULTS_DIR = \"F:\\\\Pawel\\\\Kaggle\\\\Springleaf Marketing Response\\\\Data\\\\Feature Set Results\""
   ]
  },
  {
   "cell_type": "code",
   "execution_count": 4,
   "metadata": {
    "collapsed": true
   },
   "outputs": [],
   "source": [
    "feature_set_validator = FastFeatureSetValidator(DATA_DIR, FEATURE_SET_RESULTS_DIR)"
   ]
  },
  {
   "cell_type": "code",
   "execution_count": 5,
   "metadata": {
    "collapsed": false
   },
   "outputs": [],
   "source": [
    "feature_sets = ['Train_Standard_wo_duplicates']#, 'Train_Standard_Norm']\n",
    "#feature_sets = ['Train_Standard_As_Float']"
   ]
  },
  {
   "cell_type": "code",
   "execution_count": 6,
   "metadata": {
    "collapsed": false
   },
   "outputs": [
    {
     "name": "stdout",
     "output_type": "stream",
     "text": [
      "{'feature_set': 'Train_Standard', 'timestmap': datetime.datetime(2015, 9, 30, 17, 55, 9, 347000), 'validator': 'FastFeatureValidator', 'results': {0: '0.78183', 1: '0.77891', 2: '0.78117'}}\n"
     ]
    }
   ],
   "source": [
    "for feature_set in feature_sets:\n",
    "    feature_set_validator.evaluate_feature_set(feature_set)"
   ]
  },
  {
   "cell_type": "code",
   "execution_count": null,
   "metadata": {
    "collapsed": true
   },
   "outputs": [],
   "source": []
  }
 ],
 "metadata": {
  "kernelspec": {
   "display_name": "Python 2",
   "language": "python",
   "name": "python2"
  },
  "language_info": {
   "codemirror_mode": {
    "name": "ipython",
    "version": 2
   },
   "file_extension": ".py",
   "mimetype": "text/x-python",
   "name": "python",
   "nbconvert_exporter": "python",
   "pygments_lexer": "ipython2",
   "version": "2.7.10"
  }
 },
 "nbformat": 4,
 "nbformat_minor": 0
}
