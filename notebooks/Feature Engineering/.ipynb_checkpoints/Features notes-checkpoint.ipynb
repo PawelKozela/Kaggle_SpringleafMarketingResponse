{
 "cells": [
  {
   "cell_type": "markdown",
   "metadata": {},
   "source": [
    "#  Notes on features"
   ]
  },
  {
   "cell_type": "raw",
   "metadata": {},
   "source": [
    "Date features:\n",
    "VAR_0073 => 30.4% (44104) non empty values\n",
    "VAR_0075 => 100.0% (145175) non empty values\n",
    "VAR_0156 => 4.0% (5870) non empty values\n",
    "VAR_0157 => 0.6% (920) non empty values\n",
    "VAR_0158 => 1.4% (2089) non empty values\n",
    "VAR_0159 => 4.0% (5870) non empty values\n",
    "VAR_0166 => 9.8% (14230) non empty values\n",
    "VAR_0167 => 1.8% (2567) non empty values\n",
    "VAR_0168 => 7.4% (10725) non empty values\n",
    "VAR_0169 => 9.8% (14230) non empty values\n",
    "VAR_0176 => 12.1% (17532) non empty values\n",
    "VAR_0177 => 2.3% (3358) non empty values\n",
    "VAR_0178 => 8.3% (12073) non empty values\n",
    "VAR_0179 => 12.1% (17532) non empty values\n",
    "VAR_0204 => 100.0% (145175) non empty values\n",
    "VAR_0217 => 100.0% (145175) non empty values"
   ]
  },
  {
   "cell_type": "code",
   "execution_count": null,
   "metadata": {
    "collapsed": true
   },
   "outputs": [],
   "source": []
  }
 ],
 "metadata": {
  "kernelspec": {
   "display_name": "Python 2",
   "language": "python",
   "name": "python2"
  },
  "language_info": {
   "codemirror_mode": {
    "name": "ipython",
    "version": 2
   },
   "file_extension": ".py",
   "mimetype": "text/x-python",
   "name": "python",
   "nbconvert_exporter": "python",
   "pygments_lexer": "ipython2",
   "version": "2.7.10"
  }
 },
 "nbformat": 4,
 "nbformat_minor": 0
}
