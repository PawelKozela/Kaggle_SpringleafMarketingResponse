{
 "cells": [
  {
   "cell_type": "raw",
   "metadata": {},
   "source": [
    "Configuration"
   ]
  },
  {
   "cell_type": "code",
   "execution_count": 1,
   "metadata": {
    "collapsed": true
   },
   "outputs": [],
   "source": [
    "PREDICTIONS_DIR = \"F:\\\\Pawel\\\\Kaggle\\\\Springleaf Marketing Response\\\\Data\\\\Model Predictions\"\n",
    "\n",
    "PREDICTIONS_FILE = \"xgboost_2015_10_19__20_16__Standard.hf5\"\n",
    "\n",
    "DESCRIPTION = \"Standard_Full\""
   ]
  },
  {
   "cell_type": "raw",
   "metadata": {},
   "source": [
    "Code"
   ]
  },
  {
   "cell_type": "code",
   "execution_count": 2,
   "metadata": {
    "collapsed": false
   },
   "outputs": [],
   "source": [
    "predictions = pd.read_hdf(os.path.join(PREDICTIONS_DIR, PREDICTIONS_FILE), 'data')\n",
    "\n",
    "predictions['ID'] = predictions.index\n",
    "\n",
    "today = datetime.now()\n",
    "predictions.to_csv(os.path.join(PREDICTIONS_DIR, 'predictions_{}_{}_{}__{}_{}__{}.csv'.format(today.year, today.month, today.day, today.hour, today.minute, DESCRIPTION)), columns=['ID', 'target'], index=False)"
   ]
  },
  {
   "cell_type": "code",
   "execution_count": null,
   "metadata": {
    "collapsed": true
   },
   "outputs": [],
   "source": []
  }
 ],
 "metadata": {
  "kernelspec": {
   "display_name": "Python 2",
   "language": "python",
   "name": "python2"
  },
  "language_info": {
   "codemirror_mode": {
    "name": "ipython",
    "version": 2
   },
   "file_extension": ".py",
   "mimetype": "text/x-python",
   "name": "python",
   "nbconvert_exporter": "python",
   "pygments_lexer": "ipython2",
   "version": "2.7.10"
  }
 },
 "nbformat": 4,
 "nbformat_minor": 0
}
